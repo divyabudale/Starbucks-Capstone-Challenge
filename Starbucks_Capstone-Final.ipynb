{
 "cells": [
  {
   "cell_type": "markdown",
   "metadata": {},
   "source": [
    "# Starbucks Capstone Challenge\n",
    "\n",
    "### Introduction\n",
    "\n",
    "This data set contains simulated data that mimics customer behavior on the Starbucks rewards mobile app. Once every few days, Starbucks sends out an offer to users of the mobile app. An offer can be merely an advertisement for a drink or an actual offer such as a discount or BOGO (buy one get one free). Some users might not receive any offer during certain weeks. \n",
    "\n",
    "Not all users receive the same offer, and that is the challenge to solve with this data set.\n",
    "\n",
    "Your task is to combine transaction, demographic and offer data to determine which demographic groups respond best to which offer type. This data set is a simplified version of the real Starbucks app because the underlying simulator only has one product whereas Starbucks actually sells dozens of products.\n",
    "\n",
    "Every offer has a validity period before the offer expires. As an example, a BOGO offer might be valid for only 5 days. You'll see in the data set that informational offers have a validity period even though these ads are merely providing information about a product; for example, if an informational offer has 7 days of validity, you can assume the customer is feeling the influence of the offer for 7 days after receiving the advertisement.\n",
    "\n",
    "You'll be given transactional data showing user purchases made on the app including the timestamp of purchase and the amount of money spent on a purchase. This transactional data also has a record for each offer that a user receives as well as a record for when a user actually views the offer. There are also records for when a user completes an offer. \n",
    "\n",
    "Keep in mind as well that someone using the app might make a purchase through the app without having received an offer or seen an offer.\n",
    "\n",
    "### Example\n",
    "\n",
    "To give an example, a user could receive a discount offer buy 10 dollars get 2 off on Monday. The offer is valid for 10 days from receipt. If the customer accumulates at least 10 dollars in purchases during the validity period, the customer completes the offer.\n",
    "\n",
    "However, there are a few things to watch out for in this data set. Customers do not opt into the offers that they receive; in other words, a user can receive an offer, never actually view the offer, and still complete the offer. For example, a user might receive the \"buy 10 dollars get 2 dollars off offer\", but the user never opens the offer during the 10 day validity period. The customer spends 15 dollars during those ten days. There will be an offer completion record in the data set; however, the customer was not influenced by the offer because the customer never viewed the offer.\n",
    "\n",
    "### Cleaning\n",
    "\n",
    "This makes data cleaning especially important and tricky.\n",
    "\n",
    "You'll also want to take into account that some demographic groups will make purchases even if they don't receive an offer. From a business perspective, if a customer is going to make a 10 dollar purchase without an offer anyway, you wouldn't want to send a buy 10 dollars get 2 dollars off offer. You'll want to try to assess what a certain demographic group will buy when not receiving any offers.\n",
    "\n",
    "### Final Advice\n",
    "\n",
    "Because this is a capstone project, you are free to analyze the data any way you see fit. For example, you could build a machine learning model that predicts how much someone will spend based on demographics and offer type. Or you could build a model that predicts whether or not someone will respond to an offer. Or, you don't need to build a machine learning model at all. You could develop a set of heuristics that determine what offer you should send to each customer (i.e., 75 percent of women customers who were 35 years old responded to offer A vs 40 percent from the same demographic to offer B, so send offer A)."
   ]
  },
  {
   "cell_type": "markdown",
   "metadata": {},
   "source": [
    "# Data Sets\n",
    "\n",
    "The data is contained in three files:\n",
    "\n",
    "* portfolio.json - containing offer ids and meta data about each offer (duration, type, etc.)\n",
    "* profile.json - demographic data for each customer\n",
    "* transcript.json - records for transactions, offers received, offers viewed, and offers completed\n",
    "\n",
    "Here is the schema and explanation of each variable in the files:\n",
    "\n",
    "**portfolio.json**\n",
    "* id (string) - offer id\n",
    "* offer_type (string) - type of offer ie BOGO, discount, informational\n",
    "* difficulty (int) - minimum required spend to complete an offer\n",
    "* reward (int) - reward given for completing an offer\n",
    "* duration (int) - time for offer to be open, in days\n",
    "* channels (list of strings)\n",
    "\n",
    "**profile.json**\n",
    "* age (int) - age of the customer \n",
    "* became_member_on (int) - date when customer created an app account\n",
    "* gender (str) - gender of the customer (note some entries contain 'O' for other rather than M or F)\n",
    "* id (str) - customer id\n",
    "* income (float) - customer's income\n",
    "\n",
    "**transcript.json**\n",
    "* event (str) - record description (ie transaction, offer received, offer viewed, etc.)\n",
    "* person (str) - customer id\n",
    "* time (int) - time in hours since start of test. The data begins at time t=0\n",
    "* value - (dict of strings) - either an offer id or transaction amount depending on the record\n",
    "\n",
    "**Note:** If you are using the workspace, you will need to go to the terminal and run the command `conda update pandas` before reading in the files. This is because the version of pandas in the workspace cannot read in the transcript.json file correctly, but the newest version of pandas can. You can access the termnal from the orange icon in the top left of this notebook.  \n",
    "\n",
    "You can see how to access the terminal and how the install works using the two images below.  First you need to access the terminal:\n",
    "\n",
    "<img src=\"pic1.png\"/>\n",
    "\n",
    "Then you will want to run the above command:\n",
    "\n",
    "<img src=\"pic2.png\"/>\n",
    "\n",
    "Finally, when you enter back into the notebook (use the jupyter icon again), you should be able to run the below cell without any errors."
   ]
  },
  {
   "cell_type": "code",
   "execution_count": 9,
   "metadata": {},
   "outputs": [],
   "source": [
    "import pandas as pd\n",
    "import numpy as np\n",
    "import json\n",
    "\n",
    "import matplotlib.pyplot as plt\n",
    "import seaborn as sns\n",
    "pd.options.display.max_columns = 128\n",
    "\n",
    "import plotly.graph_objs as go\n",
    "import plotly.offline as py\n",
    "import plotly.express as px\n",
    "\n",
    "from sklearn.model_selection import train_test_split, KFold\n",
    "from sklearn.ensemble import RandomForestClassifier\n",
    "import lightgbm as lgb\n",
    "import xgboost as xgb\n",
    "from sklearn.tree import DecisionTreeClassifier\n",
    "from sklearn.ensemble import AdaBoostClassifier\n",
    "from sklearn.ensemble import GradientBoostingClassifier\n",
    "from sklearn.metrics import mean_squared_error, f1_score, accuracy_score\n",
    "from sklearn.metrics import classification_report\n",
    "from sklearn.metrics import confusion_matrix\n",
    "import time"
   ]
  },
  {
   "cell_type": "code",
   "execution_count": 10,
   "metadata": {},
   "outputs": [],
   "source": [
    "# read in the json files\n",
    "portfolio = pd.read_json('data/portfolio.json', orient='records', lines=True)\n",
    "profile = pd.read_json('data/profile.json', orient='records', lines=True)\n",
    "transcript = pd.read_json('data/transcript.json', orient='records', lines=True)"
   ]
  },
  {
   "cell_type": "code",
   "execution_count": 11,
   "metadata": {},
   "outputs": [
    {
     "data": {
      "text/plain": [
       "((10, 6), (17000, 5), (306534, 4))"
      ]
     },
     "execution_count": 11,
     "metadata": {},
     "output_type": "execute_result"
    }
   ],
   "source": [
    "portfolio.shape, profile.shape, transcript.shape"
   ]
  },
  {
   "cell_type": "markdown",
   "metadata": {},
   "source": [
    "# Portfolio"
   ]
  },
  {
   "cell_type": "code",
   "execution_count": 12,
   "metadata": {},
   "outputs": [
    {
     "data": {
      "text/html": [
       "<div>\n",
       "<style scoped>\n",
       "    .dataframe tbody tr th:only-of-type {\n",
       "        vertical-align: middle;\n",
       "    }\n",
       "\n",
       "    .dataframe tbody tr th {\n",
       "        vertical-align: top;\n",
       "    }\n",
       "\n",
       "    .dataframe thead th {\n",
       "        text-align: right;\n",
       "    }\n",
       "</style>\n",
       "<table border=\"1\" class=\"dataframe\">\n",
       "  <thead>\n",
       "    <tr style=\"text-align: right;\">\n",
       "      <th></th>\n",
       "      <th>reward</th>\n",
       "      <th>channels</th>\n",
       "      <th>difficulty</th>\n",
       "      <th>duration</th>\n",
       "      <th>offer_type</th>\n",
       "      <th>id</th>\n",
       "    </tr>\n",
       "  </thead>\n",
       "  <tbody>\n",
       "    <tr>\n",
       "      <th>0</th>\n",
       "      <td>10</td>\n",
       "      <td>[email, mobile, social]</td>\n",
       "      <td>10</td>\n",
       "      <td>7</td>\n",
       "      <td>bogo</td>\n",
       "      <td>ae264e3637204a6fb9bb56bc8210ddfd</td>\n",
       "    </tr>\n",
       "    <tr>\n",
       "      <th>1</th>\n",
       "      <td>10</td>\n",
       "      <td>[web, email, mobile, social]</td>\n",
       "      <td>10</td>\n",
       "      <td>5</td>\n",
       "      <td>bogo</td>\n",
       "      <td>4d5c57ea9a6940dd891ad53e9dbe8da0</td>\n",
       "    </tr>\n",
       "    <tr>\n",
       "      <th>2</th>\n",
       "      <td>0</td>\n",
       "      <td>[web, email, mobile]</td>\n",
       "      <td>0</td>\n",
       "      <td>4</td>\n",
       "      <td>informational</td>\n",
       "      <td>3f207df678b143eea3cee63160fa8bed</td>\n",
       "    </tr>\n",
       "    <tr>\n",
       "      <th>3</th>\n",
       "      <td>5</td>\n",
       "      <td>[web, email, mobile]</td>\n",
       "      <td>5</td>\n",
       "      <td>7</td>\n",
       "      <td>bogo</td>\n",
       "      <td>9b98b8c7a33c4b65b9aebfe6a799e6d9</td>\n",
       "    </tr>\n",
       "    <tr>\n",
       "      <th>4</th>\n",
       "      <td>5</td>\n",
       "      <td>[web, email]</td>\n",
       "      <td>20</td>\n",
       "      <td>10</td>\n",
       "      <td>discount</td>\n",
       "      <td>0b1e1539f2cc45b7b9fa7c272da2e1d7</td>\n",
       "    </tr>\n",
       "  </tbody>\n",
       "</table>\n",
       "</div>"
      ],
      "text/plain": [
       "   reward                      channels  difficulty  duration     offer_type  \\\n",
       "0      10       [email, mobile, social]          10         7           bogo   \n",
       "1      10  [web, email, mobile, social]          10         5           bogo   \n",
       "2       0          [web, email, mobile]           0         4  informational   \n",
       "3       5          [web, email, mobile]           5         7           bogo   \n",
       "4       5                  [web, email]          20        10       discount   \n",
       "\n",
       "                                 id  \n",
       "0  ae264e3637204a6fb9bb56bc8210ddfd  \n",
       "1  4d5c57ea9a6940dd891ad53e9dbe8da0  \n",
       "2  3f207df678b143eea3cee63160fa8bed  \n",
       "3  9b98b8c7a33c4b65b9aebfe6a799e6d9  \n",
       "4  0b1e1539f2cc45b7b9fa7c272da2e1d7  "
      ]
     },
     "execution_count": 12,
     "metadata": {},
     "output_type": "execute_result"
    }
   ],
   "source": [
    "portfolio.head()"
   ]
  },
  {
   "cell_type": "code",
   "execution_count": 13,
   "metadata": {},
   "outputs": [
    {
     "data": {
      "text/plain": [
       "reward        0\n",
       "channels      0\n",
       "difficulty    0\n",
       "duration      0\n",
       "offer_type    0\n",
       "id            0\n",
       "dtype: int64"
      ]
     },
     "execution_count": 13,
     "metadata": {},
     "output_type": "execute_result"
    }
   ],
   "source": [
    "np.sum(portfolio.isnull())"
   ]
  },
  {
   "cell_type": "code",
   "execution_count": 14,
   "metadata": {},
   "outputs": [],
   "source": [
    "#split the channels into 4 columns - web, email, mobile, social\n",
    "portfolio['web'] = portfolio['channels'].apply(lambda x: 1 if 'web' in x else 0)\n",
    "portfolio['email'] = portfolio['channels'].apply(lambda x: 1 if 'email' in x else 0)\n",
    "portfolio['mobile'] = portfolio['channels'].apply(lambda x: 1 if 'mobile' in x else 0)\n",
    "portfolio['social'] = portfolio['channels'].apply(lambda x: 1 if 'social' in x else 0)\n",
    "portfolio = portfolio.drop(['channels'], axis=1)"
   ]
  },
  {
   "cell_type": "code",
   "execution_count": 15,
   "metadata": {},
   "outputs": [],
   "source": [
    "portfolio.rename(columns = {'id':'offer_id'}, inplace=True)"
   ]
  },
  {
   "cell_type": "code",
   "execution_count": 16,
   "metadata": {},
   "outputs": [
    {
     "data": {
      "text/html": [
       "<div>\n",
       "<style scoped>\n",
       "    .dataframe tbody tr th:only-of-type {\n",
       "        vertical-align: middle;\n",
       "    }\n",
       "\n",
       "    .dataframe tbody tr th {\n",
       "        vertical-align: top;\n",
       "    }\n",
       "\n",
       "    .dataframe thead th {\n",
       "        text-align: right;\n",
       "    }\n",
       "</style>\n",
       "<table border=\"1\" class=\"dataframe\">\n",
       "  <thead>\n",
       "    <tr style=\"text-align: right;\">\n",
       "      <th></th>\n",
       "      <th>reward</th>\n",
       "      <th>difficulty</th>\n",
       "      <th>duration</th>\n",
       "      <th>offer_type</th>\n",
       "      <th>offer_id</th>\n",
       "      <th>web</th>\n",
       "      <th>email</th>\n",
       "      <th>mobile</th>\n",
       "      <th>social</th>\n",
       "    </tr>\n",
       "  </thead>\n",
       "  <tbody>\n",
       "    <tr>\n",
       "      <th>0</th>\n",
       "      <td>10</td>\n",
       "      <td>10</td>\n",
       "      <td>7</td>\n",
       "      <td>bogo</td>\n",
       "      <td>ae264e3637204a6fb9bb56bc8210ddfd</td>\n",
       "      <td>0</td>\n",
       "      <td>1</td>\n",
       "      <td>1</td>\n",
       "      <td>1</td>\n",
       "    </tr>\n",
       "    <tr>\n",
       "      <th>1</th>\n",
       "      <td>10</td>\n",
       "      <td>10</td>\n",
       "      <td>5</td>\n",
       "      <td>bogo</td>\n",
       "      <td>4d5c57ea9a6940dd891ad53e9dbe8da0</td>\n",
       "      <td>1</td>\n",
       "      <td>1</td>\n",
       "      <td>1</td>\n",
       "      <td>1</td>\n",
       "    </tr>\n",
       "    <tr>\n",
       "      <th>2</th>\n",
       "      <td>0</td>\n",
       "      <td>0</td>\n",
       "      <td>4</td>\n",
       "      <td>informational</td>\n",
       "      <td>3f207df678b143eea3cee63160fa8bed</td>\n",
       "      <td>1</td>\n",
       "      <td>1</td>\n",
       "      <td>1</td>\n",
       "      <td>0</td>\n",
       "    </tr>\n",
       "    <tr>\n",
       "      <th>3</th>\n",
       "      <td>5</td>\n",
       "      <td>5</td>\n",
       "      <td>7</td>\n",
       "      <td>bogo</td>\n",
       "      <td>9b98b8c7a33c4b65b9aebfe6a799e6d9</td>\n",
       "      <td>1</td>\n",
       "      <td>1</td>\n",
       "      <td>1</td>\n",
       "      <td>0</td>\n",
       "    </tr>\n",
       "    <tr>\n",
       "      <th>4</th>\n",
       "      <td>5</td>\n",
       "      <td>20</td>\n",
       "      <td>10</td>\n",
       "      <td>discount</td>\n",
       "      <td>0b1e1539f2cc45b7b9fa7c272da2e1d7</td>\n",
       "      <td>1</td>\n",
       "      <td>1</td>\n",
       "      <td>0</td>\n",
       "      <td>0</td>\n",
       "    </tr>\n",
       "    <tr>\n",
       "      <th>5</th>\n",
       "      <td>3</td>\n",
       "      <td>7</td>\n",
       "      <td>7</td>\n",
       "      <td>discount</td>\n",
       "      <td>2298d6c36e964ae4a3e7e9706d1fb8c2</td>\n",
       "      <td>1</td>\n",
       "      <td>1</td>\n",
       "      <td>1</td>\n",
       "      <td>1</td>\n",
       "    </tr>\n",
       "    <tr>\n",
       "      <th>6</th>\n",
       "      <td>2</td>\n",
       "      <td>10</td>\n",
       "      <td>10</td>\n",
       "      <td>discount</td>\n",
       "      <td>fafdcd668e3743c1bb461111dcafc2a4</td>\n",
       "      <td>1</td>\n",
       "      <td>1</td>\n",
       "      <td>1</td>\n",
       "      <td>1</td>\n",
       "    </tr>\n",
       "    <tr>\n",
       "      <th>7</th>\n",
       "      <td>0</td>\n",
       "      <td>0</td>\n",
       "      <td>3</td>\n",
       "      <td>informational</td>\n",
       "      <td>5a8bc65990b245e5a138643cd4eb9837</td>\n",
       "      <td>0</td>\n",
       "      <td>1</td>\n",
       "      <td>1</td>\n",
       "      <td>1</td>\n",
       "    </tr>\n",
       "    <tr>\n",
       "      <th>8</th>\n",
       "      <td>5</td>\n",
       "      <td>5</td>\n",
       "      <td>5</td>\n",
       "      <td>bogo</td>\n",
       "      <td>f19421c1d4aa40978ebb69ca19b0e20d</td>\n",
       "      <td>1</td>\n",
       "      <td>1</td>\n",
       "      <td>1</td>\n",
       "      <td>1</td>\n",
       "    </tr>\n",
       "    <tr>\n",
       "      <th>9</th>\n",
       "      <td>2</td>\n",
       "      <td>10</td>\n",
       "      <td>7</td>\n",
       "      <td>discount</td>\n",
       "      <td>2906b810c7d4411798c6938adc9daaa5</td>\n",
       "      <td>1</td>\n",
       "      <td>1</td>\n",
       "      <td>1</td>\n",
       "      <td>0</td>\n",
       "    </tr>\n",
       "  </tbody>\n",
       "</table>\n",
       "</div>"
      ],
      "text/plain": [
       "   reward  difficulty  duration     offer_type  \\\n",
       "0      10          10         7           bogo   \n",
       "1      10          10         5           bogo   \n",
       "2       0           0         4  informational   \n",
       "3       5           5         7           bogo   \n",
       "4       5          20        10       discount   \n",
       "5       3           7         7       discount   \n",
       "6       2          10        10       discount   \n",
       "7       0           0         3  informational   \n",
       "8       5           5         5           bogo   \n",
       "9       2          10         7       discount   \n",
       "\n",
       "                           offer_id  web  email  mobile  social  \n",
       "0  ae264e3637204a6fb9bb56bc8210ddfd    0      1       1       1  \n",
       "1  4d5c57ea9a6940dd891ad53e9dbe8da0    1      1       1       1  \n",
       "2  3f207df678b143eea3cee63160fa8bed    1      1       1       0  \n",
       "3  9b98b8c7a33c4b65b9aebfe6a799e6d9    1      1       1       0  \n",
       "4  0b1e1539f2cc45b7b9fa7c272da2e1d7    1      1       0       0  \n",
       "5  2298d6c36e964ae4a3e7e9706d1fb8c2    1      1       1       1  \n",
       "6  fafdcd668e3743c1bb461111dcafc2a4    1      1       1       1  \n",
       "7  5a8bc65990b245e5a138643cd4eb9837    0      1       1       1  \n",
       "8  f19421c1d4aa40978ebb69ca19b0e20d    1      1       1       1  \n",
       "9  2906b810c7d4411798c6938adc9daaa5    1      1       1       0  "
      ]
     },
     "execution_count": 16,
     "metadata": {},
     "output_type": "execute_result"
    }
   ],
   "source": [
    "portfolio"
   ]
  },
  {
   "cell_type": "markdown",
   "metadata": {},
   "source": [
    "# Customer Profile"
   ]
  },
  {
   "cell_type": "code",
   "execution_count": 17,
   "metadata": {},
   "outputs": [
    {
     "data": {
      "text/html": [
       "<div>\n",
       "<style scoped>\n",
       "    .dataframe tbody tr th:only-of-type {\n",
       "        vertical-align: middle;\n",
       "    }\n",
       "\n",
       "    .dataframe tbody tr th {\n",
       "        vertical-align: top;\n",
       "    }\n",
       "\n",
       "    .dataframe thead th {\n",
       "        text-align: right;\n",
       "    }\n",
       "</style>\n",
       "<table border=\"1\" class=\"dataframe\">\n",
       "  <thead>\n",
       "    <tr style=\"text-align: right;\">\n",
       "      <th></th>\n",
       "      <th>gender</th>\n",
       "      <th>age</th>\n",
       "      <th>id</th>\n",
       "      <th>became_member_on</th>\n",
       "      <th>income</th>\n",
       "    </tr>\n",
       "  </thead>\n",
       "  <tbody>\n",
       "    <tr>\n",
       "      <th>0</th>\n",
       "      <td>None</td>\n",
       "      <td>118</td>\n",
       "      <td>68be06ca386d4c31939f3a4f0e3dd783</td>\n",
       "      <td>20170212</td>\n",
       "      <td>NaN</td>\n",
       "    </tr>\n",
       "    <tr>\n",
       "      <th>1</th>\n",
       "      <td>F</td>\n",
       "      <td>55</td>\n",
       "      <td>0610b486422d4921ae7d2bf64640c50b</td>\n",
       "      <td>20170715</td>\n",
       "      <td>112000.0</td>\n",
       "    </tr>\n",
       "    <tr>\n",
       "      <th>2</th>\n",
       "      <td>None</td>\n",
       "      <td>118</td>\n",
       "      <td>38fe809add3b4fcf9315a9694bb96ff5</td>\n",
       "      <td>20180712</td>\n",
       "      <td>NaN</td>\n",
       "    </tr>\n",
       "    <tr>\n",
       "      <th>3</th>\n",
       "      <td>F</td>\n",
       "      <td>75</td>\n",
       "      <td>78afa995795e4d85b5d9ceeca43f5fef</td>\n",
       "      <td>20170509</td>\n",
       "      <td>100000.0</td>\n",
       "    </tr>\n",
       "    <tr>\n",
       "      <th>4</th>\n",
       "      <td>None</td>\n",
       "      <td>118</td>\n",
       "      <td>a03223e636434f42ac4c3df47e8bac43</td>\n",
       "      <td>20170804</td>\n",
       "      <td>NaN</td>\n",
       "    </tr>\n",
       "  </tbody>\n",
       "</table>\n",
       "</div>"
      ],
      "text/plain": [
       "  gender  age                                id  became_member_on    income\n",
       "0   None  118  68be06ca386d4c31939f3a4f0e3dd783          20170212       NaN\n",
       "1      F   55  0610b486422d4921ae7d2bf64640c50b          20170715  112000.0\n",
       "2   None  118  38fe809add3b4fcf9315a9694bb96ff5          20180712       NaN\n",
       "3      F   75  78afa995795e4d85b5d9ceeca43f5fef          20170509  100000.0\n",
       "4   None  118  a03223e636434f42ac4c3df47e8bac43          20170804       NaN"
      ]
     },
     "execution_count": 17,
     "metadata": {},
     "output_type": "execute_result"
    }
   ],
   "source": [
    "profile.head()"
   ]
  },
  {
   "cell_type": "code",
   "execution_count": 18,
   "metadata": {},
   "outputs": [
    {
     "data": {
      "text/plain": [
       "gender              2175\n",
       "age                    0\n",
       "id                     0\n",
       "became_member_on       0\n",
       "income              2175\n",
       "dtype: int64"
      ]
     },
     "execution_count": 18,
     "metadata": {},
     "output_type": "execute_result"
    }
   ],
   "source": [
    "np.sum(profile.isnull())"
   ]
  },
  {
   "cell_type": "code",
   "execution_count": 19,
   "metadata": {},
   "outputs": [
    {
     "data": {
      "text/plain": [
       "M      49.905882\n",
       "F      36.052941\n",
       "NaN    12.794118\n",
       "O       1.247059\n",
       "Name: gender, dtype: float64"
      ]
     },
     "execution_count": 19,
     "metadata": {},
     "output_type": "execute_result"
    }
   ],
   "source": [
    "profile[\"gender\"].value_counts(dropna=False, normalize=True)*100"
   ]
  },
  {
   "cell_type": "code",
   "execution_count": 20,
   "metadata": {},
   "outputs": [
    {
     "data": {
      "image/png": "[encoded data removed]",
      "text/plain": [
       "<Figure size 432x288 with 1 Axes>"
      ]
     },
     "metadata": {
      "needs_background": "light"
     },
     "output_type": "display_data"
    }
   ],
   "source": [
    "profile['age'].plot(kind='hist');"
   ]
  },
  {
   "cell_type": "markdown",
   "metadata": {},
   "source": [
    "There is an outlier on the age variable "
   ]
  },
  {
   "cell_type": "code",
   "execution_count": 21,
   "metadata": {},
   "outputs": [],
   "source": [
    "#extract membership age, day, weekday, month and year from become_member_on\n",
    "profile['membership_start_date'] = pd.to_datetime(profile['became_member_on'], format = '%Y%m%d')\n",
    "profile['mem_start_day'] = np.uint8(profile['membership_start_date'].dt.day)\n",
    "profile['mem_start_weekday'] = profile['membership_start_date'].dt.dayofweek\n",
    "profile['mem_start_month'] = np.uint8(profile['membership_start_date'].dt.month)\n",
    "profile['mem_start_year'] = profile['membership_start_date'].dt.year"
   ]
  },
  {
   "cell_type": "code",
   "execution_count": 22,
   "metadata": {},
   "outputs": [
    {
     "data": {
      "text/html": [
       "<div>\n",
       "<style scoped>\n",
       "    .dataframe tbody tr th:only-of-type {\n",
       "        vertical-align: middle;\n",
       "    }\n",
       "\n",
       "    .dataframe tbody tr th {\n",
       "        vertical-align: top;\n",
       "    }\n",
       "\n",
       "    .dataframe thead th {\n",
       "        text-align: right;\n",
       "    }\n",
       "</style>\n",
       "<table border=\"1\" class=\"dataframe\">\n",
       "  <thead>\n",
       "    <tr style=\"text-align: right;\">\n",
       "      <th></th>\n",
       "      <th>gender</th>\n",
       "      <th>age</th>\n",
       "      <th>id</th>\n",
       "      <th>became_member_on</th>\n",
       "      <th>income</th>\n",
       "      <th>membership_start_date</th>\n",
       "      <th>mem_start_day</th>\n",
       "      <th>mem_start_weekday</th>\n",
       "      <th>mem_start_month</th>\n",
       "      <th>mem_start_year</th>\n",
       "      <th>membership_age</th>\n",
       "    </tr>\n",
       "  </thead>\n",
       "  <tbody>\n",
       "    <tr>\n",
       "      <th>0</th>\n",
       "      <td>None</td>\n",
       "      <td>118</td>\n",
       "      <td>68be06ca386d4c31939f3a4f0e3dd783</td>\n",
       "      <td>20170212</td>\n",
       "      <td>NaN</td>\n",
       "      <td>2017-02-12</td>\n",
       "      <td>12</td>\n",
       "      <td>6</td>\n",
       "      <td>2</td>\n",
       "      <td>2017</td>\n",
       "      <td>45.2</td>\n",
       "    </tr>\n",
       "    <tr>\n",
       "      <th>1</th>\n",
       "      <td>F</td>\n",
       "      <td>55</td>\n",
       "      <td>0610b486422d4921ae7d2bf64640c50b</td>\n",
       "      <td>20170715</td>\n",
       "      <td>112000.0</td>\n",
       "      <td>2017-07-15</td>\n",
       "      <td>15</td>\n",
       "      <td>5</td>\n",
       "      <td>7</td>\n",
       "      <td>2017</td>\n",
       "      <td>40.2</td>\n",
       "    </tr>\n",
       "    <tr>\n",
       "      <th>2</th>\n",
       "      <td>None</td>\n",
       "      <td>118</td>\n",
       "      <td>38fe809add3b4fcf9315a9694bb96ff5</td>\n",
       "      <td>20180712</td>\n",
       "      <td>NaN</td>\n",
       "      <td>2018-07-12</td>\n",
       "      <td>12</td>\n",
       "      <td>3</td>\n",
       "      <td>7</td>\n",
       "      <td>2018</td>\n",
       "      <td>28.3</td>\n",
       "    </tr>\n",
       "    <tr>\n",
       "      <th>3</th>\n",
       "      <td>F</td>\n",
       "      <td>75</td>\n",
       "      <td>78afa995795e4d85b5d9ceeca43f5fef</td>\n",
       "      <td>20170509</td>\n",
       "      <td>100000.0</td>\n",
       "      <td>2017-05-09</td>\n",
       "      <td>9</td>\n",
       "      <td>1</td>\n",
       "      <td>5</td>\n",
       "      <td>2017</td>\n",
       "      <td>42.4</td>\n",
       "    </tr>\n",
       "    <tr>\n",
       "      <th>4</th>\n",
       "      <td>None</td>\n",
       "      <td>118</td>\n",
       "      <td>a03223e636434f42ac4c3df47e8bac43</td>\n",
       "      <td>20170804</td>\n",
       "      <td>NaN</td>\n",
       "      <td>2017-08-04</td>\n",
       "      <td>4</td>\n",
       "      <td>4</td>\n",
       "      <td>8</td>\n",
       "      <td>2017</td>\n",
       "      <td>39.6</td>\n",
       "    </tr>\n",
       "  </tbody>\n",
       "</table>\n",
       "</div>"
      ],
      "text/plain": [
       "  gender  age                                id  became_member_on    income  \\\n",
       "0   None  118  68be06ca386d4c31939f3a4f0e3dd783          20170212       NaN   \n",
       "1      F   55  0610b486422d4921ae7d2bf64640c50b          20170715  112000.0   \n",
       "2   None  118  38fe809add3b4fcf9315a9694bb96ff5          20180712       NaN   \n",
       "3      F   75  78afa995795e4d85b5d9ceeca43f5fef          20170509  100000.0   \n",
       "4   None  118  a03223e636434f42ac4c3df47e8bac43          20170804       NaN   \n",
       "\n",
       "  membership_start_date  mem_start_day  mem_start_weekday  mem_start_month  \\\n",
       "0            2017-02-12             12                  6                2   \n",
       "1            2017-07-15             15                  5                7   \n",
       "2            2018-07-12             12                  3                7   \n",
       "3            2017-05-09              9                  1                5   \n",
       "4            2017-08-04              4                  4                8   \n",
       "\n",
       "   mem_start_year  membership_age  \n",
       "0            2017            45.2  \n",
       "1            2017            40.2  \n",
       "2            2018            28.3  \n",
       "3            2017            42.4  \n",
       "4            2017            39.6  "
      ]
     },
     "execution_count": 22,
     "metadata": {},
     "output_type": "execute_result"
    }
   ],
   "source": [
    "profile['membership_age'] = round((pd.datetime.now() - profile['membership_start_date']).dt.days/365*12, 1)\n",
    "profile.head()"
   ]
  },
  {
   "cell_type": "code",
   "execution_count": 23,
   "metadata": {},
   "outputs": [],
   "source": [
    "profile = profile.drop(['became_member_on','membership_start_date'], axis=1)"
   ]
  },
  {
   "cell_type": "code",
   "execution_count": 24,
   "metadata": {},
   "outputs": [
    {
     "data": {
      "text/html": [
       "<div>\n",
       "<style scoped>\n",
       "    .dataframe tbody tr th:only-of-type {\n",
       "        vertical-align: middle;\n",
       "    }\n",
       "\n",
       "    .dataframe tbody tr th {\n",
       "        vertical-align: top;\n",
       "    }\n",
       "\n",
       "    .dataframe thead th {\n",
       "        text-align: right;\n",
       "    }\n",
       "</style>\n",
       "<table border=\"1\" class=\"dataframe\">\n",
       "  <thead>\n",
       "    <tr style=\"text-align: right;\">\n",
       "      <th></th>\n",
       "      <th>gender</th>\n",
       "      <th>age</th>\n",
       "      <th>cust_id</th>\n",
       "      <th>income</th>\n",
       "      <th>mem_start_day</th>\n",
       "      <th>mem_start_weekday</th>\n",
       "      <th>mem_start_month</th>\n",
       "      <th>mem_start_year</th>\n",
       "      <th>membership_age</th>\n",
       "    </tr>\n",
       "  </thead>\n",
       "  <tbody>\n",
       "    <tr>\n",
       "      <th>0</th>\n",
       "      <td>None</td>\n",
       "      <td>118</td>\n",
       "      <td>68be06ca386d4c31939f3a4f0e3dd783</td>\n",
       "      <td>NaN</td>\n",
       "      <td>12</td>\n",
       "      <td>6</td>\n",
       "      <td>2</td>\n",
       "      <td>2017</td>\n",
       "      <td>45.2</td>\n",
       "    </tr>\n",
       "    <tr>\n",
       "      <th>1</th>\n",
       "      <td>F</td>\n",
       "      <td>55</td>\n",
       "      <td>0610b486422d4921ae7d2bf64640c50b</td>\n",
       "      <td>112000.0</td>\n",
       "      <td>15</td>\n",
       "      <td>5</td>\n",
       "      <td>7</td>\n",
       "      <td>2017</td>\n",
       "      <td>40.2</td>\n",
       "    </tr>\n",
       "    <tr>\n",
       "      <th>2</th>\n",
       "      <td>None</td>\n",
       "      <td>118</td>\n",
       "      <td>38fe809add3b4fcf9315a9694bb96ff5</td>\n",
       "      <td>NaN</td>\n",
       "      <td>12</td>\n",
       "      <td>3</td>\n",
       "      <td>7</td>\n",
       "      <td>2018</td>\n",
       "      <td>28.3</td>\n",
       "    </tr>\n",
       "    <tr>\n",
       "      <th>3</th>\n",
       "      <td>F</td>\n",
       "      <td>75</td>\n",
       "      <td>78afa995795e4d85b5d9ceeca43f5fef</td>\n",
       "      <td>100000.0</td>\n",
       "      <td>9</td>\n",
       "      <td>1</td>\n",
       "      <td>5</td>\n",
       "      <td>2017</td>\n",
       "      <td>42.4</td>\n",
       "    </tr>\n",
       "    <tr>\n",
       "      <th>4</th>\n",
       "      <td>None</td>\n",
       "      <td>118</td>\n",
       "      <td>a03223e636434f42ac4c3df47e8bac43</td>\n",
       "      <td>NaN</td>\n",
       "      <td>4</td>\n",
       "      <td>4</td>\n",
       "      <td>8</td>\n",
       "      <td>2017</td>\n",
       "      <td>39.6</td>\n",
       "    </tr>\n",
       "  </tbody>\n",
       "</table>\n",
       "</div>"
      ],
      "text/plain": [
       "  gender  age                           cust_id    income  mem_start_day  \\\n",
       "0   None  118  68be06ca386d4c31939f3a4f0e3dd783       NaN             12   \n",
       "1      F   55  0610b486422d4921ae7d2bf64640c50b  112000.0             15   \n",
       "2   None  118  38fe809add3b4fcf9315a9694bb96ff5       NaN             12   \n",
       "3      F   75  78afa995795e4d85b5d9ceeca43f5fef  100000.0              9   \n",
       "4   None  118  a03223e636434f42ac4c3df47e8bac43       NaN              4   \n",
       "\n",
       "   mem_start_weekday  mem_start_month  mem_start_year  membership_age  \n",
       "0                  6                2            2017            45.2  \n",
       "1                  5                7            2017            40.2  \n",
       "2                  3                7            2018            28.3  \n",
       "3                  1                5            2017            42.4  \n",
       "4                  4                8            2017            39.6  "
      ]
     },
     "execution_count": 24,
     "metadata": {},
     "output_type": "execute_result"
    }
   ],
   "source": [
    "profile.rename(columns={'id':'cust_id'}, inplace=True)\n",
    "profile.head()"
   ]
  },
  {
   "cell_type": "code",
   "execution_count": 25,
   "metadata": {},
   "outputs": [
    {
     "name": "stdout",
     "output_type": "stream",
     "text": [
      "Total number of user profiles: 17000\n"
     ]
    }
   ],
   "source": [
    "print('Total number of user profiles:',profile['cust_id'].nunique())"
   ]
  },
  {
   "cell_type": "code",
   "execution_count": 26,
   "metadata": {},
   "outputs": [
    {
     "name": "stdout",
     "output_type": "stream",
     "text": [
      "Total number of user profiles with transaction 17000\n"
     ]
    }
   ],
   "source": [
    "print('Total number of user profiles with transaction',transcript['person'].nunique())"
   ]
  },
  {
   "cell_type": "code",
   "execution_count": 27,
   "metadata": {},
   "outputs": [],
   "source": [
    "male = profile[profile['gender']=='M']\n",
    "female = profile[profile['gender']=='F']\n",
    "other = profile[profile['gender']=='O']"
   ]
  },
  {
   "cell_type": "code",
   "execution_count": 28,
   "metadata": {},
   "outputs": [
    {
     "data": {
      "image/png": "[encoded data removed]",
      "text/plain": [
       "<Figure size 1440x720 with 4 Axes>"
      ]
     },
     "metadata": {
      "needs_background": "light"
     },
     "output_type": "display_data"
    }
   ],
   "source": [
    "plt.figure(figsize=(20, 10));\n",
    "plt.subplot(2, 2, 1)\n",
    "male['income'].plot(kind='hist', title = 'Male Income', color='blue');\n",
    "plt.axvline(male.income.mean(), color='k', linestyle='dashed', linewidth=2);\n",
    "\n",
    "plt.subplot(2, 2, 2)\n",
    "female['income'].plot(kind='hist', title = 'Female Income', color = 'orange');\n",
    "plt.axvline(female.income.mean(), color='k', linestyle='dashed', linewidth=2);\n",
    "\n",
    "plt.subplot(2, 2, 3)\n",
    "male['age'].plot(kind='hist', title = 'Male Age', color = 'blue');\n",
    "plt.axvline(male.age.mean(), color='k', linestyle='dashed', linewidth=2);\n",
    "\n",
    "plt.subplot(2, 2, 4)\n",
    "female['age'].plot(kind='hist', title = 'Female Age', color = 'blue');\n",
    "plt.axvline(female.age.mean(), color='k', linestyle='dashed', linewidth=2);"
   ]
  },
  {
   "cell_type": "markdown",
   "metadata": {},
   "source": [
    "It can be the seen that the minimum and maximum wage for male and female are the same \n",
    "but the male income starts flattening out towards high income.\n",
    "Also, the average for the female income is greater than than the male income as seen from the dashed line"
   ]
  },
  {
   "cell_type": "code",
   "execution_count": 29,
   "metadata": {},
   "outputs": [
    {
     "data": {
      "text/plain": [
       "<matplotlib.axes._subplots.AxesSubplot at 0x1b1e6a8b080>"
      ]
     },
     "execution_count": 29,
     "metadata": {},
     "output_type": "execute_result"
    },
    {
     "data": {
      "image/png": "[encoded data removed]",
      "text/plain": [
       "<Figure size 432x288 with 1 Axes>"
      ]
     },
     "metadata": {
      "needs_background": "light"
     },
     "output_type": "display_data"
    }
   ],
   "source": [
    "gender_count = profile[profile['gender']!='O'].groupby(['gender','mem_start_year','mem_start_month','mem_start_day','mem_start_weekday']).agg({'cust_id':'count'}).reset_index()\n",
    "sns.barplot(x='mem_start_year', y='cust_id', hue = 'gender', data = gender_count)"
   ]
  },
  {
   "cell_type": "markdown",
   "metadata": {},
   "source": [
    "membership has increased over the years. Also, male membership is greater than the female membership every year"
   ]
  },
  {
   "cell_type": "markdown",
   "metadata": {},
   "source": [
    "# Transcript"
   ]
  },
  {
   "cell_type": "code",
   "execution_count": 30,
   "metadata": {},
   "outputs": [
    {
     "data": {
      "text/html": [
       "<div>\n",
       "<style scoped>\n",
       "    .dataframe tbody tr th:only-of-type {\n",
       "        vertical-align: middle;\n",
       "    }\n",
       "\n",
       "    .dataframe tbody tr th {\n",
       "        vertical-align: top;\n",
       "    }\n",
       "\n",
       "    .dataframe thead th {\n",
       "        text-align: right;\n",
       "    }\n",
       "</style>\n",
       "<table border=\"1\" class=\"dataframe\">\n",
       "  <thead>\n",
       "    <tr style=\"text-align: right;\">\n",
       "      <th></th>\n",
       "      <th>person</th>\n",
       "      <th>event</th>\n",
       "      <th>value</th>\n",
       "      <th>time</th>\n",
       "    </tr>\n",
       "  </thead>\n",
       "  <tbody>\n",
       "    <tr>\n",
       "      <th>0</th>\n",
       "      <td>78afa995795e4d85b5d9ceeca43f5fef</td>\n",
       "      <td>offer received</td>\n",
       "      <td>{'offer id': '9b98b8c7a33c4b65b9aebfe6a799e6d9'}</td>\n",
       "      <td>0</td>\n",
       "    </tr>\n",
       "    <tr>\n",
       "      <th>1</th>\n",
       "      <td>a03223e636434f42ac4c3df47e8bac43</td>\n",
       "      <td>offer received</td>\n",
       "      <td>{'offer id': '0b1e1539f2cc45b7b9fa7c272da2e1d7'}</td>\n",
       "      <td>0</td>\n",
       "    </tr>\n",
       "    <tr>\n",
       "      <th>2</th>\n",
       "      <td>e2127556f4f64592b11af22de27a7932</td>\n",
       "      <td>offer received</td>\n",
       "      <td>{'offer id': '2906b810c7d4411798c6938adc9daaa5'}</td>\n",
       "      <td>0</td>\n",
       "    </tr>\n",
       "    <tr>\n",
       "      <th>3</th>\n",
       "      <td>8ec6ce2a7e7949b1bf142def7d0e0586</td>\n",
       "      <td>offer received</td>\n",
       "      <td>{'offer id': 'fafdcd668e3743c1bb461111dcafc2a4'}</td>\n",
       "      <td>0</td>\n",
       "    </tr>\n",
       "    <tr>\n",
       "      <th>4</th>\n",
       "      <td>68617ca6246f4fbc85e91a2a49552598</td>\n",
       "      <td>offer received</td>\n",
       "      <td>{'offer id': '4d5c57ea9a6940dd891ad53e9dbe8da0'}</td>\n",
       "      <td>0</td>\n",
       "    </tr>\n",
       "  </tbody>\n",
       "</table>\n",
       "</div>"
      ],
      "text/plain": [
       "                             person           event  \\\n",
       "0  78afa995795e4d85b5d9ceeca43f5fef  offer received   \n",
       "1  a03223e636434f42ac4c3df47e8bac43  offer received   \n",
       "2  e2127556f4f64592b11af22de27a7932  offer received   \n",
       "3  8ec6ce2a7e7949b1bf142def7d0e0586  offer received   \n",
       "4  68617ca6246f4fbc85e91a2a49552598  offer received   \n",
       "\n",
       "                                              value  time  \n",
       "0  {'offer id': '9b98b8c7a33c4b65b9aebfe6a799e6d9'}     0  \n",
       "1  {'offer id': '0b1e1539f2cc45b7b9fa7c272da2e1d7'}     0  \n",
       "2  {'offer id': '2906b810c7d4411798c6938adc9daaa5'}     0  \n",
       "3  {'offer id': 'fafdcd668e3743c1bb461111dcafc2a4'}     0  \n",
       "4  {'offer id': '4d5c57ea9a6940dd891ad53e9dbe8da0'}     0  "
      ]
     },
     "execution_count": 30,
     "metadata": {},
     "output_type": "execute_result"
    }
   ],
   "source": [
    "transcript.head()"
   ]
  },
  {
   "cell_type": "code",
   "execution_count": 31,
   "metadata": {},
   "outputs": [
    {
     "data": {
      "text/plain": [
       "person    0\n",
       "event     0\n",
       "value     0\n",
       "time      0\n",
       "dtype: int64"
      ]
     },
     "execution_count": 31,
     "metadata": {},
     "output_type": "execute_result"
    }
   ],
   "source": [
    "np.sum(transcript.isnull())"
   ]
  },
  {
   "cell_type": "code",
   "execution_count": 32,
   "metadata": {},
   "outputs": [
    {
     "data": {
      "text/plain": [
       "transaction        138953\n",
       "offer received      76277\n",
       "offer viewed        57725\n",
       "offer completed     33579\n",
       "Name: event, dtype: int64"
      ]
     },
     "execution_count": 32,
     "metadata": {},
     "output_type": "execute_result"
    }
   ],
   "source": [
    "transcript.event.value_counts(dropna=False)"
   ]
  },
  {
   "cell_type": "code",
   "execution_count": 33,
   "metadata": {},
   "outputs": [],
   "source": [
    "#filtering since it runs for couple of mins\n",
    "#extracting data from the value field\n",
    "#transcript_value = transcript['value'].apply(pd.Series)"
   ]
  },
  {
   "cell_type": "code",
   "execution_count": 34,
   "metadata": {},
   "outputs": [],
   "source": [
    "transcript_value = pd.read_csv('transacript_value.csv')"
   ]
  },
  {
   "cell_type": "code",
   "execution_count": 35,
   "metadata": {},
   "outputs": [
    {
     "data": {
      "text/html": [
       "<div>\n",
       "<style scoped>\n",
       "    .dataframe tbody tr th:only-of-type {\n",
       "        vertical-align: middle;\n",
       "    }\n",
       "\n",
       "    .dataframe tbody tr th {\n",
       "        vertical-align: top;\n",
       "    }\n",
       "\n",
       "    .dataframe thead th {\n",
       "        text-align: right;\n",
       "    }\n",
       "</style>\n",
       "<table border=\"1\" class=\"dataframe\">\n",
       "  <thead>\n",
       "    <tr style=\"text-align: right;\">\n",
       "      <th></th>\n",
       "      <th>offer id</th>\n",
       "      <th>amount</th>\n",
       "      <th>offer_id</th>\n",
       "      <th>reward</th>\n",
       "    </tr>\n",
       "  </thead>\n",
       "  <tbody>\n",
       "    <tr>\n",
       "      <th>0</th>\n",
       "      <td>9b98b8c7a33c4b65b9aebfe6a799e6d9</td>\n",
       "      <td>NaN</td>\n",
       "      <td>NaN</td>\n",
       "      <td>NaN</td>\n",
       "    </tr>\n",
       "    <tr>\n",
       "      <th>1</th>\n",
       "      <td>0b1e1539f2cc45b7b9fa7c272da2e1d7</td>\n",
       "      <td>NaN</td>\n",
       "      <td>NaN</td>\n",
       "      <td>NaN</td>\n",
       "    </tr>\n",
       "    <tr>\n",
       "      <th>2</th>\n",
       "      <td>2906b810c7d4411798c6938adc9daaa5</td>\n",
       "      <td>NaN</td>\n",
       "      <td>NaN</td>\n",
       "      <td>NaN</td>\n",
       "    </tr>\n",
       "    <tr>\n",
       "      <th>3</th>\n",
       "      <td>fafdcd668e3743c1bb461111dcafc2a4</td>\n",
       "      <td>NaN</td>\n",
       "      <td>NaN</td>\n",
       "      <td>NaN</td>\n",
       "    </tr>\n",
       "    <tr>\n",
       "      <th>4</th>\n",
       "      <td>4d5c57ea9a6940dd891ad53e9dbe8da0</td>\n",
       "      <td>NaN</td>\n",
       "      <td>NaN</td>\n",
       "      <td>NaN</td>\n",
       "    </tr>\n",
       "  </tbody>\n",
       "</table>\n",
       "</div>"
      ],
      "text/plain": [
       "                           offer id  amount offer_id  reward\n",
       "0  9b98b8c7a33c4b65b9aebfe6a799e6d9     NaN      NaN     NaN\n",
       "1  0b1e1539f2cc45b7b9fa7c272da2e1d7     NaN      NaN     NaN\n",
       "2  2906b810c7d4411798c6938adc9daaa5     NaN      NaN     NaN\n",
       "3  fafdcd668e3743c1bb461111dcafc2a4     NaN      NaN     NaN\n",
       "4  4d5c57ea9a6940dd891ad53e9dbe8da0     NaN      NaN     NaN"
      ]
     },
     "execution_count": 35,
     "metadata": {},
     "output_type": "execute_result"
    }
   ],
   "source": [
    "transcript_value.drop(['Unnamed: 0'], axis=1,inplace=True)\n",
    "transcript_value.head()"
   ]
  },
  {
   "cell_type": "code",
   "execution_count": 36,
   "metadata": {},
   "outputs": [],
   "source": [
    "#cleaning up the offer id\n",
    "transcript_value['offer_id_new']=np.where(transcript_value['offer id'].isnull() & transcript_value['offer_id'].notnull(),\\\n",
    "                                          transcript_value['offer_id'],\n",
    "                                          transcript_value['offer id']\n",
    "                                         )"
   ]
  },
  {
   "cell_type": "code",
   "execution_count": 37,
   "metadata": {},
   "outputs": [
    {
     "data": {
      "text/html": [
       "<div>\n",
       "<style scoped>\n",
       "    .dataframe tbody tr th:only-of-type {\n",
       "        vertical-align: middle;\n",
       "    }\n",
       "\n",
       "    .dataframe tbody tr th {\n",
       "        vertical-align: top;\n",
       "    }\n",
       "\n",
       "    .dataframe thead th {\n",
       "        text-align: right;\n",
       "    }\n",
       "</style>\n",
       "<table border=\"1\" class=\"dataframe\">\n",
       "  <thead>\n",
       "    <tr style=\"text-align: right;\">\n",
       "      <th></th>\n",
       "      <th>offer id</th>\n",
       "      <th>amount</th>\n",
       "      <th>offer_id</th>\n",
       "      <th>reward</th>\n",
       "      <th>offer_id_new</th>\n",
       "    </tr>\n",
       "  </thead>\n",
       "  <tbody>\n",
       "    <tr>\n",
       "      <th>0</th>\n",
       "      <td>9b98b8c7a33c4b65b9aebfe6a799e6d9</td>\n",
       "      <td>NaN</td>\n",
       "      <td>NaN</td>\n",
       "      <td>NaN</td>\n",
       "      <td>9b98b8c7a33c4b65b9aebfe6a799e6d9</td>\n",
       "    </tr>\n",
       "    <tr>\n",
       "      <th>1</th>\n",
       "      <td>0b1e1539f2cc45b7b9fa7c272da2e1d7</td>\n",
       "      <td>NaN</td>\n",
       "      <td>NaN</td>\n",
       "      <td>NaN</td>\n",
       "      <td>0b1e1539f2cc45b7b9fa7c272da2e1d7</td>\n",
       "    </tr>\n",
       "  </tbody>\n",
       "</table>\n",
       "</div>"
      ],
      "text/plain": [
       "                           offer id  amount offer_id  reward  \\\n",
       "0  9b98b8c7a33c4b65b9aebfe6a799e6d9     NaN      NaN     NaN   \n",
       "1  0b1e1539f2cc45b7b9fa7c272da2e1d7     NaN      NaN     NaN   \n",
       "\n",
       "                       offer_id_new  \n",
       "0  9b98b8c7a33c4b65b9aebfe6a799e6d9  \n",
       "1  0b1e1539f2cc45b7b9fa7c272da2e1d7  "
      ]
     },
     "execution_count": 37,
     "metadata": {},
     "output_type": "execute_result"
    }
   ],
   "source": [
    "#transcript_value.drop(['Unnamed: 0'], axis=1, inplace=True)\n",
    "transcript_value.head(2)"
   ]
  },
  {
   "cell_type": "code",
   "execution_count": 38,
   "metadata": {},
   "outputs": [],
   "source": [
    "#merging with the original transcript df\n",
    "full_transcript = pd.concat([transcript, transcript_value], axis=1)"
   ]
  },
  {
   "cell_type": "code",
   "execution_count": 39,
   "metadata": {},
   "outputs": [
    {
     "data": {
      "text/html": [
       "<div>\n",
       "<style scoped>\n",
       "    .dataframe tbody tr th:only-of-type {\n",
       "        vertical-align: middle;\n",
       "    }\n",
       "\n",
       "    .dataframe tbody tr th {\n",
       "        vertical-align: top;\n",
       "    }\n",
       "\n",
       "    .dataframe thead th {\n",
       "        text-align: right;\n",
       "    }\n",
       "</style>\n",
       "<table border=\"1\" class=\"dataframe\">\n",
       "  <thead>\n",
       "    <tr style=\"text-align: right;\">\n",
       "      <th></th>\n",
       "      <th>person</th>\n",
       "      <th>event</th>\n",
       "      <th>value</th>\n",
       "      <th>time</th>\n",
       "      <th>offer id</th>\n",
       "      <th>amount</th>\n",
       "      <th>offer_id</th>\n",
       "      <th>reward</th>\n",
       "      <th>offer_id_new</th>\n",
       "    </tr>\n",
       "  </thead>\n",
       "  <tbody>\n",
       "    <tr>\n",
       "      <th>0</th>\n",
       "      <td>78afa995795e4d85b5d9ceeca43f5fef</td>\n",
       "      <td>offer received</td>\n",
       "      <td>{'offer id': '9b98b8c7a33c4b65b9aebfe6a799e6d9'}</td>\n",
       "      <td>0</td>\n",
       "      <td>9b98b8c7a33c4b65b9aebfe6a799e6d9</td>\n",
       "      <td>NaN</td>\n",
       "      <td>NaN</td>\n",
       "      <td>NaN</td>\n",
       "      <td>9b98b8c7a33c4b65b9aebfe6a799e6d9</td>\n",
       "    </tr>\n",
       "    <tr>\n",
       "      <th>1</th>\n",
       "      <td>a03223e636434f42ac4c3df47e8bac43</td>\n",
       "      <td>offer received</td>\n",
       "      <td>{'offer id': '0b1e1539f2cc45b7b9fa7c272da2e1d7'}</td>\n",
       "      <td>0</td>\n",
       "      <td>0b1e1539f2cc45b7b9fa7c272da2e1d7</td>\n",
       "      <td>NaN</td>\n",
       "      <td>NaN</td>\n",
       "      <td>NaN</td>\n",
       "      <td>0b1e1539f2cc45b7b9fa7c272da2e1d7</td>\n",
       "    </tr>\n",
       "  </tbody>\n",
       "</table>\n",
       "</div>"
      ],
      "text/plain": [
       "                             person           event  \\\n",
       "0  78afa995795e4d85b5d9ceeca43f5fef  offer received   \n",
       "1  a03223e636434f42ac4c3df47e8bac43  offer received   \n",
       "\n",
       "                                              value  time  \\\n",
       "0  {'offer id': '9b98b8c7a33c4b65b9aebfe6a799e6d9'}     0   \n",
       "1  {'offer id': '0b1e1539f2cc45b7b9fa7c272da2e1d7'}     0   \n",
       "\n",
       "                           offer id  amount offer_id  reward  \\\n",
       "0  9b98b8c7a33c4b65b9aebfe6a799e6d9     NaN      NaN     NaN   \n",
       "1  0b1e1539f2cc45b7b9fa7c272da2e1d7     NaN      NaN     NaN   \n",
       "\n",
       "                       offer_id_new  \n",
       "0  9b98b8c7a33c4b65b9aebfe6a799e6d9  \n",
       "1  0b1e1539f2cc45b7b9fa7c272da2e1d7  "
      ]
     },
     "execution_count": 39,
     "metadata": {},
     "output_type": "execute_result"
    }
   ],
   "source": [
    "full_transcript.head(2)"
   ]
  },
  {
   "cell_type": "code",
   "execution_count": 40,
   "metadata": {},
   "outputs": [],
   "source": [
    "#convert time in hours to time in days \n",
    "full_transcript['time_days'] = full_transcript['time']/24 \n",
    "#drop the unncessary columns\n",
    "full_transcript.drop(['value','offer_id','offer id','time'], axis=1, inplace=True)\n",
    "#rename the columns\n",
    "full_transcript.rename(columns = {'person':'cust_id','offer_id_new':'offer_id','reward':'reward_complete'}, inplace=True)"
   ]
  },
  {
   "cell_type": "code",
   "execution_count": 41,
   "metadata": {},
   "outputs": [],
   "source": [
    "full_transcript=full_transcript.sort_values(['cust_id','time_days'])"
   ]
  },
  {
   "cell_type": "code",
   "execution_count": 42,
   "metadata": {},
   "outputs": [
    {
     "data": {
      "text/plain": [
       "cust_id                 0\n",
       "event                   0\n",
       "amount             167581\n",
       "reward_complete    272955\n",
       "offer_id           138953\n",
       "time_days               0\n",
       "dtype: int64"
      ]
     },
     "execution_count": 42,
     "metadata": {},
     "output_type": "execute_result"
    }
   ],
   "source": [
    "np.sum(full_transcript.isnull())"
   ]
  },
  {
   "cell_type": "code",
   "execution_count": 43,
   "metadata": {},
   "outputs": [
    {
     "data": {
      "text/plain": [
       "transaction    138953\n",
       "Name: event, dtype: int64"
      ]
     },
     "execution_count": 43,
     "metadata": {},
     "output_type": "execute_result"
    }
   ],
   "source": [
    "full_transcript[full_transcript['offer_id'].isnull()].event.value_counts()"
   ]
  },
  {
   "cell_type": "code",
   "execution_count": 44,
   "metadata": {},
   "outputs": [
    {
     "data": {
      "text/plain": [
       "transaction    138953\n",
       "Name: event, dtype: int64"
      ]
     },
     "execution_count": 44,
     "metadata": {},
     "output_type": "execute_result"
    }
   ],
   "source": [
    "full_transcript[full_transcript['amount'].notnull()].event.value_counts()"
   ]
  },
  {
   "cell_type": "code",
   "execution_count": 45,
   "metadata": {},
   "outputs": [
    {
     "data": {
      "text/plain": [
       "offer completed    33579\n",
       "Name: event, dtype: int64"
      ]
     },
     "execution_count": 45,
     "metadata": {},
     "output_type": "execute_result"
    }
   ],
   "source": [
    "full_transcript[full_transcript['reward_complete'].notnull()].event.value_counts()"
   ]
  },
  {
   "cell_type": "markdown",
   "metadata": {},
   "source": [
    "it was identified that the event 'transaction' will not have any offer id associated with it, reward_complete is available for only 'offer completed' event and 'amount' is available only for the 'transaction' event"
   ]
  },
  {
   "cell_type": "code",
   "execution_count": 46,
   "metadata": {},
   "outputs": [
    {
     "data": {
      "text/html": [
       "<div>\n",
       "<style scoped>\n",
       "    .dataframe tbody tr th:only-of-type {\n",
       "        vertical-align: middle;\n",
       "    }\n",
       "\n",
       "    .dataframe tbody tr th {\n",
       "        vertical-align: top;\n",
       "    }\n",
       "\n",
       "    .dataframe thead th {\n",
       "        text-align: right;\n",
       "    }\n",
       "</style>\n",
       "<table border=\"1\" class=\"dataframe\">\n",
       "  <thead>\n",
       "    <tr style=\"text-align: right;\">\n",
       "      <th></th>\n",
       "      <th>cust_id</th>\n",
       "      <th>event</th>\n",
       "      <th>amount</th>\n",
       "      <th>reward_complete</th>\n",
       "      <th>offer_id</th>\n",
       "      <th>time_days</th>\n",
       "    </tr>\n",
       "  </thead>\n",
       "  <tbody>\n",
       "    <tr>\n",
       "      <th>0</th>\n",
       "      <td>78afa995795e4d85b5d9ceeca43f5fef</td>\n",
       "      <td>offer received</td>\n",
       "      <td>NaN</td>\n",
       "      <td>NaN</td>\n",
       "      <td>9b98b8c7a33c4b65b9aebfe6a799e6d9</td>\n",
       "      <td>0.00</td>\n",
       "    </tr>\n",
       "    <tr>\n",
       "      <th>15561</th>\n",
       "      <td>78afa995795e4d85b5d9ceeca43f5fef</td>\n",
       "      <td>offer viewed</td>\n",
       "      <td>NaN</td>\n",
       "      <td>NaN</td>\n",
       "      <td>9b98b8c7a33c4b65b9aebfe6a799e6d9</td>\n",
       "      <td>0.25</td>\n",
       "    </tr>\n",
       "    <tr>\n",
       "      <th>47582</th>\n",
       "      <td>78afa995795e4d85b5d9ceeca43f5fef</td>\n",
       "      <td>transaction</td>\n",
       "      <td>19.89</td>\n",
       "      <td>NaN</td>\n",
       "      <td>NaN</td>\n",
       "      <td>5.50</td>\n",
       "    </tr>\n",
       "    <tr>\n",
       "      <th>47583</th>\n",
       "      <td>78afa995795e4d85b5d9ceeca43f5fef</td>\n",
       "      <td>offer completed</td>\n",
       "      <td>NaN</td>\n",
       "      <td>5.0</td>\n",
       "      <td>9b98b8c7a33c4b65b9aebfe6a799e6d9</td>\n",
       "      <td>5.50</td>\n",
       "    </tr>\n",
       "  </tbody>\n",
       "</table>\n",
       "</div>"
      ],
      "text/plain": [
       "                                cust_id            event  amount  \\\n",
       "0      78afa995795e4d85b5d9ceeca43f5fef   offer received     NaN   \n",
       "15561  78afa995795e4d85b5d9ceeca43f5fef     offer viewed     NaN   \n",
       "47582  78afa995795e4d85b5d9ceeca43f5fef      transaction   19.89   \n",
       "47583  78afa995795e4d85b5d9ceeca43f5fef  offer completed     NaN   \n",
       "\n",
       "       reward_complete                          offer_id  time_days  \n",
       "0                  NaN  9b98b8c7a33c4b65b9aebfe6a799e6d9       0.00  \n",
       "15561              NaN  9b98b8c7a33c4b65b9aebfe6a799e6d9       0.25  \n",
       "47582              NaN                               NaN       5.50  \n",
       "47583              5.0  9b98b8c7a33c4b65b9aebfe6a799e6d9       5.50  "
      ]
     },
     "execution_count": 46,
     "metadata": {},
     "output_type": "execute_result"
    }
   ],
   "source": [
    "#bogo type\n",
    "full_transcript[full_transcript['cust_id']=='78afa995795e4d85b5d9ceeca43f5fef'].head(4)"
   ]
  },
  {
   "cell_type": "code",
   "execution_count": 47,
   "metadata": {},
   "outputs": [
    {
     "data": {
      "text/html": [
       "<div>\n",
       "<style scoped>\n",
       "    .dataframe tbody tr th:only-of-type {\n",
       "        vertical-align: middle;\n",
       "    }\n",
       "\n",
       "    .dataframe tbody tr th {\n",
       "        vertical-align: top;\n",
       "    }\n",
       "\n",
       "    .dataframe thead th {\n",
       "        text-align: right;\n",
       "    }\n",
       "</style>\n",
       "<table border=\"1\" class=\"dataframe\">\n",
       "  <thead>\n",
       "    <tr style=\"text-align: right;\">\n",
       "      <th></th>\n",
       "      <th>cust_id</th>\n",
       "      <th>event</th>\n",
       "      <th>amount</th>\n",
       "      <th>reward_complete</th>\n",
       "      <th>offer_id</th>\n",
       "      <th>time_days</th>\n",
       "    </tr>\n",
       "  </thead>\n",
       "  <tbody>\n",
       "    <tr>\n",
       "      <th>55972</th>\n",
       "      <td>0009655768c64bdeb2e877511632db8f</td>\n",
       "      <td>offer received</td>\n",
       "      <td>NaN</td>\n",
       "      <td>NaN</td>\n",
       "      <td>5a8bc65990b245e5a138643cd4eb9837</td>\n",
       "      <td>7.0</td>\n",
       "    </tr>\n",
       "    <tr>\n",
       "      <th>77705</th>\n",
       "      <td>0009655768c64bdeb2e877511632db8f</td>\n",
       "      <td>offer viewed</td>\n",
       "      <td>NaN</td>\n",
       "      <td>NaN</td>\n",
       "      <td>5a8bc65990b245e5a138643cd4eb9837</td>\n",
       "      <td>8.0</td>\n",
       "    </tr>\n",
       "    <tr>\n",
       "      <th>89291</th>\n",
       "      <td>0009655768c64bdeb2e877511632db8f</td>\n",
       "      <td>transaction</td>\n",
       "      <td>22.16</td>\n",
       "      <td>NaN</td>\n",
       "      <td>NaN</td>\n",
       "      <td>9.5</td>\n",
       "    </tr>\n",
       "  </tbody>\n",
       "</table>\n",
       "</div>"
      ],
      "text/plain": [
       "                                cust_id           event  amount  \\\n",
       "55972  0009655768c64bdeb2e877511632db8f  offer received     NaN   \n",
       "77705  0009655768c64bdeb2e877511632db8f    offer viewed     NaN   \n",
       "89291  0009655768c64bdeb2e877511632db8f     transaction   22.16   \n",
       "\n",
       "       reward_complete                          offer_id  time_days  \n",
       "55972              NaN  5a8bc65990b245e5a138643cd4eb9837        7.0  \n",
       "77705              NaN  5a8bc65990b245e5a138643cd4eb9837        8.0  \n",
       "89291              NaN                               NaN        9.5  "
      ]
     },
     "execution_count": 47,
     "metadata": {},
     "output_type": "execute_result"
    }
   ],
   "source": [
    "#informational\n",
    "full_transcript[full_transcript['cust_id']=='0009655768c64bdeb2e877511632db8f'].head(3)"
   ]
  },
  {
   "cell_type": "markdown",
   "metadata": {},
   "source": [
    "We already know that there are four events : offer received, offer viewed, transaction and offer completed\n",
    "and three offer types: informational, bogo and discount\n",
    "\n",
    "The general flow of the event for:\n",
    "* informational : received > viewed > transaction (there if no completed event since there is no reward associated with this type)\n",
    "* bogo and discount : received > viewed > transaction > completed \n",
    "\n",
    "But there is no offer id associated with the transaction event. "
   ]
  },
  {
   "cell_type": "markdown",
   "metadata": {},
   "source": [
    "Our first data pre-processing is identifying the offer id associated with the transaction event"
   ]
  },
  {
   "cell_type": "code",
   "execution_count": 48,
   "metadata": {},
   "outputs": [],
   "source": [
    "#for viewed, received, transaction records, forward fill the offers\n",
    "miss_offer = full_transcript[(full_transcript['event']=='transaction')|(full_transcript['event']=='offer viewed')|(full_transcript['event']=='offer received')][['time_days','offer_id','cust_id','event']].ffill()\n",
    "\n",
    "#merged with the main df and cleanup the offer id\n",
    "full_transcript = full_transcript.merge(miss_offer, how = 'left', on=['cust_id','time_days','event'])\n",
    "full_transcript['new_offer_id']=np.where(full_transcript['offer_id_x'].isnull(),full_transcript['offer_id_y'],full_transcript['offer_id_x'])\n",
    "\n",
    "#free up the memory\n",
    "del miss_offer\n",
    "\n",
    "#drop unnecessary columns and rename the offer id\n",
    "full_transcript.drop(['offer_id_x','offer_id_y'], axis=1, inplace=True)\n",
    "full_transcript = full_transcript.rename(columns={'new_offer_id':'offer_id'})"
   ]
  },
  {
   "cell_type": "code",
   "execution_count": 49,
   "metadata": {},
   "outputs": [
    {
     "data": {
      "text/html": [
       "<div>\n",
       "<style scoped>\n",
       "    .dataframe tbody tr th:only-of-type {\n",
       "        vertical-align: middle;\n",
       "    }\n",
       "\n",
       "    .dataframe tbody tr th {\n",
       "        vertical-align: top;\n",
       "    }\n",
       "\n",
       "    .dataframe thead th {\n",
       "        text-align: right;\n",
       "    }\n",
       "</style>\n",
       "<table border=\"1\" class=\"dataframe\">\n",
       "  <thead>\n",
       "    <tr style=\"text-align: right;\">\n",
       "      <th></th>\n",
       "      <th>cust_id</th>\n",
       "      <th>event</th>\n",
       "      <th>amount</th>\n",
       "      <th>reward_complete</th>\n",
       "      <th>time_days</th>\n",
       "      <th>offer_id</th>\n",
       "    </tr>\n",
       "  </thead>\n",
       "  <tbody>\n",
       "    <tr>\n",
       "      <th>0</th>\n",
       "      <td>0009655768c64bdeb2e877511632db8f</td>\n",
       "      <td>offer received</td>\n",
       "      <td>NaN</td>\n",
       "      <td>NaN</td>\n",
       "      <td>7.0</td>\n",
       "      <td>5a8bc65990b245e5a138643cd4eb9837</td>\n",
       "    </tr>\n",
       "    <tr>\n",
       "      <th>1</th>\n",
       "      <td>0009655768c64bdeb2e877511632db8f</td>\n",
       "      <td>offer viewed</td>\n",
       "      <td>NaN</td>\n",
       "      <td>NaN</td>\n",
       "      <td>8.0</td>\n",
       "      <td>5a8bc65990b245e5a138643cd4eb9837</td>\n",
       "    </tr>\n",
       "    <tr>\n",
       "      <th>2</th>\n",
       "      <td>0009655768c64bdeb2e877511632db8f</td>\n",
       "      <td>transaction</td>\n",
       "      <td>22.16</td>\n",
       "      <td>NaN</td>\n",
       "      <td>9.5</td>\n",
       "      <td>5a8bc65990b245e5a138643cd4eb9837</td>\n",
       "    </tr>\n",
       "  </tbody>\n",
       "</table>\n",
       "</div>"
      ],
      "text/plain": [
       "                            cust_id           event  amount  reward_complete  \\\n",
       "0  0009655768c64bdeb2e877511632db8f  offer received     NaN              NaN   \n",
       "1  0009655768c64bdeb2e877511632db8f    offer viewed     NaN              NaN   \n",
       "2  0009655768c64bdeb2e877511632db8f     transaction   22.16              NaN   \n",
       "\n",
       "   time_days                          offer_id  \n",
       "0        7.0  5a8bc65990b245e5a138643cd4eb9837  \n",
       "1        8.0  5a8bc65990b245e5a138643cd4eb9837  \n",
       "2        9.5  5a8bc65990b245e5a138643cd4eb9837  "
      ]
     },
     "execution_count": 49,
     "metadata": {},
     "output_type": "execute_result"
    }
   ],
   "source": [
    "full_transcript.head(3)"
   ]
  },
  {
   "cell_type": "code",
   "execution_count": 50,
   "metadata": {},
   "outputs": [
    {
     "data": {
      "text/plain": [
       "(306534, 14)"
      ]
     },
     "execution_count": 50,
     "metadata": {},
     "output_type": "execute_result"
    }
   ],
   "source": [
    "#merge with the portfolio df\n",
    "transcript_portfolio = full_transcript.merge(portfolio, how='left', on='offer_id')\n",
    "transcript_portfolio.shape"
   ]
  },
  {
   "cell_type": "markdown",
   "metadata": {},
   "source": [
    "Second step is to identify the successful offer (one that caused the customer to make the transaction)\n",
    "\n",
    "We know the following:\n",
    "1. effective offer is when the \"transaction\" event happens.\n",
    "2. The customer should have viewed the offer"
   ]
  },
  {
   "cell_type": "code",
   "execution_count": 51,
   "metadata": {},
   "outputs": [],
   "source": [
    "#find the previous offer id and previous event for the customer\n",
    "transcript_portfolio['previous_offer_id'] = transcript_portfolio.groupby(['cust_id'])['offer_id'].shift()\n",
    "transcript_portfolio['previous_event'] = transcript_portfolio.groupby(['cust_id'])['event'].shift()"
   ]
  },
  {
   "cell_type": "code",
   "execution_count": 52,
   "metadata": {},
   "outputs": [],
   "source": [
    "#identify the transactions with the effect of offers \n",
    "#where the value will be 1 if the previous event will be viewed for the transaction event\n",
    "#and the offer id for transaction and offer viewed should be same\n",
    "transcript_portfolio['offer_effect']= 0\n",
    "transcript_portfolio.loc[((transcript_portfolio['previous_offer_id']==transcript_portfolio['offer_id'])\\\n",
    "                          &(transcript_portfolio['event']=='transaction')\\\n",
    "                          &(transcript_portfolio['previous_event']=='offer viewed')),'offer_effect']=1"
   ]
  },
  {
   "cell_type": "code",
   "execution_count": 53,
   "metadata": {},
   "outputs": [],
   "source": [
    "#For the offer to be effective it should have happened within the duration\n",
    "transcript_portfolio['days_diff'] = transcript_portfolio.groupby(['cust_id','offer_id'])['time_days'].diff()\n",
    "transcript_portfolio['offer_validity'] = 0\n",
    "transcript_portfolio.loc[transcript_portfolio['days_diff']<=transcript_portfolio['duration'],'offer_validity']=1"
   ]
  },
  {
   "cell_type": "code",
   "execution_count": 54,
   "metadata": {},
   "outputs": [],
   "source": [
    "#identify successful offer on the basis of effect and validatity\n",
    "transcript_portfolio['offer_success']=np.where((transcript_portfolio['offer_effect']==1)\\\n",
    "                                               &(transcript_portfolio['offer_validity']==1),1,0)"
   ]
  },
  {
   "cell_type": "code",
   "execution_count": 55,
   "metadata": {},
   "outputs": [],
   "source": [
    "#remove the unnecessary columns\n",
    "transcript_portfolio.drop(['previous_event','previous_offer_id','offer_effect','offer_validity'], axis=1, inplace=True)"
   ]
  },
  {
   "cell_type": "code",
   "execution_count": 56,
   "metadata": {
    "scrolled": true
   },
   "outputs": [
    {
     "data": {
      "text/plain": [
       "(306534, 24)"
      ]
     },
     "execution_count": 56,
     "metadata": {},
     "output_type": "execute_result"
    }
   ],
   "source": [
    "#merge with the profile df\n",
    "all_data = transcript_portfolio.merge(profile, on = 'cust_id', how='left')\n",
    "all_data.shape"
   ]
  },
  {
   "cell_type": "code",
   "execution_count": 57,
   "metadata": {},
   "outputs": [
    {
     "data": {
      "text/html": [
       "<div>\n",
       "<style scoped>\n",
       "    .dataframe tbody tr th:only-of-type {\n",
       "        vertical-align: middle;\n",
       "    }\n",
       "\n",
       "    .dataframe tbody tr th {\n",
       "        vertical-align: top;\n",
       "    }\n",
       "\n",
       "    .dataframe thead th {\n",
       "        text-align: right;\n",
       "    }\n",
       "</style>\n",
       "<table border=\"1\" class=\"dataframe\">\n",
       "  <thead>\n",
       "    <tr style=\"text-align: right;\">\n",
       "      <th></th>\n",
       "      <th>cust_id</th>\n",
       "      <th>event</th>\n",
       "      <th>amount</th>\n",
       "      <th>reward_complete</th>\n",
       "      <th>time_days</th>\n",
       "      <th>offer_id</th>\n",
       "      <th>reward</th>\n",
       "      <th>difficulty</th>\n",
       "      <th>duration</th>\n",
       "      <th>offer_type</th>\n",
       "      <th>web</th>\n",
       "      <th>email</th>\n",
       "      <th>mobile</th>\n",
       "      <th>social</th>\n",
       "      <th>days_diff</th>\n",
       "      <th>offer_success</th>\n",
       "      <th>gender</th>\n",
       "      <th>age</th>\n",
       "      <th>income</th>\n",
       "      <th>mem_start_day</th>\n",
       "      <th>mem_start_weekday</th>\n",
       "      <th>mem_start_month</th>\n",
       "      <th>mem_start_year</th>\n",
       "      <th>membership_age</th>\n",
       "    </tr>\n",
       "  </thead>\n",
       "  <tbody>\n",
       "    <tr>\n",
       "      <th>0</th>\n",
       "      <td>0009655768c64bdeb2e877511632db8f</td>\n",
       "      <td>offer received</td>\n",
       "      <td>NaN</td>\n",
       "      <td>NaN</td>\n",
       "      <td>7.0</td>\n",
       "      <td>5a8bc65990b245e5a138643cd4eb9837</td>\n",
       "      <td>0</td>\n",
       "      <td>0</td>\n",
       "      <td>3</td>\n",
       "      <td>informational</td>\n",
       "      <td>0</td>\n",
       "      <td>1</td>\n",
       "      <td>1</td>\n",
       "      <td>1</td>\n",
       "      <td>NaN</td>\n",
       "      <td>0</td>\n",
       "      <td>M</td>\n",
       "      <td>33</td>\n",
       "      <td>72000.0</td>\n",
       "      <td>21</td>\n",
       "      <td>4</td>\n",
       "      <td>4</td>\n",
       "      <td>2017</td>\n",
       "      <td>43.0</td>\n",
       "    </tr>\n",
       "    <tr>\n",
       "      <th>1</th>\n",
       "      <td>0009655768c64bdeb2e877511632db8f</td>\n",
       "      <td>offer viewed</td>\n",
       "      <td>NaN</td>\n",
       "      <td>NaN</td>\n",
       "      <td>8.0</td>\n",
       "      <td>5a8bc65990b245e5a138643cd4eb9837</td>\n",
       "      <td>0</td>\n",
       "      <td>0</td>\n",
       "      <td>3</td>\n",
       "      <td>informational</td>\n",
       "      <td>0</td>\n",
       "      <td>1</td>\n",
       "      <td>1</td>\n",
       "      <td>1</td>\n",
       "      <td>1.0</td>\n",
       "      <td>0</td>\n",
       "      <td>M</td>\n",
       "      <td>33</td>\n",
       "      <td>72000.0</td>\n",
       "      <td>21</td>\n",
       "      <td>4</td>\n",
       "      <td>4</td>\n",
       "      <td>2017</td>\n",
       "      <td>43.0</td>\n",
       "    </tr>\n",
       "    <tr>\n",
       "      <th>2</th>\n",
       "      <td>0009655768c64bdeb2e877511632db8f</td>\n",
       "      <td>transaction</td>\n",
       "      <td>22.16</td>\n",
       "      <td>NaN</td>\n",
       "      <td>9.5</td>\n",
       "      <td>5a8bc65990b245e5a138643cd4eb9837</td>\n",
       "      <td>0</td>\n",
       "      <td>0</td>\n",
       "      <td>3</td>\n",
       "      <td>informational</td>\n",
       "      <td>0</td>\n",
       "      <td>1</td>\n",
       "      <td>1</td>\n",
       "      <td>1</td>\n",
       "      <td>1.5</td>\n",
       "      <td>1</td>\n",
       "      <td>M</td>\n",
       "      <td>33</td>\n",
       "      <td>72000.0</td>\n",
       "      <td>21</td>\n",
       "      <td>4</td>\n",
       "      <td>4</td>\n",
       "      <td>2017</td>\n",
       "      <td>43.0</td>\n",
       "    </tr>\n",
       "    <tr>\n",
       "      <th>3</th>\n",
       "      <td>0009655768c64bdeb2e877511632db8f</td>\n",
       "      <td>offer received</td>\n",
       "      <td>NaN</td>\n",
       "      <td>NaN</td>\n",
       "      <td>14.0</td>\n",
       "      <td>3f207df678b143eea3cee63160fa8bed</td>\n",
       "      <td>0</td>\n",
       "      <td>0</td>\n",
       "      <td>4</td>\n",
       "      <td>informational</td>\n",
       "      <td>1</td>\n",
       "      <td>1</td>\n",
       "      <td>1</td>\n",
       "      <td>0</td>\n",
       "      <td>NaN</td>\n",
       "      <td>0</td>\n",
       "      <td>M</td>\n",
       "      <td>33</td>\n",
       "      <td>72000.0</td>\n",
       "      <td>21</td>\n",
       "      <td>4</td>\n",
       "      <td>4</td>\n",
       "      <td>2017</td>\n",
       "      <td>43.0</td>\n",
       "    </tr>\n",
       "    <tr>\n",
       "      <th>4</th>\n",
       "      <td>0009655768c64bdeb2e877511632db8f</td>\n",
       "      <td>offer viewed</td>\n",
       "      <td>NaN</td>\n",
       "      <td>NaN</td>\n",
       "      <td>15.5</td>\n",
       "      <td>3f207df678b143eea3cee63160fa8bed</td>\n",
       "      <td>0</td>\n",
       "      <td>0</td>\n",
       "      <td>4</td>\n",
       "      <td>informational</td>\n",
       "      <td>1</td>\n",
       "      <td>1</td>\n",
       "      <td>1</td>\n",
       "      <td>0</td>\n",
       "      <td>1.5</td>\n",
       "      <td>0</td>\n",
       "      <td>M</td>\n",
       "      <td>33</td>\n",
       "      <td>72000.0</td>\n",
       "      <td>21</td>\n",
       "      <td>4</td>\n",
       "      <td>4</td>\n",
       "      <td>2017</td>\n",
       "      <td>43.0</td>\n",
       "    </tr>\n",
       "  </tbody>\n",
       "</table>\n",
       "</div>"
      ],
      "text/plain": [
       "                            cust_id           event  amount  reward_complete  \\\n",
       "0  0009655768c64bdeb2e877511632db8f  offer received     NaN              NaN   \n",
       "1  0009655768c64bdeb2e877511632db8f    offer viewed     NaN              NaN   \n",
       "2  0009655768c64bdeb2e877511632db8f     transaction   22.16              NaN   \n",
       "3  0009655768c64bdeb2e877511632db8f  offer received     NaN              NaN   \n",
       "4  0009655768c64bdeb2e877511632db8f    offer viewed     NaN              NaN   \n",
       "\n",
       "   time_days                          offer_id  reward  difficulty  duration  \\\n",
       "0        7.0  5a8bc65990b245e5a138643cd4eb9837       0           0         3   \n",
       "1        8.0  5a8bc65990b245e5a138643cd4eb9837       0           0         3   \n",
       "2        9.5  5a8bc65990b245e5a138643cd4eb9837       0           0         3   \n",
       "3       14.0  3f207df678b143eea3cee63160fa8bed       0           0         4   \n",
       "4       15.5  3f207df678b143eea3cee63160fa8bed       0           0         4   \n",
       "\n",
       "      offer_type  web  email  mobile  social  days_diff  offer_success gender  \\\n",
       "0  informational    0      1       1       1        NaN              0      M   \n",
       "1  informational    0      1       1       1        1.0              0      M   \n",
       "2  informational    0      1       1       1        1.5              1      M   \n",
       "3  informational    1      1       1       0        NaN              0      M   \n",
       "4  informational    1      1       1       0        1.5              0      M   \n",
       "\n",
       "   age   income  mem_start_day  mem_start_weekday  mem_start_month  \\\n",
       "0   33  72000.0             21                  4                4   \n",
       "1   33  72000.0             21                  4                4   \n",
       "2   33  72000.0             21                  4                4   \n",
       "3   33  72000.0             21                  4                4   \n",
       "4   33  72000.0             21                  4                4   \n",
       "\n",
       "   mem_start_year  membership_age  \n",
       "0            2017            43.0  \n",
       "1            2017            43.0  \n",
       "2            2017            43.0  \n",
       "3            2017            43.0  \n",
       "4            2017            43.0  "
      ]
     },
     "execution_count": 57,
     "metadata": {},
     "output_type": "execute_result"
    }
   ],
   "source": [
    "all_data.head()"
   ]
  },
  {
   "cell_type": "code",
   "execution_count": 58,
   "metadata": {},
   "outputs": [
    {
     "data": {
      "text/plain": [
       "0    0.867884\n",
       "1    0.132116\n",
       "Name: offer_success, dtype: float64"
      ]
     },
     "execution_count": 58,
     "metadata": {},
     "output_type": "execute_result"
    }
   ],
   "source": [
    "#all_data['offer_success']=all_data['offer_success'].astype('object')\n",
    "all_data['offer_success'].value_counts(dropna=False, normalize = True)"
   ]
  },
  {
   "cell_type": "code",
   "execution_count": 59,
   "metadata": {},
   "outputs": [
    {
     "data": {
      "image/png": "[encoded data removed]",
      "text/plain": [
       "<Figure size 432x288 with 1 Axes>"
      ]
     },
     "metadata": {
      "needs_background": "light"
     },
     "output_type": "display_data"
    }
   ],
   "source": [
    "all_data['offer_success'].value_counts(dropna=False, normalize = True).plot(kind='bar', title = 'Distribution of the Offer Status');"
   ]
  },
  {
   "cell_type": "markdown",
   "metadata": {},
   "source": [
    "This is a highly imbalanced dataset and we will need to run the data processing to adjust that"
   ]
  },
  {
   "cell_type": "code",
   "execution_count": 60,
   "metadata": {},
   "outputs": [
    {
     "data": {
      "text/html": [
       "<div>\n",
       "<style scoped>\n",
       "    .dataframe tbody tr th:only-of-type {\n",
       "        vertical-align: middle;\n",
       "    }\n",
       "\n",
       "    .dataframe tbody tr th {\n",
       "        vertical-align: top;\n",
       "    }\n",
       "\n",
       "    .dataframe thead th {\n",
       "        text-align: right;\n",
       "    }\n",
       "</style>\n",
       "<table border=\"1\" class=\"dataframe\">\n",
       "  <thead>\n",
       "    <tr style=\"text-align: right;\">\n",
       "      <th></th>\n",
       "      <th></th>\n",
       "      <th>cust_id</th>\n",
       "      <th>offer_success</th>\n",
       "      <th>percent_success</th>\n",
       "    </tr>\n",
       "    <tr>\n",
       "      <th>offer_id</th>\n",
       "      <th>offer_type</th>\n",
       "      <th></th>\n",
       "      <th></th>\n",
       "      <th></th>\n",
       "    </tr>\n",
       "  </thead>\n",
       "  <tbody>\n",
       "    <tr>\n",
       "      <th>fafdcd668e3743c1bb461111dcafc2a4</th>\n",
       "      <th>discount</th>\n",
       "      <td>6503</td>\n",
       "      <td>5689</td>\n",
       "      <td>87.48</td>\n",
       "    </tr>\n",
       "    <tr>\n",
       "      <th>2298d6c36e964ae4a3e7e9706d1fb8c2</th>\n",
       "      <th>discount</th>\n",
       "      <td>6527</td>\n",
       "      <td>5559</td>\n",
       "      <td>85.17</td>\n",
       "    </tr>\n",
       "    <tr>\n",
       "      <th>f19421c1d4aa40978ebb69ca19b0e20d</th>\n",
       "      <th>bogo</th>\n",
       "      <td>6442</td>\n",
       "      <td>5188</td>\n",
       "      <td>80.53</td>\n",
       "    </tr>\n",
       "    <tr>\n",
       "      <th>4d5c57ea9a6940dd891ad53e9dbe8da0</th>\n",
       "      <th>bogo</th>\n",
       "      <td>6508</td>\n",
       "      <td>5240</td>\n",
       "      <td>80.52</td>\n",
       "    </tr>\n",
       "    <tr>\n",
       "      <th>ae264e3637204a6fb9bb56bc8210ddfd</th>\n",
       "      <th>bogo</th>\n",
       "      <td>6533</td>\n",
       "      <td>5029</td>\n",
       "      <td>76.98</td>\n",
       "    </tr>\n",
       "    <tr>\n",
       "      <th>5a8bc65990b245e5a138643cd4eb9837</th>\n",
       "      <th>informational</th>\n",
       "      <td>6492</td>\n",
       "      <td>3982</td>\n",
       "      <td>61.34</td>\n",
       "    </tr>\n",
       "    <tr>\n",
       "      <th>9b98b8c7a33c4b65b9aebfe6a799e6d9</th>\n",
       "      <th>bogo</th>\n",
       "      <td>6518</td>\n",
       "      <td>2864</td>\n",
       "      <td>43.94</td>\n",
       "    </tr>\n",
       "    <tr>\n",
       "      <th>2906b810c7d4411798c6938adc9daaa5</th>\n",
       "      <th>discount</th>\n",
       "      <td>6456</td>\n",
       "      <td>2798</td>\n",
       "      <td>43.34</td>\n",
       "    </tr>\n",
       "    <tr>\n",
       "      <th>3f207df678b143eea3cee63160fa8bed</th>\n",
       "      <th>informational</th>\n",
       "      <td>6509</td>\n",
       "      <td>2421</td>\n",
       "      <td>37.19</td>\n",
       "    </tr>\n",
       "    <tr>\n",
       "      <th>0b1e1539f2cc45b7b9fa7c272da2e1d7</th>\n",
       "      <th>discount</th>\n",
       "      <td>6540</td>\n",
       "      <td>1728</td>\n",
       "      <td>26.42</td>\n",
       "    </tr>\n",
       "  </tbody>\n",
       "</table>\n",
       "</div>"
      ],
      "text/plain": [
       "                                                cust_id  offer_success  \\\n",
       "offer_id                         offer_type                              \n",
       "fafdcd668e3743c1bb461111dcafc2a4 discount          6503           5689   \n",
       "2298d6c36e964ae4a3e7e9706d1fb8c2 discount          6527           5559   \n",
       "f19421c1d4aa40978ebb69ca19b0e20d bogo              6442           5188   \n",
       "4d5c57ea9a6940dd891ad53e9dbe8da0 bogo              6508           5240   \n",
       "ae264e3637204a6fb9bb56bc8210ddfd bogo              6533           5029   \n",
       "5a8bc65990b245e5a138643cd4eb9837 informational     6492           3982   \n",
       "9b98b8c7a33c4b65b9aebfe6a799e6d9 bogo              6518           2864   \n",
       "2906b810c7d4411798c6938adc9daaa5 discount          6456           2798   \n",
       "3f207df678b143eea3cee63160fa8bed informational     6509           2421   \n",
       "0b1e1539f2cc45b7b9fa7c272da2e1d7 discount          6540           1728   \n",
       "\n",
       "                                                percent_success  \n",
       "offer_id                         offer_type                      \n",
       "fafdcd668e3743c1bb461111dcafc2a4 discount                 87.48  \n",
       "2298d6c36e964ae4a3e7e9706d1fb8c2 discount                 85.17  \n",
       "f19421c1d4aa40978ebb69ca19b0e20d bogo                     80.53  \n",
       "4d5c57ea9a6940dd891ad53e9dbe8da0 bogo                     80.52  \n",
       "ae264e3637204a6fb9bb56bc8210ddfd bogo                     76.98  \n",
       "5a8bc65990b245e5a138643cd4eb9837 informational            61.34  \n",
       "9b98b8c7a33c4b65b9aebfe6a799e6d9 bogo                     43.94  \n",
       "2906b810c7d4411798c6938adc9daaa5 discount                 43.34  \n",
       "3f207df678b143eea3cee63160fa8bed informational            37.19  \n",
       "0b1e1539f2cc45b7b9fa7c272da2e1d7 discount                 26.42  "
      ]
     },
     "execution_count": 60,
     "metadata": {},
     "output_type": "execute_result"
    }
   ],
   "source": [
    "offer_stats = all_data.groupby(['offer_id','offer_type']).agg({'cust_id':'nunique','offer_success':'sum'})\n",
    "offer_stats['percent_success'] = np.round(offer_stats['offer_success']/offer_stats['cust_id']*100,2)\n",
    "offer_stats.sort_values(by='percent_success', ascending=False)"
   ]
  },
  {
   "cell_type": "code",
   "execution_count": 61,
   "metadata": {},
   "outputs": [
    {
     "data": {
      "image/png": "[encoded data removed]",
      "text/plain": [
       "<Figure size 1440x360 with 2 Axes>"
      ]
     },
     "metadata": {
      "needs_background": "light"
     },
     "output_type": "display_data"
    }
   ],
   "source": [
    "plt.figure(figsize=(20, 5));\n",
    "plt.subplot(1, 2, 1)\n",
    "offer_stats['cust_id'].plot(kind='bar', title = 'Customer Count per Offer', color='blue');\n",
    "#plt.axvline(male.income.mean(), color='k', linestyle='dashed', linewidth=2);\n",
    "\n",
    "plt.subplot(1, 2, 2)\n",
    "offer_stats['percent_success'].plot(kind='bar', title = 'Percent Success per Offer', color = 'orange');\n",
    "#plt.axvline(female.income.mean(), color='k', linestyle='dashed', linewidth=2);"
   ]
  },
  {
   "cell_type": "code",
   "execution_count": 62,
   "metadata": {},
   "outputs": [
    {
     "data": {
      "image/png": "[encoded data removed]",
      "text/plain": [
       "<Figure size 1440x360 with 1 Axes>"
      ]
     },
     "metadata": {
      "needs_background": "light"
     },
     "output_type": "display_data"
    }
   ],
   "source": [
    "all_data.groupby('gender').agg({'amount':'mean'}).plot(kind='bar', title = 'Customer Spending by Gender', figsize=(20,5));"
   ]
  },
  {
   "cell_type": "code",
   "execution_count": 63,
   "metadata": {},
   "outputs": [
    {
     "data": {
      "text/html": [
       "<div>\n",
       "<style scoped>\n",
       "    .dataframe tbody tr th:only-of-type {\n",
       "        vertical-align: middle;\n",
       "    }\n",
       "\n",
       "    .dataframe tbody tr th {\n",
       "        vertical-align: top;\n",
       "    }\n",
       "\n",
       "    .dataframe thead th {\n",
       "        text-align: right;\n",
       "    }\n",
       "</style>\n",
       "<table border=\"1\" class=\"dataframe\">\n",
       "  <thead>\n",
       "    <tr style=\"text-align: right;\">\n",
       "      <th></th>\n",
       "      <th>Total</th>\n",
       "      <th>Percent</th>\n",
       "    </tr>\n",
       "  </thead>\n",
       "  <tbody>\n",
       "    <tr>\n",
       "      <th>reward_complete</th>\n",
       "      <td>272955</td>\n",
       "      <td>89.045587</td>\n",
       "    </tr>\n",
       "    <tr>\n",
       "      <th>amount</th>\n",
       "      <td>167581</td>\n",
       "      <td>54.669629</td>\n",
       "    </tr>\n",
       "    <tr>\n",
       "      <th>days_diff</th>\n",
       "      <td>65028</td>\n",
       "      <td>21.213960</td>\n",
       "    </tr>\n",
       "    <tr>\n",
       "      <th>income</th>\n",
       "      <td>33772</td>\n",
       "      <td>11.017375</td>\n",
       "    </tr>\n",
       "    <tr>\n",
       "      <th>gender</th>\n",
       "      <td>33772</td>\n",
       "      <td>11.017375</td>\n",
       "    </tr>\n",
       "  </tbody>\n",
       "</table>\n",
       "</div>"
      ],
      "text/plain": [
       "                  Total    Percent\n",
       "reward_complete  272955  89.045587\n",
       "amount           167581  54.669629\n",
       "days_diff         65028  21.213960\n",
       "income            33772  11.017375\n",
       "gender            33772  11.017375"
      ]
     },
     "execution_count": 63,
     "metadata": {},
     "output_type": "execute_result"
    }
   ],
   "source": [
    "# checking missing data\n",
    "total = all_data.isnull().sum().sort_values(ascending = False)\n",
    "percent = (all_data.isnull().sum()/all_data.isnull().count()*100).sort_values(ascending = False)\n",
    "missing_train_data  = pd.concat([total, percent], axis=1, keys=['Total', 'Percent'])\n",
    "missing_train_data[missing_train_data['Percent']>0]"
   ]
  },
  {
   "cell_type": "markdown",
   "metadata": {},
   "source": [
    "# Handling Unbalanced Dataset"
   ]
  },
  {
   "cell_type": "code",
   "execution_count": 97,
   "metadata": {},
   "outputs": [
    {
     "data": {
      "text/plain": [
       "(78017, 24)"
      ]
     },
     "execution_count": 97,
     "metadata": {},
     "output_type": "execute_result"
    }
   ],
   "source": [
    "#get the count of event for each offer id per customer\n",
    "event_counts = all_data.groupby(['cust_id','offer_id','event'])['event'].count().unstack('event').reset_index()\n",
    "#get only the final offer status\n",
    "df_success = all_data.groupby(['cust_id','offer_id']).agg({'offer_success':'max','amount':'sum'}).reset_index()\n",
    "#get the remaining cols\n",
    "df_rem = all_data[['cust_id','offer_id','offer_type','gender','age','income','mem_start_day','mem_start_weekday',\n",
    "                   'mem_start_month','membership_age', 'reward','difficulty','duration',\n",
    "                   'web','email','mobile','social', #'time_days', 'days_diff'#,'amount'\n",
    "                   #,'amount','reward_complete'\n",
    "                  ]].drop_duplicates()\n",
    "\n",
    "#amount,'reward_complete', 'time_days'\n",
    "df_rcvd = all_data[all_data['event']=='offer received'][['cust_id','offer_id','time_days']]\n",
    "\n",
    "#merge the dfs\n",
    "reduced_tp = event_counts[['cust_id','offer_id','offer received','offer viewed','transaction','offer completed']]\\\n",
    "             .merge(df_success, on = ['cust_id','offer_id'], how='left' )#.fillna(0)\n",
    "reduced_tp = reduced_tp.merge(df_rem, on = ['cust_id','offer_id'], how='left' )\n",
    "reduced_tp = reduced_tp.merge(df_rcvd, on = ['cust_id','offer_id'], how='left' )\n",
    "\n",
    "#reduced_tp.fillna(0, inplace=True)\n",
    "reduced_tp.shape"
   ]
  },
  {
   "cell_type": "code",
   "execution_count": 98,
   "metadata": {},
   "outputs": [
    {
     "data": {
      "text/plain": [
       "1    0.576695\n",
       "0    0.423305\n",
       "Name: offer_success, dtype: float64"
      ]
     },
     "execution_count": 98,
     "metadata": {},
     "output_type": "execute_result"
    }
   ],
   "source": [
    "reduced_tp['offer_success'].value_counts(dropna=False, normalize = True)"
   ]
  },
  {
   "cell_type": "code",
   "execution_count": 99,
   "metadata": {},
   "outputs": [
    {
     "data": {
      "text/html": [
       "<div>\n",
       "<style scoped>\n",
       "    .dataframe tbody tr th:only-of-type {\n",
       "        vertical-align: middle;\n",
       "    }\n",
       "\n",
       "    .dataframe tbody tr th {\n",
       "        vertical-align: top;\n",
       "    }\n",
       "\n",
       "    .dataframe thead th {\n",
       "        text-align: right;\n",
       "    }\n",
       "</style>\n",
       "<table border=\"1\" class=\"dataframe\">\n",
       "  <thead>\n",
       "    <tr style=\"text-align: right;\">\n",
       "      <th></th>\n",
       "      <th>Total</th>\n",
       "      <th>Percent</th>\n",
       "    </tr>\n",
       "  </thead>\n",
       "  <tbody>\n",
       "    <tr>\n",
       "      <th>offer completed</th>\n",
       "      <td>42020</td>\n",
       "      <td>53.860056</td>\n",
       "    </tr>\n",
       "    <tr>\n",
       "      <th>offer viewed</th>\n",
       "      <td>17732</td>\n",
       "      <td>22.728380</td>\n",
       "    </tr>\n",
       "    <tr>\n",
       "      <th>transaction</th>\n",
       "      <td>15390</td>\n",
       "      <td>19.726470</td>\n",
       "    </tr>\n",
       "    <tr>\n",
       "      <th>income</th>\n",
       "      <td>9979</td>\n",
       "      <td>12.790802</td>\n",
       "    </tr>\n",
       "    <tr>\n",
       "      <th>gender</th>\n",
       "      <td>9979</td>\n",
       "      <td>12.790802</td>\n",
       "    </tr>\n",
       "    <tr>\n",
       "      <th>offer received</th>\n",
       "      <td>1740</td>\n",
       "      <td>2.230283</td>\n",
       "    </tr>\n",
       "    <tr>\n",
       "      <th>time_days</th>\n",
       "      <td>1740</td>\n",
       "      <td>2.230283</td>\n",
       "    </tr>\n",
       "  </tbody>\n",
       "</table>\n",
       "</div>"
      ],
      "text/plain": [
       "                 Total    Percent\n",
       "offer completed  42020  53.860056\n",
       "offer viewed     17732  22.728380\n",
       "transaction      15390  19.726470\n",
       "income            9979  12.790802\n",
       "gender            9979  12.790802\n",
       "offer received    1740   2.230283\n",
       "time_days         1740   2.230283"
      ]
     },
     "execution_count": 99,
     "metadata": {},
     "output_type": "execute_result"
    }
   ],
   "source": [
    "# checking missing data\n",
    "total = reduced_tp.isnull().sum().sort_values(ascending = False)\n",
    "percent = (reduced_tp.isnull().sum()/reduced_tp.isnull().count()*100).sort_values(ascending = False)\n",
    "missing_train_data  = pd.concat([total, percent], axis=1, keys=['Total', 'Percent'])\n",
    "missing_train_data[missing_train_data['Percent']>0]"
   ]
  },
  {
   "cell_type": "code",
   "execution_count": null,
   "metadata": {},
   "outputs": [],
   "source": []
  },
  {
   "cell_type": "code",
   "execution_count": 100,
   "metadata": {},
   "outputs": [
    {
     "data": {
      "text/plain": [
       "<matplotlib.axes._subplots.AxesSubplot at 0x1b1e7093240>"
      ]
     },
     "execution_count": 100,
     "metadata": {},
     "output_type": "execute_result"
    },
    {
     "data": {
      "image/png": "[encoded data removed]",
      "text/plain": [
       "<Figure size 792x648 with 2 Axes>"
      ]
     },
     "metadata": {
      "needs_background": "light"
     },
     "output_type": "display_data"
    }
   ],
   "source": [
    "#Correlation Plot\n",
    "# Creating correlation matrix \n",
    "\n",
    "corr = reduced_tp.corr()\n",
    "\n",
    "# Generate a mask for the upper triangle\n",
    "mask = np.zeros_like(corr, dtype=np.bool)\n",
    "mask[np.triu_indices_from(mask)] = True\n",
    "\n",
    "f, ax = plt.subplots(figsize=(11, 9))\n",
    "\n",
    "cmap = sns.diverging_palette(220, 10, as_cmap=True)\n",
    "\n",
    "sns.heatmap(corr, annot=True, mask=mask, cmap=cmap, vmax=.3, center=0,\n",
    "            square=True, linewidths=.5, cbar_kws={\"shrink\": .5})"
   ]
  },
  {
   "cell_type": "code",
   "execution_count": 101,
   "metadata": {},
   "outputs": [
    {
     "data": {
      "text/plain": [
       "Index(['offer received', 'offer_type', 'gender', 'age', 'income',\n",
       "       'mem_start_day', 'mem_start_weekday', 'mem_start_month',\n",
       "       'membership_age', 'reward', 'difficulty', 'duration', 'web', 'email',\n",
       "       'mobile', 'social', 'time_days'],\n",
       "      dtype='object')"
      ]
     },
     "execution_count": 101,
     "metadata": {},
     "output_type": "execute_result"
    }
   ],
   "source": [
    "feats = reduced_tp.drop(['offer_success','offer viewed', 'offer completed','transaction','cust_id','offer_id','amount'], axis=1)\n",
    "feats.columns"
   ]
  },
  {
   "cell_type": "code",
   "execution_count": 102,
   "metadata": {},
   "outputs": [],
   "source": [
    "def plot_distribution(df, feat):\n",
    "    '''\n",
    "    input\n",
    "    df: dataframe\n",
    "    feature: features to plot the univariate distribution\n",
    "    '''\n",
    "    fig, ax = plt.subplots(figsize=(17,5))\n",
    "    sns.countplot(df[feat])\n",
    "    ax.xaxis.set_label_text(feat,fontdict= {'size':14})\n",
    "    ax.yaxis.set_label_text(\"Count\",fontdict= {'size':14})\n",
    "    plt.show()\n",
    "    print(f\"Total number of unique values for feature {feat} is {df[feat].nunique()}\")\n",
    "    print(100 * df[feat].value_counts(normalize=True, dropna=False))"
   ]
  },
  {
   "cell_type": "code",
   "execution_count": 70,
   "metadata": {},
   "outputs": [
    {
     "data": {
      "image/png": "[encoded data removed]",
      "text/plain": [
       "<Figure size 1224x360 with 1 Axes>"
      ]
     },
     "metadata": {
      "needs_background": "light"
     },
     "output_type": "display_data"
    },
    {
     "name": "stdout",
     "output_type": "stream",
     "text": [
      "Total number of unique values for feature offer received is 5\n",
      "1.0    66.100978\n",
      "2.0    26.976172\n",
      "3.0     4.322135\n",
      "NaN     2.230283\n",
      "4.0     0.338388\n",
      "5.0     0.032044\n",
      "Name: offer received, dtype: float64\n"
     ]
    },
    {
     "data": {
      "image/png": "[encoded data removed]",
      "text/plain": [
       "<Figure size 1224x360 with 1 Axes>"
      ]
     },
     "metadata": {
      "needs_background": "light"
     },
     "output_type": "display_data"
    },
    {
     "name": "stdout",
     "output_type": "stream",
     "text": [
      "Total number of unique values for feature offer_type is 3\n",
      "discount         40.059218\n",
      "bogo             39.964367\n",
      "informational    19.976415\n",
      "Name: offer_type, dtype: float64\n"
     ]
    },
    {
     "data": {
      "image/png": "[encoded data removed]",
      "text/plain": [
       "<Figure size 1224x360 with 1 Axes>"
      ]
     },
     "metadata": {
      "needs_background": "light"
     },
     "output_type": "display_data"
    },
    {
     "name": "stdout",
     "output_type": "stream",
     "text": [
      "Total number of unique values for feature gender is 3\n",
      "M      50.049348\n",
      "F      35.957548\n",
      "NaN    12.790802\n",
      "O       1.202302\n",
      "Name: gender, dtype: float64\n"
     ]
    },
    {
     "data": {
      "image/png": "[encoded data removed]",
      "text/plain": [
       "<Figure size 1224x360 with 1 Axes>"
      ]
     },
     "metadata": {
      "needs_background": "light"
     },
     "output_type": "display_data"
    },
    {
     "name": "stdout",
     "output_type": "stream",
     "text": [
      "Total number of unique values for feature age is 85\n",
      "118    12.790802\n",
      "58      2.450748\n",
      "53      2.161067\n",
      "51      2.153377\n",
      "59      2.095697\n",
      "         ...    \n",
      "100     0.066652\n",
      "96      0.048707\n",
      "99      0.033326\n",
      "101     0.029481\n",
      "98      0.025635\n",
      "Name: age, Length: 85, dtype: float64\n"
     ]
    },
    {
     "data": {
      "image/png": "[encoded data removed]",
      "text/plain": [
       "<Figure size 1224x360 with 1 Axes>"
      ]
     },
     "metadata": {
      "needs_background": "light"
     },
     "output_type": "display_data"
    },
    {
     "name": "stdout",
     "output_type": "stream",
     "text": [
      "Total number of unique values for feature income is 91\n",
      "NaN         12.790802\n",
      "73000.0      1.859851\n",
      "72000.0      1.772691\n",
      "71000.0      1.740646\n",
      "57000.0      1.711166\n",
      "              ...    \n",
      "112000.0     0.265327\n",
      "107000.0     0.264045\n",
      "102000.0     0.261481\n",
      "117000.0     0.192266\n",
      "120000.0     0.082033\n",
      "Name: income, Length: 92, dtype: float64\n"
     ]
    },
    {
     "data": {
      "image/png": "[encoded data removed]",
      "text/plain": [
       "<Figure size 1224x360 with 1 Axes>"
      ]
     },
     "metadata": {
      "needs_background": "light"
     },
     "output_type": "display_data"
    },
    {
     "name": "stdout",
     "output_type": "stream",
     "text": [
      "Total number of unique values for feature mem_start_day is 31\n",
      "20    3.547945\n",
      "25    3.537691\n",
      "17    3.497956\n",
      "13    3.463348\n",
      "21    3.428740\n",
      "7     3.427458\n",
      "10    3.424895\n",
      "24    3.417204\n",
      "26    3.405668\n",
      "2     3.351834\n",
      "15    3.314662\n",
      "19    3.308253\n",
      "28    3.306972\n",
      "12    3.280054\n",
      "11    3.280054\n",
      "23    3.267237\n",
      "8     3.244165\n",
      "22    3.223656\n",
      "14    3.221093\n",
      "1     3.209557\n",
      "29    3.205712\n",
      "16    3.172386\n",
      "27    3.159568\n",
      "5     3.153159\n",
      "9     3.117269\n",
      "6     3.105733\n",
      "4     3.086507\n",
      "18    2.985247\n",
      "30    2.971147\n",
      "3     2.968584\n",
      "31    1.916249\n",
      "Name: mem_start_day, dtype: float64\n"
     ]
    },
    {
     "data": {
      "image/png": "[encoded data removed]",
      "text/plain": [
       "<Figure size 1224x360 with 1 Axes>"
      ]
     },
     "metadata": {
      "needs_background": "light"
     },
     "output_type": "display_data"
    },
    {
     "name": "stdout",
     "output_type": "stream",
     "text": [
      "Total number of unique values for feature mem_start_weekday is 7\n",
      "6    14.766013\n",
      "5    14.712178\n",
      "3    14.648090\n",
      "1    14.566056\n",
      "2    13.917480\n",
      "0    13.835446\n",
      "4    13.554738\n",
      "Name: mem_start_weekday, dtype: float64\n"
     ]
    },
    {
     "data": {
      "image/png": "[encoded data removed]",
      "text/plain": [
       "<Figure size 1224x360 with 1 Axes>"
      ]
     },
     "metadata": {
      "needs_background": "light"
     },
     "output_type": "display_data"
    },
    {
     "name": "stdout",
     "output_type": "stream",
     "text": [
      "Total number of unique values for feature mem_start_month is 12\n",
      "8     9.472294\n",
      "10    9.233885\n",
      "12    9.133907\n",
      "1     9.054437\n",
      "9     8.912160\n",
      "11    8.530192\n",
      "7     7.971340\n",
      "3     7.736775\n",
      "4     7.732930\n",
      "5     7.671405\n",
      "6     7.453504\n",
      "2     7.097171\n",
      "Name: mem_start_month, dtype: float64\n"
     ]
    },
    {
     "data": {
      "image/png": "[encoded data removed]",
      "text/plain": [
       "<Figure size 1224x360 with 1 Axes>"
      ]
     },
     "metadata": {
      "needs_background": "light"
     },
     "output_type": "display_data"
    },
    {
     "name": "stdout",
     "output_type": "stream",
     "text": [
      "Total number of unique values for feature membership_age is 600\n",
      "39.6    0.693439\n",
      "37.2    0.670367\n",
      "34.8    0.665240\n",
      "35.4    0.625505\n",
      "39.1    0.579361\n",
      "          ...   \n",
      "72.1    0.007691\n",
      "83.7    0.007691\n",
      "74.9    0.007691\n",
      "64.4    0.007691\n",
      "70.9    0.006409\n",
      "Name: membership_age, Length: 600, dtype: float64\n"
     ]
    },
    {
     "data": {
      "image/png": "[encoded data removed]",
      "text/plain": [
       "<Figure size 1224x360 with 1 Axes>"
      ]
     },
     "metadata": {
      "needs_background": "light"
     },
     "output_type": "display_data"
    },
    {
     "name": "stdout",
     "output_type": "stream",
     "text": [
      "Total number of unique values for feature reward is 5\n",
      "5     30.025507\n",
      "10    19.980261\n",
      "0     19.976415\n",
      "2     19.958471\n",
      "3     10.059346\n",
      "Name: reward, dtype: float64\n"
     ]
    },
    {
     "data": {
      "image/png": "[encoded data removed]",
      "text/plain": [
       "<Figure size 1224x360 with 1 Axes>"
      ]
     },
     "metadata": {
      "needs_background": "light"
     },
     "output_type": "display_data"
    },
    {
     "name": "stdout",
     "output_type": "stream",
     "text": [
      "Total number of unique values for feature difficulty is 5\n",
      "10    39.938731\n",
      "5     19.984106\n",
      "0     19.976415\n",
      "7     10.059346\n",
      "20    10.041401\n",
      "Name: difficulty, dtype: float64\n"
     ]
    },
    {
     "data": {
      "image/png": "[encoded data removed]",
      "text/plain": [
       "<Figure size 1224x360 with 1 Axes>"
      ]
     },
     "metadata": {
      "needs_background": "light"
     },
     "output_type": "display_data"
    },
    {
     "name": "stdout",
     "output_type": "stream",
     "text": [
      "Total number of unique values for feature duration is 5\n",
      "7     40.129715\n",
      "10    19.998206\n",
      "5     19.895664\n",
      "4      9.991412\n",
      "3      9.985003\n",
      "Name: duration, dtype: float64\n"
     ]
    },
    {
     "data": {
      "image/png": "[encoded data removed]",
      "text/plain": [
       "<Figure size 1224x360 with 1 Axes>"
      ]
     },
     "metadata": {
      "needs_background": "light"
     },
     "output_type": "display_data"
    },
    {
     "name": "stdout",
     "output_type": "stream",
     "text": [
      "Total number of unique values for feature web is 2\n",
      "1    79.995386\n",
      "0    20.004614\n",
      "Name: web, dtype: float64\n"
     ]
    },
    {
     "data": {
      "image/png": "[encoded data removed]",
      "text/plain": [
       "<Figure size 1224x360 with 1 Axes>"
      ]
     },
     "metadata": {
      "needs_background": "light"
     },
     "output_type": "display_data"
    },
    {
     "name": "stdout",
     "output_type": "stream",
     "text": [
      "Total number of unique values for feature email is 1\n",
      "1    100.0\n",
      "Name: email, dtype: float64\n"
     ]
    },
    {
     "data": {
      "image/png": "[encoded data removed]",
      "text/plain": [
       "<Figure size 1224x360 with 1 Axes>"
      ]
     },
     "metadata": {
      "needs_background": "light"
     },
     "output_type": "display_data"
    },
    {
     "name": "stdout",
     "output_type": "stream",
     "text": [
      "Total number of unique values for feature mobile is 2\n",
      "1    89.958599\n",
      "0    10.041401\n",
      "Name: mobile, dtype: float64\n"
     ]
    },
    {
     "data": {
      "image/png": "[encoded data removed]",
      "text/plain": [
       "<Figure size 1224x360 with 1 Axes>"
      ]
     },
     "metadata": {
      "needs_background": "light"
     },
     "output_type": "display_data"
    },
    {
     "name": "stdout",
     "output_type": "stream",
     "text": [
      "Total number of unique values for feature social is 2\n",
      "1    59.916428\n",
      "0    40.083572\n",
      "Name: social, dtype: float64\n"
     ]
    },
    {
     "data": {
      "image/png": "[encoded data removed]",
      "text/plain": [
       "<Figure size 1224x360 with 1 Axes>"
      ]
     },
     "metadata": {
      "needs_background": "light"
     },
     "output_type": "display_data"
    },
    {
     "name": "stdout",
     "output_type": "stream",
     "text": [
      "Total number of unique values for feature time_days is 6\n",
      "17.0    16.378482\n",
      "24.0    16.361819\n",
      "14.0    16.292603\n",
      "21.0    16.283630\n",
      "7.0     16.238768\n",
      "0.0     16.214415\n",
      "NaN      2.230283\n",
      "Name: time_days, dtype: float64\n"
     ]
    }
   ],
   "source": [
    "#univariate analysis\n",
    "for i in feats:\n",
    "    plot_distribution(reduced_tp, i)"
   ]
  },
  {
   "cell_type": "code",
   "execution_count": 103,
   "metadata": {},
   "outputs": [
    {
     "data": {
      "text/plain": [
       "(78017, 20)"
      ]
     },
     "execution_count": 103,
     "metadata": {},
     "output_type": "execute_result"
    }
   ],
   "source": [
    "#dropping columns based on correlation plot and univariate analysis\n",
    "\n",
    "#we know that offer success was based on the event - viewed and transaction\n",
    "#also as can be seen from above, email has only one distinct values\n",
    "#offer completed is highly correlated with offer received\n",
    "\n",
    "reduced_tp.drop(['offer viewed', 'offer completed','transaction','email'], axis=1, inplace=True)\n",
    "reduced_tp.shape"
   ]
  },
  {
   "cell_type": "code",
   "execution_count": 104,
   "metadata": {},
   "outputs": [
    {
     "data": {
      "text/plain": [
       "0    1740\n",
       "Name: offer_success, dtype: int64"
      ]
     },
     "execution_count": 104,
     "metadata": {},
     "output_type": "execute_result"
    }
   ],
   "source": [
    "#there are records with no offers received, \n",
    "#these are customers who have made the transactions irrespective of the offer, so lets remove them\n",
    "reduced_tp[reduced_tp['offer received'].isnull()]['offer_success'].value_counts()"
   ]
  },
  {
   "cell_type": "code",
   "execution_count": 105,
   "metadata": {},
   "outputs": [
    {
     "data": {
      "text/plain": [
       "(76277, 20)"
      ]
     },
     "execution_count": 105,
     "metadata": {},
     "output_type": "execute_result"
    }
   ],
   "source": [
    "#removing the above records\n",
    "reduced_tp = reduced_tp[reduced_tp['offer received'].notnull()]\n",
    "reduced_tp.shape"
   ]
  },
  {
   "cell_type": "code",
   "execution_count": 106,
   "metadata": {},
   "outputs": [
    {
     "data": {
      "text/plain": [
       "(66501, 20)"
      ]
     },
     "execution_count": 106,
     "metadata": {},
     "output_type": "execute_result"
    }
   ],
   "source": [
    "#13% of the customers have no income data, removing\n",
    "reduced_tp = reduced_tp[reduced_tp['income'].notnull()]\n",
    "reduced_tp.shape"
   ]
  },
  {
   "cell_type": "code",
   "execution_count": 107,
   "metadata": {},
   "outputs": [
    {
     "data": {
      "text/html": [
       "<div>\n",
       "<style scoped>\n",
       "    .dataframe tbody tr th:only-of-type {\n",
       "        vertical-align: middle;\n",
       "    }\n",
       "\n",
       "    .dataframe tbody tr th {\n",
       "        vertical-align: top;\n",
       "    }\n",
       "\n",
       "    .dataframe thead th {\n",
       "        text-align: right;\n",
       "    }\n",
       "</style>\n",
       "<table border=\"1\" class=\"dataframe\">\n",
       "  <thead>\n",
       "    <tr style=\"text-align: right;\">\n",
       "      <th></th>\n",
       "      <th>cust_id</th>\n",
       "      <th>offer_id</th>\n",
       "      <th>offer received</th>\n",
       "      <th>offer_success</th>\n",
       "      <th>amount</th>\n",
       "      <th>offer_type</th>\n",
       "      <th>gender</th>\n",
       "      <th>age</th>\n",
       "      <th>income</th>\n",
       "      <th>mem_start_day</th>\n",
       "      <th>mem_start_weekday</th>\n",
       "      <th>mem_start_month</th>\n",
       "      <th>membership_age</th>\n",
       "      <th>reward</th>\n",
       "      <th>difficulty</th>\n",
       "      <th>duration</th>\n",
       "      <th>web</th>\n",
       "      <th>mobile</th>\n",
       "      <th>social</th>\n",
       "      <th>time_days</th>\n",
       "    </tr>\n",
       "  </thead>\n",
       "  <tbody>\n",
       "    <tr>\n",
       "      <th>0</th>\n",
       "      <td>0009655768c64bdeb2e877511632db8f</td>\n",
       "      <td>2906b810c7d4411798c6938adc9daaa5</td>\n",
       "      <td>1.0</td>\n",
       "      <td>0</td>\n",
       "      <td>69.2</td>\n",
       "      <td>discount</td>\n",
       "      <td>M</td>\n",
       "      <td>33</td>\n",
       "      <td>72000.0</td>\n",
       "      <td>21</td>\n",
       "      <td>4</td>\n",
       "      <td>4</td>\n",
       "      <td>43.0</td>\n",
       "      <td>2</td>\n",
       "      <td>10</td>\n",
       "      <td>7</td>\n",
       "      <td>1</td>\n",
       "      <td>1</td>\n",
       "      <td>0</td>\n",
       "      <td>24.0</td>\n",
       "    </tr>\n",
       "    <tr>\n",
       "      <th>1</th>\n",
       "      <td>0009655768c64bdeb2e877511632db8f</td>\n",
       "      <td>3f207df678b143eea3cee63160fa8bed</td>\n",
       "      <td>1.0</td>\n",
       "      <td>0</td>\n",
       "      <td>0.0</td>\n",
       "      <td>informational</td>\n",
       "      <td>M</td>\n",
       "      <td>33</td>\n",
       "      <td>72000.0</td>\n",
       "      <td>21</td>\n",
       "      <td>4</td>\n",
       "      <td>4</td>\n",
       "      <td>43.0</td>\n",
       "      <td>0</td>\n",
       "      <td>0</td>\n",
       "      <td>4</td>\n",
       "      <td>1</td>\n",
       "      <td>1</td>\n",
       "      <td>0</td>\n",
       "      <td>14.0</td>\n",
       "    </tr>\n",
       "  </tbody>\n",
       "</table>\n",
       "</div>"
      ],
      "text/plain": [
       "                            cust_id                          offer_id  \\\n",
       "0  0009655768c64bdeb2e877511632db8f  2906b810c7d4411798c6938adc9daaa5   \n",
       "1  0009655768c64bdeb2e877511632db8f  3f207df678b143eea3cee63160fa8bed   \n",
       "\n",
       "   offer received  offer_success  amount     offer_type gender  age   income  \\\n",
       "0             1.0              0    69.2       discount      M   33  72000.0   \n",
       "1             1.0              0     0.0  informational      M   33  72000.0   \n",
       "\n",
       "   mem_start_day  mem_start_weekday  mem_start_month  membership_age  reward  \\\n",
       "0             21                  4                4            43.0       2   \n",
       "1             21                  4                4            43.0       0   \n",
       "\n",
       "   difficulty  duration  web  mobile  social  time_days  \n",
       "0          10         7    1       1       0       24.0  \n",
       "1           0         4    1       1       0       14.0  "
      ]
     },
     "execution_count": 107,
     "metadata": {},
     "output_type": "execute_result"
    }
   ],
   "source": [
    "reduced_tp.head(2)"
   ]
  },
  {
   "cell_type": "markdown",
   "metadata": {},
   "source": [
    "# Feature Engineering"
   ]
  },
  {
   "cell_type": "code",
   "execution_count": null,
   "metadata": {},
   "outputs": [],
   "source": []
  },
  {
   "cell_type": "code",
   "execution_count": 108,
   "metadata": {},
   "outputs": [],
   "source": [
    "def frequency_encoding(df, col_name):\n",
    "    '''\n",
    "    input:\n",
    "    - df, col_name: dataframe and the columns passed for encodin\n",
    "    output:\n",
    "    - df: dataframe with frequency encoded columns\n",
    "    '''\n",
    "    new_name = \"{}_counts\".format(col_name)\n",
    "    new_col_name = \"{}_freq\".format(col_name)\n",
    "    grouped = df.groupby(col_name).size().reset_index(name=new_name)\n",
    "    df = df.merge(grouped, how = \"left\", on = col_name)\n",
    "    df[new_col_name] = df[new_name]/df[new_name].count()\n",
    "    del df[new_name]\n",
    "    return df"
   ]
  },
  {
   "cell_type": "code",
   "execution_count": 109,
   "metadata": {},
   "outputs": [
    {
     "name": "stdout",
     "output_type": "stream",
     "text": [
      "Frequency encoding for offer_id\n",
      "Frequency encoding for cust_id\n",
      "Wall time: 196 ms\n"
     ]
    }
   ],
   "source": [
    "%%time\n",
    "categorical_features = [\"offer_id\",\"cust_id\"]\n",
    "#applying frequency encoding on offer id and cust id\n",
    "for cat in categorical_features:\n",
    "    print(\"Frequency encoding for {}\".format(cat))\n",
    "    reduced_tp = frequency_encoding(reduced_tp, cat)\n",
    "        \n",
    "    "
   ]
  },
  {
   "cell_type": "code",
   "execution_count": 110,
   "metadata": {},
   "outputs": [],
   "source": [
    "#https://www.kaggle.com/tnarik/likelihood-encoding-of-categorical-features\n",
    "from sklearn.model_selection import KFold\n",
    "def impact_coding(data, feature, target='y'):\n",
    "    '''\n",
    "    In this implementation we get the values and the dictionary as two different steps.\n",
    "    This is just because initially we were ignoring the dictionary as a result variable.\n",
    "    \n",
    "    In this implementation the KFolds use shuffling. If you want reproducibility the cv \n",
    "    could be moved to a parameter.\n",
    "    \n",
    "     input:\n",
    "    - data: dataframe \n",
    "    - feature: columns passed for target encoding\n",
    "    - target\n",
    "    output:\n",
    "    - df: dataframe with frequency encoded columns\n",
    "    \n",
    "    '''\n",
    "    n_folds = 5\n",
    "    n_inner_folds = 3\n",
    "    impact_coded = pd.Series()\n",
    "    \n",
    "    oof_default_mean = data[target].mean() # Gobal mean to use by default (you could further tune this)\n",
    "    kf = KFold(n_splits=n_folds, shuffle=True)\n",
    "    oof_mean_cv = pd.DataFrame()\n",
    "    split = 0\n",
    "    for infold, oof in kf.split(data[feature]):\n",
    "            impact_coded_cv = pd.Series()\n",
    "            kf_inner = KFold(n_splits=n_inner_folds, shuffle=True)\n",
    "            inner_split = 0\n",
    "            inner_oof_mean_cv = pd.DataFrame()\n",
    "            oof_default_inner_mean = data.iloc[infold][target].mean()\n",
    "            for infold_inner, oof_inner in kf_inner.split(data.iloc[infold]):\n",
    "                # The mean to apply to the inner oof split (a 1/n_folds % based on the rest)\n",
    "                oof_mean = data.iloc[infold_inner].groupby(by=feature)[target].mean()\n",
    "                impact_coded_cv = impact_coded_cv.append(data.iloc[infold].apply(\n",
    "                            lambda x: oof_mean[x[feature]]\n",
    "                                      if x[feature] in oof_mean.index\n",
    "                                      else oof_default_inner_mean\n",
    "                            , axis=1))\n",
    "\n",
    "                # Also populate mapping (this has all group -> mean for all inner CV folds)\n",
    "                inner_oof_mean_cv = inner_oof_mean_cv.join(pd.DataFrame(oof_mean), rsuffix=inner_split, how='outer')\n",
    "                inner_oof_mean_cv.fillna(value=oof_default_inner_mean, inplace=True)\n",
    "                inner_split += 1\n",
    "\n",
    "            # Also populate mapping\n",
    "            oof_mean_cv = oof_mean_cv.join(pd.DataFrame(inner_oof_mean_cv), rsuffix=split, how='outer')\n",
    "            oof_mean_cv.fillna(value=oof_default_mean, inplace=True)\n",
    "            split += 1\n",
    "            \n",
    "            impact_coded = impact_coded.append(data.iloc[oof].apply(\n",
    "                            lambda x: inner_oof_mean_cv.loc[x[feature]].mean()\n",
    "                                      if x[feature] in inner_oof_mean_cv.index\n",
    "                                      else oof_default_mean\n",
    "                            , axis=1))\n",
    "\n",
    "    return impact_coded"
   ]
  },
  {
   "cell_type": "code",
   "execution_count": 111,
   "metadata": {},
   "outputs": [
    {
     "name": "stdout",
     "output_type": "stream",
     "text": [
      "Impact coding for offer_id\n",
      "Impact coding for cust_id\n",
      "Wall time: 1min 49s\n"
     ]
    }
   ],
   "source": [
    "%%time\n",
    "impact_coding_map = {}\n",
    "for f in categorical_features:\n",
    "        print(\"Impact coding for {}\".format(f))\n",
    "        reduced_tp[\"impact_encoded_{}\".format(f)] = impact_coding(reduced_tp, f, target=\"offer_success\")\n",
    "        #impact_coding_map[f] = (impact_coding_mapping, default_coding)\n",
    "        #mapping, default_mean = impact_coding_map[f]\n"
   ]
  },
  {
   "cell_type": "code",
   "execution_count": 113,
   "metadata": {},
   "outputs": [],
   "source": [
    "dups = reduced_tp.copy()"
   ]
  },
  {
   "cell_type": "code",
   "execution_count": 114,
   "metadata": {},
   "outputs": [
    {
     "name": "stdout",
     "output_type": "stream",
     "text": [
      "Wall time: 224 ms\n"
     ]
    },
    {
     "data": {
      "text/plain": [
       "(66501, 29)"
      ]
     },
     "execution_count": 114,
     "metadata": {},
     "output_type": "execute_result"
    }
   ],
   "source": [
    "%%time\n",
    "#Aggregate functions\n",
    "aggs = {\n",
    "    'income': ['sum', 'mean'],\n",
    "    'age': ['sum', 'mean'],\n",
    "    'amount': ['mean'],\n",
    "}\n",
    "\n",
    "agg_train = reduced_tp.groupby(['cust_id','offer_id']).agg(aggs)\n",
    "new_columns = [k + '_' + agg for k in aggs.keys() for agg in aggs[k]]\n",
    "agg_train.columns = new_columns\n",
    "agg_train = agg_train.reset_index()\n",
    "\n",
    "reduced_tp = reduced_tp.merge(agg_train, on =['cust_id','offer_id'], how='left')\n",
    "reduced_tp.shape"
   ]
  },
  {
   "cell_type": "code",
   "execution_count": 115,
   "metadata": {},
   "outputs": [
    {
     "name": "stdout",
     "output_type": "stream",
     "text": [
      "Wall time: 136 ms\n"
     ]
    },
    {
     "data": {
      "text/plain": [
       "(66501, 34)"
      ]
     },
     "execution_count": 115,
     "metadata": {},
     "output_type": "execute_result"
    }
   ],
   "source": [
    "%%time\n",
    "#Aggregate functions\n",
    "aggs = {\n",
    "    'income': ['sum', 'mean'],\n",
    "    'age': ['sum', 'mean'],\n",
    "    'amount': ['mean'],\n",
    "}\n",
    "\n",
    "agg_train = reduced_tp.groupby(['offer_id']).agg(aggs)\n",
    "new_columns = [k + '_offer_' + agg for k in aggs.keys() for agg in aggs[k]]\n",
    "agg_train.columns = new_columns\n",
    "agg_train = agg_train.reset_index()\n",
    "\n",
    "reduced_tp = reduced_tp.merge(agg_train, on =['offer_id'], how='left')\n",
    "reduced_tp.shape"
   ]
  },
  {
   "cell_type": "code",
   "execution_count": 116,
   "metadata": {},
   "outputs": [
    {
     "data": {
      "text/html": [
       "<div>\n",
       "<style scoped>\n",
       "    .dataframe tbody tr th:only-of-type {\n",
       "        vertical-align: middle;\n",
       "    }\n",
       "\n",
       "    .dataframe tbody tr th {\n",
       "        vertical-align: top;\n",
       "    }\n",
       "\n",
       "    .dataframe thead th {\n",
       "        text-align: right;\n",
       "    }\n",
       "</style>\n",
       "<table border=\"1\" class=\"dataframe\">\n",
       "  <thead>\n",
       "    <tr style=\"text-align: right;\">\n",
       "      <th></th>\n",
       "      <th>cust_id</th>\n",
       "      <th>offer_id</th>\n",
       "      <th>offer received</th>\n",
       "      <th>offer_success</th>\n",
       "      <th>amount</th>\n",
       "      <th>offer_type</th>\n",
       "      <th>gender</th>\n",
       "      <th>age</th>\n",
       "      <th>income</th>\n",
       "      <th>mem_start_day</th>\n",
       "      <th>mem_start_weekday</th>\n",
       "      <th>mem_start_month</th>\n",
       "      <th>membership_age</th>\n",
       "      <th>reward</th>\n",
       "      <th>difficulty</th>\n",
       "      <th>duration</th>\n",
       "      <th>web</th>\n",
       "      <th>mobile</th>\n",
       "      <th>social</th>\n",
       "      <th>time_days</th>\n",
       "      <th>offer_id_freq</th>\n",
       "      <th>cust_id_freq</th>\n",
       "      <th>impact_encoded_offer_id</th>\n",
       "      <th>impact_encoded_cust_id</th>\n",
       "      <th>income_sum</th>\n",
       "      <th>income_mean</th>\n",
       "      <th>age_sum</th>\n",
       "      <th>age_mean</th>\n",
       "      <th>amount_mean</th>\n",
       "      <th>income_offer_sum</th>\n",
       "      <th>income_offer_mean</th>\n",
       "      <th>age_offer_sum</th>\n",
       "      <th>age_offer_mean</th>\n",
       "      <th>amount_offer_mean</th>\n",
       "    </tr>\n",
       "  </thead>\n",
       "  <tbody>\n",
       "    <tr>\n",
       "      <th>0</th>\n",
       "      <td>0009655768c64bdeb2e877511632db8f</td>\n",
       "      <td>2906b810c7d4411798c6938adc9daaa5</td>\n",
       "      <td>1.0</td>\n",
       "      <td>0</td>\n",
       "      <td>69.20</td>\n",
       "      <td>discount</td>\n",
       "      <td>M</td>\n",
       "      <td>33</td>\n",
       "      <td>72000.0</td>\n",
       "      <td>21</td>\n",
       "      <td>4</td>\n",
       "      <td>4</td>\n",
       "      <td>43.0</td>\n",
       "      <td>2</td>\n",
       "      <td>10</td>\n",
       "      <td>7</td>\n",
       "      <td>1</td>\n",
       "      <td>1</td>\n",
       "      <td>0</td>\n",
       "      <td>24.0</td>\n",
       "      <td>0.099713</td>\n",
       "      <td>0.000075</td>\n",
       "      <td>0.425453</td>\n",
       "      <td>0.355556</td>\n",
       "      <td>72000.0</td>\n",
       "      <td>72000.0</td>\n",
       "      <td>33</td>\n",
       "      <td>33</td>\n",
       "      <td>69.20</td>\n",
       "      <td>434118000.0</td>\n",
       "      <td>65467.953552</td>\n",
       "      <td>359270</td>\n",
       "      <td>54.180365</td>\n",
       "      <td>30.892470</td>\n",
       "    </tr>\n",
       "    <tr>\n",
       "      <th>1</th>\n",
       "      <td>0009655768c64bdeb2e877511632db8f</td>\n",
       "      <td>3f207df678b143eea3cee63160fa8bed</td>\n",
       "      <td>1.0</td>\n",
       "      <td>0</td>\n",
       "      <td>0.00</td>\n",
       "      <td>informational</td>\n",
       "      <td>M</td>\n",
       "      <td>33</td>\n",
       "      <td>72000.0</td>\n",
       "      <td>21</td>\n",
       "      <td>4</td>\n",
       "      <td>4</td>\n",
       "      <td>43.0</td>\n",
       "      <td>0</td>\n",
       "      <td>0</td>\n",
       "      <td>4</td>\n",
       "      <td>1</td>\n",
       "      <td>1</td>\n",
       "      <td>0</td>\n",
       "      <td>14.0</td>\n",
       "      <td>0.100104</td>\n",
       "      <td>0.000075</td>\n",
       "      <td>0.367297</td>\n",
       "      <td>0.355556</td>\n",
       "      <td>72000.0</td>\n",
       "      <td>72000.0</td>\n",
       "      <td>33</td>\n",
       "      <td>33</td>\n",
       "      <td>0.00</td>\n",
       "      <td>433914000.0</td>\n",
       "      <td>65181.613339</td>\n",
       "      <td>363213</td>\n",
       "      <td>54.561064</td>\n",
       "      <td>26.298998</td>\n",
       "    </tr>\n",
       "    <tr>\n",
       "      <th>2</th>\n",
       "      <td>0009655768c64bdeb2e877511632db8f</td>\n",
       "      <td>5a8bc65990b245e5a138643cd4eb9837</td>\n",
       "      <td>1.0</td>\n",
       "      <td>1</td>\n",
       "      <td>22.16</td>\n",
       "      <td>informational</td>\n",
       "      <td>M</td>\n",
       "      <td>33</td>\n",
       "      <td>72000.0</td>\n",
       "      <td>21</td>\n",
       "      <td>4</td>\n",
       "      <td>4</td>\n",
       "      <td>43.0</td>\n",
       "      <td>0</td>\n",
       "      <td>0</td>\n",
       "      <td>3</td>\n",
       "      <td>0</td>\n",
       "      <td>1</td>\n",
       "      <td>1</td>\n",
       "      <td>7.0</td>\n",
       "      <td>0.099893</td>\n",
       "      <td>0.000075</td>\n",
       "      <td>0.607415</td>\n",
       "      <td>0.416667</td>\n",
       "      <td>72000.0</td>\n",
       "      <td>72000.0</td>\n",
       "      <td>33</td>\n",
       "      <td>33</td>\n",
       "      <td>22.16</td>\n",
       "      <td>435530000.0</td>\n",
       "      <td>65562.245973</td>\n",
       "      <td>362433</td>\n",
       "      <td>54.558633</td>\n",
       "      <td>28.710461</td>\n",
       "    </tr>\n",
       "    <tr>\n",
       "      <th>3</th>\n",
       "      <td>0009655768c64bdeb2e877511632db8f</td>\n",
       "      <td>f19421c1d4aa40978ebb69ca19b0e20d</td>\n",
       "      <td>1.0</td>\n",
       "      <td>0</td>\n",
       "      <td>8.57</td>\n",
       "      <td>bogo</td>\n",
       "      <td>M</td>\n",
       "      <td>33</td>\n",
       "      <td>72000.0</td>\n",
       "      <td>21</td>\n",
       "      <td>4</td>\n",
       "      <td>4</td>\n",
       "      <td>43.0</td>\n",
       "      <td>5</td>\n",
       "      <td>5</td>\n",
       "      <td>5</td>\n",
       "      <td>1</td>\n",
       "      <td>1</td>\n",
       "      <td>1</td>\n",
       "      <td>17.0</td>\n",
       "      <td>0.098886</td>\n",
       "      <td>0.000075</td>\n",
       "      <td>0.751004</td>\n",
       "      <td>0.388889</td>\n",
       "      <td>72000.0</td>\n",
       "      <td>72000.0</td>\n",
       "      <td>33</td>\n",
       "      <td>33</td>\n",
       "      <td>8.57</td>\n",
       "      <td>430685000.0</td>\n",
       "      <td>65493.461071</td>\n",
       "      <td>358227</td>\n",
       "      <td>54.474909</td>\n",
       "      <td>37.926346</td>\n",
       "    </tr>\n",
       "    <tr>\n",
       "      <th>4</th>\n",
       "      <td>0009655768c64bdeb2e877511632db8f</td>\n",
       "      <td>fafdcd668e3743c1bb461111dcafc2a4</td>\n",
       "      <td>1.0</td>\n",
       "      <td>1</td>\n",
       "      <td>27.67</td>\n",
       "      <td>discount</td>\n",
       "      <td>M</td>\n",
       "      <td>33</td>\n",
       "      <td>72000.0</td>\n",
       "      <td>21</td>\n",
       "      <td>4</td>\n",
       "      <td>4</td>\n",
       "      <td>43.0</td>\n",
       "      <td>2</td>\n",
       "      <td>10</td>\n",
       "      <td>10</td>\n",
       "      <td>1</td>\n",
       "      <td>1</td>\n",
       "      <td>1</td>\n",
       "      <td>21.0</td>\n",
       "      <td>0.100029</td>\n",
       "      <td>0.000075</td>\n",
       "      <td>0.810664</td>\n",
       "      <td>0.416667</td>\n",
       "      <td>72000.0</td>\n",
       "      <td>72000.0</td>\n",
       "      <td>33</td>\n",
       "      <td>33</td>\n",
       "      <td>27.67</td>\n",
       "      <td>435053000.0</td>\n",
       "      <td>65401.834035</td>\n",
       "      <td>361934</td>\n",
       "      <td>54.409802</td>\n",
       "      <td>46.732195</td>\n",
       "    </tr>\n",
       "  </tbody>\n",
       "</table>\n",
       "</div>"
      ],
      "text/plain": [
       "                            cust_id                          offer_id  \\\n",
       "0  0009655768c64bdeb2e877511632db8f  2906b810c7d4411798c6938adc9daaa5   \n",
       "1  0009655768c64bdeb2e877511632db8f  3f207df678b143eea3cee63160fa8bed   \n",
       "2  0009655768c64bdeb2e877511632db8f  5a8bc65990b245e5a138643cd4eb9837   \n",
       "3  0009655768c64bdeb2e877511632db8f  f19421c1d4aa40978ebb69ca19b0e20d   \n",
       "4  0009655768c64bdeb2e877511632db8f  fafdcd668e3743c1bb461111dcafc2a4   \n",
       "\n",
       "   offer received  offer_success  amount     offer_type gender  age   income  \\\n",
       "0             1.0              0   69.20       discount      M   33  72000.0   \n",
       "1             1.0              0    0.00  informational      M   33  72000.0   \n",
       "2             1.0              1   22.16  informational      M   33  72000.0   \n",
       "3             1.0              0    8.57           bogo      M   33  72000.0   \n",
       "4             1.0              1   27.67       discount      M   33  72000.0   \n",
       "\n",
       "   mem_start_day  mem_start_weekday  mem_start_month  membership_age  reward  \\\n",
       "0             21                  4                4            43.0       2   \n",
       "1             21                  4                4            43.0       0   \n",
       "2             21                  4                4            43.0       0   \n",
       "3             21                  4                4            43.0       5   \n",
       "4             21                  4                4            43.0       2   \n",
       "\n",
       "   difficulty  duration  web  mobile  social  time_days  offer_id_freq  \\\n",
       "0          10         7    1       1       0       24.0       0.099713   \n",
       "1           0         4    1       1       0       14.0       0.100104   \n",
       "2           0         3    0       1       1        7.0       0.099893   \n",
       "3           5         5    1       1       1       17.0       0.098886   \n",
       "4          10        10    1       1       1       21.0       0.100029   \n",
       "\n",
       "   cust_id_freq  impact_encoded_offer_id  impact_encoded_cust_id  income_sum  \\\n",
       "0      0.000075                 0.425453                0.355556     72000.0   \n",
       "1      0.000075                 0.367297                0.355556     72000.0   \n",
       "2      0.000075                 0.607415                0.416667     72000.0   \n",
       "3      0.000075                 0.751004                0.388889     72000.0   \n",
       "4      0.000075                 0.810664                0.416667     72000.0   \n",
       "\n",
       "   income_mean  age_sum  age_mean  amount_mean  income_offer_sum  \\\n",
       "0      72000.0       33        33        69.20       434118000.0   \n",
       "1      72000.0       33        33         0.00       433914000.0   \n",
       "2      72000.0       33        33        22.16       435530000.0   \n",
       "3      72000.0       33        33         8.57       430685000.0   \n",
       "4      72000.0       33        33        27.67       435053000.0   \n",
       "\n",
       "   income_offer_mean  age_offer_sum  age_offer_mean  amount_offer_mean  \n",
       "0       65467.953552         359270       54.180365          30.892470  \n",
       "1       65181.613339         363213       54.561064          26.298998  \n",
       "2       65562.245973         362433       54.558633          28.710461  \n",
       "3       65493.461071         358227       54.474909          37.926346  \n",
       "4       65401.834035         361934       54.409802          46.732195  "
      ]
     },
     "execution_count": 116,
     "metadata": {},
     "output_type": "execute_result"
    }
   ],
   "source": [
    "reduced_tp.head()"
   ]
  },
  {
   "cell_type": "code",
   "execution_count": 117,
   "metadata": {},
   "outputs": [],
   "source": [
    "from sklearn import preprocessing\n",
    "cat_cols = ['cust_id','offer_id','offer_type','gender']\n",
    "le = preprocessing.LabelEncoder()\n",
    "\n",
    "def label_encoder(df):\n",
    "    '''\n",
    "    input:\n",
    "    - df : dataframe and the columns passed for encodin\n",
    "    '''\n",
    "    for i in cat_cols:\n",
    "        print('Converting {}'.format(i))\n",
    "        df[i] = le.fit_transform(df[i])"
   ]
  },
  {
   "cell_type": "code",
   "execution_count": 118,
   "metadata": {},
   "outputs": [
    {
     "name": "stdout",
     "output_type": "stream",
     "text": [
      "Converting cust_id\n",
      "Converting offer_id\n",
      "Converting offer_type\n",
      "Converting gender\n"
     ]
    }
   ],
   "source": [
    "#apply label encoding\n",
    "label_encoder(reduced_tp)"
   ]
  },
  {
   "cell_type": "code",
   "execution_count": 119,
   "metadata": {},
   "outputs": [
    {
     "name": "stdout",
     "output_type": "stream",
     "text": [
      "<class 'pandas.core.frame.DataFrame'>\n",
      "Int64Index: 66501 entries, 0 to 66500\n",
      "Data columns (total 34 columns):\n",
      "cust_id                    66501 non-null int32\n",
      "offer_id                   66501 non-null int32\n",
      "offer received             66501 non-null float64\n",
      "offer_success              66501 non-null int32\n",
      "amount                     66501 non-null float64\n",
      "offer_type                 66501 non-null int32\n",
      "gender                     66501 non-null int32\n",
      "age                        66501 non-null int64\n",
      "income                     66501 non-null float64\n",
      "mem_start_day              66501 non-null uint8\n",
      "mem_start_weekday          66501 non-null int64\n",
      "mem_start_month            66501 non-null uint8\n",
      "membership_age             66501 non-null float64\n",
      "reward                     66501 non-null int64\n",
      "difficulty                 66501 non-null int64\n",
      "duration                   66501 non-null int64\n",
      "web                        66501 non-null int64\n",
      "mobile                     66501 non-null int64\n",
      "social                     66501 non-null int64\n",
      "time_days                  66501 non-null float64\n",
      "offer_id_freq              66501 non-null float64\n",
      "cust_id_freq               66501 non-null float64\n",
      "impact_encoded_offer_id    66501 non-null float64\n",
      "impact_encoded_cust_id     66501 non-null float64\n",
      "income_sum                 66501 non-null float64\n",
      "income_mean                66501 non-null float64\n",
      "age_sum                    66501 non-null int64\n",
      "age_mean                   66501 non-null int64\n",
      "amount_mean                66501 non-null float64\n",
      "income_offer_sum           66501 non-null float64\n",
      "income_offer_mean          66501 non-null float64\n",
      "age_offer_sum              66501 non-null int64\n",
      "age_offer_mean             66501 non-null float64\n",
      "amount_offer_mean          66501 non-null float64\n",
      "dtypes: float64(16), int32(5), int64(11), uint8(2)\n",
      "memory usage: 15.6 MB\n"
     ]
    }
   ],
   "source": [
    "reduced_tp.info()"
   ]
  },
  {
   "cell_type": "code",
   "execution_count": 120,
   "metadata": {},
   "outputs": [
    {
     "data": {
      "text/plain": [
       "cust_id                    0\n",
       "offer_id                   0\n",
       "offer received             0\n",
       "offer_success              0\n",
       "amount                     0\n",
       "offer_type                 0\n",
       "gender                     0\n",
       "age                        0\n",
       "income                     0\n",
       "mem_start_day              0\n",
       "mem_start_weekday          0\n",
       "mem_start_month            0\n",
       "membership_age             0\n",
       "reward                     0\n",
       "difficulty                 0\n",
       "duration                   0\n",
       "web                        0\n",
       "mobile                     0\n",
       "social                     0\n",
       "time_days                  0\n",
       "offer_id_freq              0\n",
       "cust_id_freq               0\n",
       "impact_encoded_offer_id    0\n",
       "impact_encoded_cust_id     0\n",
       "income_sum                 0\n",
       "income_mean                0\n",
       "age_sum                    0\n",
       "age_mean                   0\n",
       "amount_mean                0\n",
       "income_offer_sum           0\n",
       "income_offer_mean          0\n",
       "age_offer_sum              0\n",
       "age_offer_mean             0\n",
       "amount_offer_mean          0\n",
       "dtype: int64"
      ]
     },
     "execution_count": 120,
     "metadata": {},
     "output_type": "execute_result"
    }
   ],
   "source": [
    "np.sum(reduced_tp.isnull())"
   ]
  },
  {
   "cell_type": "code",
   "execution_count": 121,
   "metadata": {},
   "outputs": [],
   "source": [
    "#splitting the dataframe into features and target\n",
    "features = reduced_tp.drop(['offer_success','offer_id','cust_id'], axis=1)\n",
    "target = reduced_tp['offer_success']"
   ]
  },
  {
   "cell_type": "code",
   "execution_count": 122,
   "metadata": {},
   "outputs": [],
   "source": [
    "#Setup for 5 K-Fold validation\n",
    "n_fold = 5\n",
    "folds = KFold(n_splits=n_fold, random_state=42)"
   ]
  },
  {
   "cell_type": "code",
   "execution_count": 123,
   "metadata": {},
   "outputs": [],
   "source": [
    "#split the features and target intp train and test\n",
    "X, X_test, y, y_test = train_test_split(features, target, test_size=0.2, random_state=123)"
   ]
  },
  {
   "cell_type": "code",
   "execution_count": 124,
   "metadata": {},
   "outputs": [],
   "source": [
    "def train_model(X, X_test, y, params=None, model_type='lgb', plot_feature_importance=False):\n",
    "    '''\n",
    "   input\n",
    "   -X : train dataset\n",
    "   -X_test: test dataset\n",
    "   -y : train target\n",
    "   -params: paramaters for train the model\n",
    "   -model_type: classifier name\n",
    "   -plot_feature_importaince: indicator to plot the feature importance\n",
    "   \n",
    "   output\n",
    "   -prediction - predicted target for test \n",
    "   '''\n",
    "    #oof = np.zeros(X.shape[0])\n",
    "    prediction = np.zeros(X_test.shape[0])\n",
    "    mse = []\n",
    "    scores = []\n",
    "    f1 = []\n",
    "    feature_importance = pd.DataFrame()\n",
    "    for fold_n, (train_index, valid_index) in enumerate(folds.split(X)):\n",
    "        print('Fold', fold_n, 'started at', time.ctime())\n",
    "        X_train, X_valid = X.values[train_index], X.values[valid_index]\n",
    "        y_train, y_valid = y.values[train_index], y.values[valid_index]\n",
    "        \n",
    "        if model_type=='rf':\n",
    "            model = RandomForestClassifier(**params)\n",
    "            model.fit(X_train, y_train)\n",
    "            pred_valid = model.predict(X_valid)\n",
    "            pred_test = model.predict(X_test)\n",
    "            \n",
    "                \n",
    "        if model_type=='lgb':\n",
    "            model = lgb.LGBMClassifier(**params)#n_estimators = 20000\n",
    "            model.fit(X_train, y_train, \n",
    "                    eval_set=[(X_train, y_train), (X_valid, y_valid)], eval_metric='error',  \n",
    "                      verbose=1000, early_stopping_rounds=200)\n",
    "            \n",
    "            pred_valid = model.predict(X_valid)\n",
    "            pred_test = model.predict(X_test, num_iteration=model.best_iteration_)\n",
    "            \n",
    "        if model_type=='xgb':\n",
    "            train_data = xgb.DMatrix(data=X_train, label=y_train)\n",
    "            valid_data = xgb.DMatrix(data=X_valid, label=y_valid)\n",
    "            watchlist = [(train_data, 'train'), (valid_data, 'valid_data')]\n",
    "            model = xgb.train(dtrain=train_data, num_boost_round=200, \n",
    "                      evals=watchlist, early_stopping_rounds=200, verbose_eval=100,params=params)\n",
    "            pred_valid = model.predict(xgb.DMatrix(X_valid), ntree_limit=model.best_ntree_limit).round()\n",
    "            pred_test = model.predict(xgb.DMatrix(X_test.values), ntree_limit=model.best_ntree_limit)\n",
    "            \n",
    "            \n",
    "        if model_type == 'ada':\n",
    "            model = AdaBoostClassifier(**params)\n",
    "            model.fit(X_train, y_train)\n",
    "\n",
    "            pred_valid = model.predict(X_valid)\n",
    "            pred_test = model.predict(X_test)\n",
    "            \n",
    "        if model_type == 'tree':\n",
    "            model = DecisionTreeClassifier(**params)\n",
    "            model.fit(X_train, y_train)\n",
    "            pred_valid = model.predict(X_valid)\n",
    "            pred_test = model.predict(X_test)\n",
    "            \n",
    "        if model_type == 'gbm':\n",
    "            model = GradientBoostingClassifier(**params)\n",
    "            model.fit(X_train, y_train)\n",
    "\n",
    "            pred_valid = model.predict(X_valid)\n",
    "            pred_test = model.predict(X_test)    \n",
    "        \n",
    "        #oof[valid_index] = pred_valid.reshape(-1,)\n",
    "        #mse.append(mean_squared_error(y_valid, pred_valid))\n",
    "        scores.append(accuracy_score(y_valid, pred_valid))\n",
    "        f1.append(f1_score(y_valid, pred_valid))\n",
    "        prediction += pred_test \n",
    "        \n",
    "        if model_type == 'rf':\n",
    "            # feature importance\n",
    "            fold_importance = pd.DataFrame()\n",
    "            fold_importance[\"feature\"] = X.columns\n",
    "            fold_importance[\"importance\"] = model.feature_importances_\n",
    "            fold_importance[\"fold\"] = fold_n + 1\n",
    "            feature_importance = pd.concat([feature_importance, fold_importance], axis=0)\n",
    "        \n",
    "            \n",
    "            \n",
    "    prediction /= n_fold\n",
    "    print('CV mean score: {0:.4f}, std: {1:.4f}.'.format(np.mean(scores), np.std(scores)))\n",
    "    print('CV mean f1 score: {0:.4f}, std: {1:.4f}.'.format(np.mean(f1), np.std(f1)))\n",
    "    #print(classification_report(y_test, prediction.round(), digits=4))\n",
    "    \n",
    "    #return oof, prediction\n",
    "    if model_type == 'rf':\n",
    "        feature_importance[\"importance\"] /= n_fold\n",
    "        if plot_feature_importance:\n",
    "            cols = feature_importance[[\"feature\", \"importance\"]].groupby(\"feature\").mean().sort_values(\n",
    "                by=\"importance\", ascending=False)[:50].index\n",
    "\n",
    "            best_features = feature_importance.loc[feature_importance.feature.isin(cols)]\n",
    "\n",
    "            plt.figure(figsize=(16, 12));\n",
    "            sns.barplot(x=\"importance\", y=\"feature\", data=best_features.sort_values(by=\"importance\", ascending=False));\n",
    "            plt.title('Random Forest Features (avg over folds)');\n",
    "            \n",
    "        \n",
    "        \n",
    "            return prediction, feature_importance\n",
    "        return prediction\n",
    "    \n",
    "    else:\n",
    "        return prediction"
   ]
  },
  {
   "cell_type": "markdown",
   "metadata": {},
   "source": [
    "# Random Forest"
   ]
  },
  {
   "cell_type": "code",
   "execution_count": 125,
   "metadata": {},
   "outputs": [
    {
     "name": "stdout",
     "output_type": "stream",
     "text": [
      "Fold 0 started at Thu Nov 19 12:19:10 2020\n",
      "Fold 1 started at Thu Nov 19 12:19:11 2020\n",
      "Fold 2 started at Thu Nov 19 12:19:12 2020\n",
      "Fold 3 started at Thu Nov 19 12:19:14 2020\n",
      "Fold 4 started at Thu Nov 19 12:19:15 2020\n",
      "CV mean score: 0.8960, std: 0.0018.\n",
      "CV mean f1 score: 0.9128, std: 0.0014.\n",
      "Wall time: 5.81 s\n"
     ]
    }
   ],
   "source": [
    "%%time\n",
    "params={'random_state':123, \n",
    "       'n_estimators':10\n",
    "       }\n",
    "prediction_rf = train_model(X, X_test, y, params, model_type='rf', plot_feature_importance=False)"
   ]
  },
  {
   "cell_type": "markdown",
   "metadata": {},
   "source": [
    "# LGB"
   ]
  },
  {
   "cell_type": "code",
   "execution_count": 91,
   "metadata": {},
   "outputs": [
    {
     "name": "stdout",
     "output_type": "stream",
     "text": [
      "Fold 0 started at Thu Nov 19 12:11:39 2020\n",
      "Training until validation scores don't improve for 200 rounds.\n",
      "Did not meet early stopping. Best iteration is:\n",
      "[100]\tvalid_0's binary_error: 0.0859962\tvalid_0's binary_logloss: 0.194526\tvalid_1's binary_error: 0.103571\tvalid_1's binary_logloss: 0.233519\n",
      "Fold 1 started at Thu Nov 19 12:11:40 2020\n",
      "Training until validation scores don't improve for 200 rounds.\n",
      "Did not meet early stopping. Best iteration is:\n",
      "[100]\tvalid_0's binary_error: 0.0872885\tvalid_0's binary_logloss: 0.195181\tvalid_1's binary_error: 0.105545\tvalid_1's binary_logloss: 0.234663\n",
      "Fold 2 started at Thu Nov 19 12:11:42 2020\n",
      "Training until validation scores don't improve for 200 rounds.\n",
      "Did not meet early stopping. Best iteration is:\n",
      "[100]\tvalid_0's binary_error: 0.0881344\tvalid_0's binary_logloss: 0.197679\tvalid_1's binary_error: 0.0991541\tvalid_1's binary_logloss: 0.222447\n",
      "Fold 3 started at Thu Nov 19 12:11:43 2020\n",
      "Training until validation scores don't improve for 200 rounds.\n",
      "Did not meet early stopping. Best iteration is:\n",
      "[100]\tvalid_0's binary_error: 0.0865132\tvalid_0's binary_logloss: 0.195984\tvalid_1's binary_error: 0.103195\tvalid_1's binary_logloss: 0.227126\n",
      "Fold 4 started at Thu Nov 19 12:11:45 2020\n",
      "Training until validation scores don't improve for 200 rounds.\n",
      "Did not meet early stopping. Best iteration is:\n",
      "[100]\tvalid_0's binary_error: 0.0886043\tvalid_0's binary_logloss: 0.197279\tvalid_1's binary_error: 0.100282\tvalid_1's binary_logloss: 0.220428\n",
      "CV mean score: 0.8977, std: 0.0023.\n",
      "CV mean f1 score: 0.9155, std: 0.0022.\n",
      "Wall time: 7.36 s\n"
     ]
    }
   ],
   "source": [
    "%%time\n",
    "params={'random_state':123}\n",
    "prediction_lgb = train_model(X, X_test, y, params, model_type='lgb')"
   ]
  },
  {
   "cell_type": "markdown",
   "metadata": {},
   "source": [
    "# XGB"
   ]
  },
  {
   "cell_type": "code",
   "execution_count": 92,
   "metadata": {
    "scrolled": false
   },
   "outputs": [
    {
     "name": "stdout",
     "output_type": "stream",
     "text": [
      "Fold 0 started at Thu Nov 19 12:11:46 2020\n",
      "[0]\ttrain-error:0.109375\tvalid_data-error:0.111936\n",
      "Multiple eval metrics have been passed: 'valid_data-error' will be used for early stopping.\n",
      "\n",
      "Will train until valid_data-error hasn't improved in 200 rounds.\n",
      "[100]\ttrain-error:0.063534\tvalid_data-error:0.102914\n",
      "[199]\ttrain-error:0.031626\tvalid_data-error:0.105451\n",
      "Fold 1 started at Thu Nov 19 12:11:55 2020\n",
      "[0]\ttrain-error:0.108059\tvalid_data-error:0.116353\n",
      "Multiple eval metrics have been passed: 'valid_data-error' will be used for early stopping.\n",
      "\n",
      "Will train until valid_data-error hasn't improved in 200 rounds.\n",
      "[100]\ttrain-error:0.062735\tvalid_data-error:0.105639\n",
      "[199]\ttrain-error:0.030404\tvalid_data-error:0.104417\n",
      "Fold 2 started at Thu Nov 19 12:12:03 2020\n",
      "[0]\ttrain-error:0.111396\tvalid_data-error:0.106203\n",
      "Multiple eval metrics have been passed: 'valid_data-error' will be used for early stopping.\n",
      "\n",
      "Will train until valid_data-error hasn't improved in 200 rounds.\n",
      "[100]\ttrain-error:0.06539\tvalid_data-error:0.099154\n",
      "[199]\ttrain-error:0.033177\tvalid_data-error:0.09906\n",
      "Fold 3 started at Thu Nov 19 12:12:12 2020\n",
      "[0]\ttrain-error:0.109422\tvalid_data-error:0.113534\n",
      "Multiple eval metrics have been passed: 'valid_data-error' will be used for early stopping.\n",
      "\n",
      "Will train until valid_data-error hasn't improved in 200 rounds.\n",
      "[100]\ttrain-error:0.061983\tvalid_data-error:0.100846\n",
      "[199]\ttrain-error:0.031884\tvalid_data-error:0.102256\n",
      "Fold 4 started at Thu Nov 19 12:12:20 2020\n",
      "[0]\ttrain-error:0.110973\tvalid_data-error:0.108553\n",
      "Multiple eval metrics have been passed: 'valid_data-error' will be used for early stopping.\n",
      "\n",
      "Will train until valid_data-error hasn't improved in 200 rounds.\n",
      "[100]\ttrain-error:0.064732\tvalid_data-error:0.098496\n",
      "[199]\ttrain-error:0.033365\tvalid_data-error:0.099248\n",
      "CV mean score: 0.9001, std: 0.0027.\n",
      "CV mean f1 score: 0.9174, std: 0.0024.\n",
      "Wall time: 41.9 s\n"
     ]
    }
   ],
   "source": [
    "%%time\n",
    "params = {'objective': 'binary:logistic',\n",
    "          'eval_metric': 'error',\n",
    "          'seed': 11,\n",
    "          'silent': True}\n",
    "prediction_xgb = train_model(X, X_test, y, params, model_type='xgb')"
   ]
  },
  {
   "cell_type": "markdown",
   "metadata": {},
   "source": [
    "# Decision Tree "
   ]
  },
  {
   "cell_type": "code",
   "execution_count": 93,
   "metadata": {},
   "outputs": [
    {
     "name": "stdout",
     "output_type": "stream",
     "text": [
      "Fold 0 started at Thu Nov 19 12:12:28 2020\n",
      "Fold 1 started at Thu Nov 19 12:12:29 2020\n",
      "Fold 2 started at Thu Nov 19 12:12:30 2020\n",
      "Fold 3 started at Thu Nov 19 12:12:30 2020\n",
      "Fold 4 started at Thu Nov 19 12:12:31 2020\n",
      "CV mean score: 0.8620, std: 0.0028.\n",
      "CV mean f1 score: 0.8831, std: 0.0030.\n",
      "Wall time: 3.09 s\n"
     ]
    }
   ],
   "source": [
    "%%time\n",
    "params={'random_state':123 }\n",
    "prediction_tree = train_model(X, X_test, y, params, model_type='tree')"
   ]
  },
  {
   "cell_type": "markdown",
   "metadata": {},
   "source": [
    "# AdaBoost"
   ]
  },
  {
   "cell_type": "code",
   "execution_count": 94,
   "metadata": {},
   "outputs": [
    {
     "name": "stdout",
     "output_type": "stream",
     "text": [
      "Fold 0 started at Thu Nov 19 12:12:31 2020\n",
      "Fold 1 started at Thu Nov 19 12:12:36 2020\n",
      "Fold 2 started at Thu Nov 19 12:12:41 2020\n",
      "Fold 3 started at Thu Nov 19 12:12:45 2020\n",
      "Fold 4 started at Thu Nov 19 12:12:50 2020\n",
      "CV mean score: 0.8865, std: 0.0028.\n",
      "CV mean f1 score: 0.9060, std: 0.0028.\n",
      "Wall time: 23.3 s\n"
     ]
    }
   ],
   "source": [
    "%%time\n",
    "params={'random_state':123 }\n",
    "prediction_ada = train_model(X, X_test, y, params, model_type='ada')"
   ]
  },
  {
   "cell_type": "markdown",
   "metadata": {},
   "source": [
    "# GBM"
   ]
  },
  {
   "cell_type": "code",
   "execution_count": 95,
   "metadata": {},
   "outputs": [
    {
     "name": "stdout",
     "output_type": "stream",
     "text": [
      "Fold 0 started at Thu Nov 19 12:12:55 2020\n",
      "Fold 1 started at Thu Nov 19 12:13:03 2020\n",
      "Fold 2 started at Thu Nov 19 12:13:11 2020\n",
      "Fold 3 started at Thu Nov 19 12:13:20 2020\n",
      "Fold 4 started at Thu Nov 19 12:13:28 2020\n",
      "CV mean score: 0.8956, std: 0.0030.\n",
      "CV mean f1 score: 0.9142, std: 0.0026.\n",
      "Wall time: 42.3 s\n"
     ]
    }
   ],
   "source": [
    "%%time\n",
    "params={'random_state':123 }\n",
    "prediction_gbm = train_model(X, X_test, y, params, model_type='gbm')"
   ]
  },
  {
   "cell_type": "code",
   "execution_count": null,
   "metadata": {},
   "outputs": [],
   "source": []
  },
  {
   "cell_type": "markdown",
   "metadata": {},
   "source": [
    "# Model Evaluation"
   ]
  },
  {
   "cell_type": "code",
   "execution_count": 126,
   "metadata": {},
   "outputs": [
    {
     "data": {
      "text/html": [
       "<div>\n",
       "<style scoped>\n",
       "    .dataframe tbody tr th:only-of-type {\n",
       "        vertical-align: middle;\n",
       "    }\n",
       "\n",
       "    .dataframe tbody tr th {\n",
       "        vertical-align: top;\n",
       "    }\n",
       "\n",
       "    .dataframe thead th {\n",
       "        text-align: right;\n",
       "    }\n",
       "</style>\n",
       "<table border=\"1\" class=\"dataframe\">\n",
       "  <thead>\n",
       "    <tr style=\"text-align: right;\">\n",
       "      <th></th>\n",
       "      <th>precision</th>\n",
       "      <th>recall</th>\n",
       "      <th>f1-score</th>\n",
       "      <th>accuracy</th>\n",
       "      <th>model</th>\n",
       "    </tr>\n",
       "  </thead>\n",
       "  <tbody>\n",
       "    <tr>\n",
       "      <th>5</th>\n",
       "      <td>0.887469</td>\n",
       "      <td>0.880403</td>\n",
       "      <td>0.883494</td>\n",
       "      <td>0.888580</td>\n",
       "      <td>AdaBoost</td>\n",
       "    </tr>\n",
       "    <tr>\n",
       "      <th>5</th>\n",
       "      <td>0.893183</td>\n",
       "      <td>0.889779</td>\n",
       "      <td>0.891371</td>\n",
       "      <td>0.895647</td>\n",
       "      <td>Decision Tree</td>\n",
       "    </tr>\n",
       "    <tr>\n",
       "      <th>5</th>\n",
       "      <td>0.899408</td>\n",
       "      <td>0.890343</td>\n",
       "      <td>0.894207</td>\n",
       "      <td>0.899030</td>\n",
       "      <td>GBM</td>\n",
       "    </tr>\n",
       "    <tr>\n",
       "      <th>5</th>\n",
       "      <td>0.902394</td>\n",
       "      <td>0.89427</td>\n",
       "      <td>0.897789</td>\n",
       "      <td>0.902338</td>\n",
       "      <td>Light GBM</td>\n",
       "    </tr>\n",
       "    <tr>\n",
       "      <th>5</th>\n",
       "      <td>0.904348</td>\n",
       "      <td>0.897349</td>\n",
       "      <td>0.900438</td>\n",
       "      <td>0.904744</td>\n",
       "      <td>XGBoost</td>\n",
       "    </tr>\n",
       "    <tr>\n",
       "      <th>5</th>\n",
       "      <td>0.910467</td>\n",
       "      <td>0.907285</td>\n",
       "      <td>0.908785</td>\n",
       "      <td>0.912337</td>\n",
       "      <td>Random Forest</td>\n",
       "    </tr>\n",
       "  </tbody>\n",
       "</table>\n",
       "</div>"
      ],
      "text/plain": [
       "  precision    recall  f1-score  accuracy          model\n",
       "5  0.887469  0.880403  0.883494  0.888580       AdaBoost\n",
       "5  0.893183  0.889779  0.891371  0.895647  Decision Tree\n",
       "5  0.899408  0.890343  0.894207  0.899030            GBM\n",
       "5  0.902394   0.89427  0.897789  0.902338      Light GBM\n",
       "5  0.904348  0.897349  0.900438  0.904744        XGBoost\n",
       "5  0.910467  0.907285  0.908785  0.912337  Random Forest"
      ]
     },
     "execution_count": 126,
     "metadata": {},
     "output_type": "execute_result"
    }
   ],
   "source": [
    "#random forest\n",
    "report = classification_report(y_test, prediction_rf.round(), output_dict=True )\n",
    "df0=pd.DataFrame(list(report['0'].items()),columns = ['column1','column2']).transpose().rename(columns={0:'precision',1:'recall', 2:'f1-score', 3:'support'})\n",
    "df0['class']=0\n",
    "df1=pd.DataFrame(list(report['1'].items()),columns = ['column1','column2']).transpose().rename(columns={0:'precision',1:'recall', 2:'f1-score', 3:'support'})\n",
    "df1['class']=1\n",
    "df2 = pd.DataFrame(list(report['macro avg'].items()),columns = ['column1','column2']).transpose().rename(columns={0:'precision',1:'recall', 2:'f1-score', 3:'support'})\n",
    "df2['class']='macro avg'\n",
    "df_rf = pd.concat([df0, df1, df2]).reset_index()\n",
    "df_rf = df_rf[df_rf['index']!='column1'].drop('index', axis=1)\n",
    "df_rf['accuracy']=report['accuracy']\n",
    "df_rf['model']='Random Forest'\n",
    "\n",
    "#lgb\n",
    "report = classification_report(y_test, prediction_lgb.round(), output_dict=True )\n",
    "df0=pd.DataFrame(list(report['0'].items()),columns = ['column1','column2']).transpose().rename(columns={0:'precision',1:'recall', 2:'f1-score', 3:'support'})\n",
    "df0['class']=0\n",
    "df1=pd.DataFrame(list(report['1'].items()),columns = ['column1','column2']).transpose().rename(columns={0:'precision',1:'recall', 2:'f1-score', 3:'support'})\n",
    "df1['class']=1\n",
    "df2 = pd.DataFrame(list(report['macro avg'].items()),columns = ['column1','column2']).transpose().rename(columns={0:'precision',1:'recall', 2:'f1-score', 3:'support'})\n",
    "df2['class']='macro avg'\n",
    "df_lgb = pd.concat([df0, df1, df2]).reset_index()\n",
    "df_lgb = df_lgb[df_lgb['index']!='column1'].drop('index', axis=1)\n",
    "df_lgb['accuracy']=report['accuracy']\n",
    "df_lgb['model']='Light GBM'\n",
    "\n",
    "#xgb\n",
    "report = classification_report(y_test, prediction_xgb.round(), output_dict=True )\n",
    "df0=pd.DataFrame(list(report['0'].items()),columns = ['column1','column2']).transpose().rename(columns={0:'precision',1:'recall', 2:'f1-score', 3:'support'})\n",
    "df0['class']=0\n",
    "df1=pd.DataFrame(list(report['1'].items()),columns = ['column1','column2']).transpose().rename(columns={0:'precision',1:'recall', 2:'f1-score', 3:'support'})\n",
    "df1['class']=1\n",
    "df2 = pd.DataFrame(list(report['macro avg'].items()),columns = ['column1','column2']).transpose().rename(columns={0:'precision',1:'recall', 2:'f1-score', 3:'support'})\n",
    "df2['class']='macro avg'\n",
    "df_xgb = pd.concat([df0, df1, df2]).reset_index()\n",
    "df_xgb = df_xgb[df_xgb['index']!='column1'].drop('index', axis=1)\n",
    "df_xgb['accuracy']=report['accuracy']\n",
    "df_xgb['model']='XGBoost'\n",
    "\n",
    "#tree\n",
    "report = classification_report(y_test, prediction_tree.round(), output_dict=True )\n",
    "df0=pd.DataFrame(list(report['0'].items()),columns = ['column1','column2']).transpose().rename(columns={0:'precision',1:'recall', 2:'f1-score', 3:'support'})\n",
    "df0['class']=0\n",
    "df1=pd.DataFrame(list(report['1'].items()),columns = ['column1','column2']).transpose().rename(columns={0:'precision',1:'recall', 2:'f1-score', 3:'support'})\n",
    "df1['class']=1\n",
    "df2 = pd.DataFrame(list(report['macro avg'].items()),columns = ['column1','column2']).transpose().rename(columns={0:'precision',1:'recall', 2:'f1-score', 3:'support'})\n",
    "df2['class']='macro avg'\n",
    "df_tree = pd.concat([df0, df1, df2]).reset_index()\n",
    "df_tree = df_tree[df_tree['index']!='column1'].drop('index', axis=1)\n",
    "df_tree['accuracy']=report['accuracy']\n",
    "df_tree['model']='Decision Tree'\n",
    "\n",
    "#ada\n",
    "report = classification_report(y_test, prediction_ada.round(), output_dict=True )\n",
    "df0=pd.DataFrame(list(report['0'].items()),columns = ['column1','column2']).transpose().rename(columns={0:'precision',1:'recall', 2:'f1-score', 3:'support'})\n",
    "df0['class']=0\n",
    "df1=pd.DataFrame(list(report['1'].items()),columns = ['column1','column2']).transpose().rename(columns={0:'precision',1:'recall', 2:'f1-score', 3:'support'})\n",
    "df1['class']=1\n",
    "df2 = pd.DataFrame(list(report['macro avg'].items()),columns = ['column1','column2']).transpose().rename(columns={0:'precision',1:'recall', 2:'f1-score', 3:'support'})\n",
    "df2['class']='macro avg'\n",
    "df_ada = pd.concat([df0, df1, df2]).reset_index()\n",
    "df_ada = df_ada[df_ada['index']!='column1'].drop('index', axis=1)\n",
    "df_ada['accuracy']=report['accuracy']\n",
    "df_ada['model']='AdaBoost'\n",
    "\n",
    "#gbm\n",
    "report = classification_report(y_test, prediction_gbm.round(), output_dict=True )\n",
    "df0=pd.DataFrame(list(report['0'].items()),columns = ['column1','column2']).transpose().rename(columns={0:'precision',1:'recall', 2:'f1-score', 3:'support'})\n",
    "df0['class']=0\n",
    "df1=pd.DataFrame(list(report['1'].items()),columns = ['column1','column2']).transpose().rename(columns={0:'precision',1:'recall', 2:'f1-score', 3:'support'})\n",
    "df1['class']=1\n",
    "df2 = pd.DataFrame(list(report['macro avg'].items()),columns = ['column1','column2']).transpose().rename(columns={0:'precision',1:'recall', 2:'f1-score', 3:'support'})\n",
    "df2['class']='macro avg'\n",
    "df_gbm = pd.concat([df0, df1, df2]).reset_index()\n",
    "df_gbm = df_gbm[df_gbm['index']!='column1'].drop('index', axis=1)\n",
    "df_gbm['accuracy']=report['accuracy']\n",
    "df_gbm['model']='GBM'\n",
    "\n",
    "df=pd.concat([df_rf, df_lgb, df_xgb, df_tree, df_ada, df_gbm])\n",
    "#picking the macro-average value for evaluation\n",
    "df_val = df[df['class']=='macro avg'].sort_values(by='f1-score').drop(['class','support'],axis=1)\n",
    "df_val"
   ]
  },
  {
   "cell_type": "code",
   "execution_count": null,
   "metadata": {},
   "outputs": [],
   "source": []
  },
  {
   "cell_type": "markdown",
   "metadata": {},
   "source": [
    "# Performance Tuning on Best Model"
   ]
  },
  {
   "cell_type": "code",
   "execution_count": 127,
   "metadata": {},
   "outputs": [],
   "source": [
    "from sklearn.model_selection import GridSearchCV\n",
    "#define Grid Search function\n",
    "def parameter_refine(X,y):\n",
    "    '''\n",
    "    input:\n",
    "    - X,y: training datasets for X and y\n",
    "    output:\n",
    "    - dictionary with best parameters for random forest model\n",
    "    '''\n",
    "    \n",
    "    param_grid={\n",
    "               # 'max_depth' : [5,10,15,20],\n",
    "                'min_samples_split': [2, 5, 10],\n",
    "                'min_samples_leaf': [1, 2, 4],\n",
    "                'n_estimators': [10, 50, 100, 150]\n",
    "                }\n",
    "    grid_search = GridSearchCV(RandomForestClassifier(random_state=2, n_jobs=-1), param_grid, cv=5, verbose=True)\n",
    "    grid_search.fit(X, y)\n",
    "    grid_search.best_params_\n",
    "    return grid_search.best_params_"
   ]
  },
  {
   "cell_type": "code",
   "execution_count": 128,
   "metadata": {},
   "outputs": [
    {
     "name": "stdout",
     "output_type": "stream",
     "text": [
      "Fitting 5 folds for each of 36 candidates, totalling 180 fits\n"
     ]
    },
    {
     "name": "stderr",
     "output_type": "stream",
     "text": [
      "[Parallel(n_jobs=1)]: Using backend SequentialBackend with 1 concurrent workers.\n",
      "[Parallel(n_jobs=1)]: Done 180 out of 180 | elapsed:  6.3min finished\n"
     ]
    },
    {
     "name": "stdout",
     "output_type": "stream",
     "text": [
      "Wall time: 6min 25s\n"
     ]
    },
    {
     "data": {
      "text/plain": [
       "{'min_samples_leaf': 1, 'min_samples_split': 2, 'n_estimators': 150}"
      ]
     },
     "execution_count": 128,
     "metadata": {},
     "output_type": "execute_result"
    }
   ],
   "source": [
    "%%time\n",
    "parameter_refine(X, y)"
   ]
  },
  {
   "cell_type": "code",
   "execution_count": 129,
   "metadata": {},
   "outputs": [
    {
     "name": "stdout",
     "output_type": "stream",
     "text": [
      "Fold 0 started at Thu Nov 19 13:00:38 2020\n",
      "Fold 1 started at Thu Nov 19 13:00:50 2020\n",
      "Fold 2 started at Thu Nov 19 13:01:03 2020\n",
      "Fold 3 started at Thu Nov 19 13:01:15 2020\n",
      "Fold 4 started at Thu Nov 19 13:01:28 2020\n",
      "CV mean score: 0.9070, std: 0.0034.\n",
      "CV mean f1 score: 0.9232, std: 0.0030.\n",
      "Wall time: 1min 3s\n"
     ]
    },
    {
     "data": {
      "image/png": "[encoded data removed]",
      "text/plain": [
       "<Figure size 1152x864 with 1 Axes>"
      ]
     },
     "metadata": {
      "needs_background": "light"
     },
     "output_type": "display_data"
    }
   ],
   "source": [
    "%%time\n",
    "rf_params = {'min_samples_leaf': 1, 'min_samples_split': 2, 'n_estimators': 150}\n",
    "prediction_rf_cv,_ = train_model(X, X_test, y, params=rf_params, model_type='rf',plot_feature_importance=True)"
   ]
  },
  {
   "cell_type": "markdown",
   "metadata": {},
   "source": [
    "# Plotting the Validation Metrics"
   ]
  },
  {
   "cell_type": "code",
   "execution_count": 130,
   "metadata": {},
   "outputs": [],
   "source": [
    "#rf cv\n",
    "report = classification_report(y_test, prediction_rf_cv.round(), output_dict=True )\n",
    "df0=pd.DataFrame(list(report['0'].items()),columns = ['column1','column2']).transpose().rename(columns={0:'precision',1:'recall', 2:'f1-score', 3:'support'})\n",
    "df0['class']=0\n",
    "df1=pd.DataFrame(list(report['1'].items()),columns = ['column1','column2']).transpose().rename(columns={0:'precision',1:'recall', 2:'f1-score', 3:'support'})\n",
    "df1['class']=1\n",
    "df2 = pd.DataFrame(list(report['macro avg'].items()),columns = ['column1','column2']).transpose().rename(columns={0:'precision',1:'recall', 2:'f1-score', 3:'support'})\n",
    "df2['class']='macro avg'\n",
    "df_rf_cv = pd.concat([df0, df1, df2]).reset_index()\n",
    "df_rf_cv = df_rf_cv[df_rf_cv['index']!='column1'].drop('index', axis=1)\n",
    "df_rf_cv['accuracy']=report['accuracy']\n",
    "df_rf_cv['model']='Random Forest tuned'\n",
    "\n",
    "df = pd.concat([df_rf_cv, df])\n",
    "df = df[df['class']=='macro avg'].sort_values(by='f1-score')"
   ]
  },
  {
   "cell_type": "code",
   "execution_count": 131,
   "metadata": {},
   "outputs": [
    {
     "data": {
      "text/html": [
       "<div>\n",
       "<style scoped>\n",
       "    .dataframe tbody tr th:only-of-type {\n",
       "        vertical-align: middle;\n",
       "    }\n",
       "\n",
       "    .dataframe tbody tr th {\n",
       "        vertical-align: top;\n",
       "    }\n",
       "\n",
       "    .dataframe thead th {\n",
       "        text-align: right;\n",
       "    }\n",
       "</style>\n",
       "<table border=\"1\" class=\"dataframe\">\n",
       "  <thead>\n",
       "    <tr style=\"text-align: right;\">\n",
       "      <th></th>\n",
       "      <th>precision</th>\n",
       "      <th>recall</th>\n",
       "      <th>f1-score</th>\n",
       "      <th>accuracy</th>\n",
       "      <th>model</th>\n",
       "    </tr>\n",
       "  </thead>\n",
       "  <tbody>\n",
       "    <tr>\n",
       "      <th>5</th>\n",
       "      <td>0.887469</td>\n",
       "      <td>0.880403</td>\n",
       "      <td>0.883494</td>\n",
       "      <td>0.888580</td>\n",
       "      <td>AdaBoost</td>\n",
       "    </tr>\n",
       "    <tr>\n",
       "      <th>5</th>\n",
       "      <td>0.893183</td>\n",
       "      <td>0.889779</td>\n",
       "      <td>0.891371</td>\n",
       "      <td>0.895647</td>\n",
       "      <td>Decision Tree</td>\n",
       "    </tr>\n",
       "    <tr>\n",
       "      <th>5</th>\n",
       "      <td>0.899408</td>\n",
       "      <td>0.890343</td>\n",
       "      <td>0.894207</td>\n",
       "      <td>0.899030</td>\n",
       "      <td>GBM</td>\n",
       "    </tr>\n",
       "    <tr>\n",
       "      <th>5</th>\n",
       "      <td>0.902394</td>\n",
       "      <td>0.89427</td>\n",
       "      <td>0.897789</td>\n",
       "      <td>0.902338</td>\n",
       "      <td>Light GBM</td>\n",
       "    </tr>\n",
       "    <tr>\n",
       "      <th>5</th>\n",
       "      <td>0.904348</td>\n",
       "      <td>0.897349</td>\n",
       "      <td>0.900438</td>\n",
       "      <td>0.904744</td>\n",
       "      <td>XGBoost</td>\n",
       "    </tr>\n",
       "    <tr>\n",
       "      <th>5</th>\n",
       "      <td>0.910467</td>\n",
       "      <td>0.907285</td>\n",
       "      <td>0.908785</td>\n",
       "      <td>0.912337</td>\n",
       "      <td>Random Forest</td>\n",
       "    </tr>\n",
       "    <tr>\n",
       "      <th>5</th>\n",
       "      <td>0.915854</td>\n",
       "      <td>0.907123</td>\n",
       "      <td>0.910897</td>\n",
       "      <td>0.914894</td>\n",
       "      <td>Random Forest tuned</td>\n",
       "    </tr>\n",
       "  </tbody>\n",
       "</table>\n",
       "</div>"
      ],
      "text/plain": [
       "  precision    recall  f1-score  accuracy                model\n",
       "5  0.887469  0.880403  0.883494  0.888580             AdaBoost\n",
       "5  0.893183  0.889779  0.891371  0.895647        Decision Tree\n",
       "5  0.899408  0.890343  0.894207  0.899030                  GBM\n",
       "5  0.902394   0.89427  0.897789  0.902338            Light GBM\n",
       "5  0.904348  0.897349  0.900438  0.904744              XGBoost\n",
       "5  0.910467  0.907285  0.908785  0.912337        Random Forest\n",
       "5  0.915854  0.907123  0.910897  0.914894  Random Forest tuned"
      ]
     },
     "execution_count": 131,
     "metadata": {},
     "output_type": "execute_result"
    }
   ],
   "source": [
    "df_val = df.sort_values(by='f1-score').drop(['class','support'],axis=1)\n",
    "df_val"
   ]
  },
  {
   "cell_type": "code",
   "execution_count": 132,
   "metadata": {},
   "outputs": [
    {
     "data": {
      "text/html": [
       "<div>\n",
       "<style scoped>\n",
       "    .dataframe tbody tr th:only-of-type {\n",
       "        vertical-align: middle;\n",
       "    }\n",
       "\n",
       "    .dataframe tbody tr th {\n",
       "        vertical-align: top;\n",
       "    }\n",
       "\n",
       "    .dataframe thead th {\n",
       "        text-align: right;\n",
       "    }\n",
       "</style>\n",
       "<table border=\"1\" class=\"dataframe\">\n",
       "  <thead>\n",
       "    <tr style=\"text-align: right;\">\n",
       "      <th>model</th>\n",
       "      <th>AdaBoost</th>\n",
       "      <th>Decision Tree</th>\n",
       "      <th>GBM</th>\n",
       "      <th>Light GBM</th>\n",
       "      <th>XGBoost</th>\n",
       "      <th>Random Forest</th>\n",
       "      <th>Random Forest tuned</th>\n",
       "    </tr>\n",
       "  </thead>\n",
       "  <tbody>\n",
       "    <tr>\n",
       "      <th>precision</th>\n",
       "      <td>0.887469</td>\n",
       "      <td>0.893183</td>\n",
       "      <td>0.899408</td>\n",
       "      <td>0.902394</td>\n",
       "      <td>0.904348</td>\n",
       "      <td>0.910467</td>\n",
       "      <td>0.915854</td>\n",
       "    </tr>\n",
       "    <tr>\n",
       "      <th>recall</th>\n",
       "      <td>0.880403</td>\n",
       "      <td>0.889779</td>\n",
       "      <td>0.890343</td>\n",
       "      <td>0.89427</td>\n",
       "      <td>0.897349</td>\n",
       "      <td>0.907285</td>\n",
       "      <td>0.907123</td>\n",
       "    </tr>\n",
       "    <tr>\n",
       "      <th>f1-score</th>\n",
       "      <td>0.883494</td>\n",
       "      <td>0.891371</td>\n",
       "      <td>0.894207</td>\n",
       "      <td>0.897789</td>\n",
       "      <td>0.900438</td>\n",
       "      <td>0.908785</td>\n",
       "      <td>0.910897</td>\n",
       "    </tr>\n",
       "    <tr>\n",
       "      <th>accuracy</th>\n",
       "      <td>0.88858</td>\n",
       "      <td>0.895647</td>\n",
       "      <td>0.89903</td>\n",
       "      <td>0.902338</td>\n",
       "      <td>0.904744</td>\n",
       "      <td>0.912337</td>\n",
       "      <td>0.914894</td>\n",
       "    </tr>\n",
       "  </tbody>\n",
       "</table>\n",
       "</div>"
      ],
      "text/plain": [
       "model      AdaBoost Decision Tree       GBM Light GBM   XGBoost Random Forest  \\\n",
       "precision  0.887469      0.893183  0.899408  0.902394  0.904348      0.910467   \n",
       "recall     0.880403      0.889779  0.890343   0.89427  0.897349      0.907285   \n",
       "f1-score   0.883494      0.891371  0.894207  0.897789  0.900438      0.908785   \n",
       "accuracy    0.88858      0.895647   0.89903  0.902338  0.904744      0.912337   \n",
       "\n",
       "model     Random Forest tuned  \n",
       "precision            0.915854  \n",
       "recall               0.907123  \n",
       "f1-score             0.910897  \n",
       "accuracy             0.914894  "
      ]
     },
     "execution_count": 132,
     "metadata": {},
     "output_type": "execute_result"
    }
   ],
   "source": [
    "df_ind = df[['model','precision','recall','f1-score','accuracy']].set_index('model').transpose()\n",
    "df_ind"
   ]
  },
  {
   "cell_type": "code",
   "execution_count": 133,
   "metadata": {},
   "outputs": [],
   "source": [
    "#del df, df_ind"
   ]
  },
  {
   "cell_type": "code",
   "execution_count": 138,
   "metadata": {},
   "outputs": [
    {
     "data": {
      "application/vnd.plotly.v1+json": {
       "config": {
        "plotlyServerURL": "https://plotly.com"
       },
       "data": [
        {
         "name": "precision",
         "textposition": "inside",
         "type": "bar",
         "x": [
          "AdaBoost",
          "Decision Tree",
          "GBM",
          "Light GBM",
          "XGBoost",
          "Random Forest",
          "Random Forest tuned"
         ],
         "y": [
          0.8874691989310997,
          0.8931832474199994,
          0.8994080378978528,
          0.9023936206219623,
          0.9043477582710624,
          0.9104666941445043,
          0.9158540986717113
         ]
        },
        {
         "name": "recall",
         "textposition": "inside",
         "type": "bar",
         "x": [
          "AdaBoost",
          "Decision Tree",
          "GBM",
          "Light GBM",
          "XGBoost",
          "Random Forest",
          "Random Forest tuned"
         ],
         "y": [
          0.8804030547554484,
          0.8897786860848553,
          0.8903426111901452,
          0.8942695093969939,
          0.8973490610037054,
          0.9072848675467975,
          0.9071233058106913
         ]
        },
        {
         "name": "f1-score",
         "textposition": "inside",
         "type": "bar",
         "x": [
          "AdaBoost",
          "Decision Tree",
          "GBM",
          "Light GBM",
          "XGBoost",
          "Random Forest",
          "Random Forest tuned"
         ],
         "y": [
          0.883494036659508,
          0.8913707541905291,
          0.8942070648429263,
          0.8977893046303347,
          0.9004384670752685,
          0.9087847259291721,
          0.9108969527907949
         ]
        },
        {
         "name": "accuracy",
         "textposition": "inside",
         "type": "bar",
         "x": [
          "AdaBoost",
          "Decision Tree",
          "GBM",
          "Light GBM",
          "XGBoost",
          "Random Forest",
          "Random Forest tuned"
         ],
         "y": [
          0.8885798060296218,
          0.8956469438388092,
          0.8990301481091647,
          0.9023381700624014,
          0.9047440042102097,
          0.9123374182392301,
          0.9148936170212766
         ]
        }
       ],
       "layout": {
        "height": 500,
        "showlegend": true,
        "template": {
         "data": {
          "bar": [
           {
            "error_x": {
             "color": "#2a3f5f"
            },
            "error_y": {
             "color": "#2a3f5f"
            },
            "marker": {
             "line": {
              "color": "#E5ECF6",
              "width": 0.5
             }
            },
            "type": "bar"
           }
          ],
          "barpolar": [
           {
            "marker": {
             "line": {
              "color": "#E5ECF6",
              "width": 0.5
             }
            },
            "type": "barpolar"
           }
          ],
          "carpet": [
           {
            "aaxis": {
             "endlinecolor": "#2a3f5f",
             "gridcolor": "white",
             "linecolor": "white",
             "minorgridcolor": "white",
             "startlinecolor": "#2a3f5f"
            },
            "baxis": {
             "endlinecolor": "#2a3f5f",
             "gridcolor": "white",
             "linecolor": "white",
             "minorgridcolor": "white",
             "startlinecolor": "#2a3f5f"
            },
            "type": "carpet"
           }
          ],
          "choropleth": [
           {
            "colorbar": {
             "outlinewidth": 0,
             "ticks": ""
            },
            "type": "choropleth"
           }
          ],
          "contour": [
           {
            "colorbar": {
             "outlinewidth": 0,
             "ticks": ""
            },
            "colorscale": [
             [
              0,
              "#0d0887"
             ],
             [
              0.1111111111111111,
              "#46039f"
             ],
             [
              0.2222222222222222,
              "#7201a8"
             ],
             [
              0.3333333333333333,
              "#9c179e"
             ],
             [
              0.4444444444444444,
              "#bd3786"
             ],
             [
              0.5555555555555556,
              "#d8576b"
             ],
             [
              0.6666666666666666,
              "#ed7953"
             ],
             [
              0.7777777777777778,
              "#fb9f3a"
             ],
             [
              0.8888888888888888,
              "#fdca26"
             ],
             [
              1,
              "#f0f921"
             ]
            ],
            "type": "contour"
           }
          ],
          "contourcarpet": [
           {
            "colorbar": {
             "outlinewidth": 0,
             "ticks": ""
            },
            "type": "contourcarpet"
           }
          ],
          "heatmap": [
           {
            "colorbar": {
             "outlinewidth": 0,
             "ticks": ""
            },
            "colorscale": [
             [
              0,
              "#0d0887"
             ],
             [
              0.1111111111111111,
              "#46039f"
             ],
             [
              0.2222222222222222,
              "#7201a8"
             ],
             [
              0.3333333333333333,
              "#9c179e"
             ],
             [
              0.4444444444444444,
              "#bd3786"
             ],
             [
              0.5555555555555556,
              "#d8576b"
             ],
             [
              0.6666666666666666,
              "#ed7953"
             ],
             [
              0.7777777777777778,
              "#fb9f3a"
             ],
             [
              0.8888888888888888,
              "#fdca26"
             ],
             [
              1,
              "#f0f921"
             ]
            ],
            "type": "heatmap"
           }
          ],
          "heatmapgl": [
           {
            "colorbar": {
             "outlinewidth": 0,
             "ticks": ""
            },
            "colorscale": [
             [
              0,
              "#0d0887"
             ],
             [
              0.1111111111111111,
              "#46039f"
             ],
             [
              0.2222222222222222,
              "#7201a8"
             ],
             [
              0.3333333333333333,
              "#9c179e"
             ],
             [
              0.4444444444444444,
              "#bd3786"
             ],
             [
              0.5555555555555556,
              "#d8576b"
             ],
             [
              0.6666666666666666,
              "#ed7953"
             ],
             [
              0.7777777777777778,
              "#fb9f3a"
             ],
             [
              0.8888888888888888,
              "#fdca26"
             ],
             [
              1,
              "#f0f921"
             ]
            ],
            "type": "heatmapgl"
           }
          ],
          "histogram": [
           {
            "marker": {
             "colorbar": {
              "outlinewidth": 0,
              "ticks": ""
             }
            },
            "type": "histogram"
           }
          ],
          "histogram2d": [
           {
            "colorbar": {
             "outlinewidth": 0,
             "ticks": ""
            },
            "colorscale": [
             [
              0,
              "#0d0887"
             ],
             [
              0.1111111111111111,
              "#46039f"
             ],
             [
              0.2222222222222222,
              "#7201a8"
             ],
             [
              0.3333333333333333,
              "#9c179e"
             ],
             [
              0.4444444444444444,
              "#bd3786"
             ],
             [
              0.5555555555555556,
              "#d8576b"
             ],
             [
              0.6666666666666666,
              "#ed7953"
             ],
             [
              0.7777777777777778,
              "#fb9f3a"
             ],
             [
              0.8888888888888888,
              "#fdca26"
             ],
             [
              1,
              "#f0f921"
             ]
            ],
            "type": "histogram2d"
           }
          ],
          "histogram2dcontour": [
           {
            "colorbar": {
             "outlinewidth": 0,
             "ticks": ""
            },
            "colorscale": [
             [
              0,
              "#0d0887"
             ],
             [
              0.1111111111111111,
              "#46039f"
             ],
             [
              0.2222222222222222,
              "#7201a8"
             ],
             [
              0.3333333333333333,
              "#9c179e"
             ],
             [
              0.4444444444444444,
              "#bd3786"
             ],
             [
              0.5555555555555556,
              "#d8576b"
             ],
             [
              0.6666666666666666,
              "#ed7953"
             ],
             [
              0.7777777777777778,
              "#fb9f3a"
             ],
             [
              0.8888888888888888,
              "#fdca26"
             ],
             [
              1,
              "#f0f921"
             ]
            ],
            "type": "histogram2dcontour"
           }
          ],
          "mesh3d": [
           {
            "colorbar": {
             "outlinewidth": 0,
             "ticks": ""
            },
            "type": "mesh3d"
           }
          ],
          "parcoords": [
           {
            "line": {
             "colorbar": {
              "outlinewidth": 0,
              "ticks": ""
             }
            },
            "type": "parcoords"
           }
          ],
          "pie": [
           {
            "automargin": true,
            "type": "pie"
           }
          ],
          "scatter": [
           {
            "marker": {
             "colorbar": {
              "outlinewidth": 0,
              "ticks": ""
             }
            },
            "type": "scatter"
           }
          ],
          "scatter3d": [
           {
            "line": {
             "colorbar": {
              "outlinewidth": 0,
              "ticks": ""
             }
            },
            "marker": {
             "colorbar": {
              "outlinewidth": 0,
              "ticks": ""
             }
            },
            "type": "scatter3d"
           }
          ],
          "scattercarpet": [
           {
            "marker": {
             "colorbar": {
              "outlinewidth": 0,
              "ticks": ""
             }
            },
            "type": "scattercarpet"
           }
          ],
          "scattergeo": [
           {
            "marker": {
             "colorbar": {
              "outlinewidth": 0,
              "ticks": ""
             }
            },
            "type": "scattergeo"
           }
          ],
          "scattergl": [
           {
            "marker": {
             "colorbar": {
              "outlinewidth": 0,
              "ticks": ""
             }
            },
            "type": "scattergl"
           }
          ],
          "scattermapbox": [
           {
            "marker": {
             "colorbar": {
              "outlinewidth": 0,
              "ticks": ""
             }
            },
            "type": "scattermapbox"
           }
          ],
          "scatterpolar": [
           {
            "marker": {
             "colorbar": {
              "outlinewidth": 0,
              "ticks": ""
             }
            },
            "type": "scatterpolar"
           }
          ],
          "scatterpolargl": [
           {
            "marker": {
             "colorbar": {
              "outlinewidth": 0,
              "ticks": ""
             }
            },
            "type": "scatterpolargl"
           }
          ],
          "scatterternary": [
           {
            "marker": {
             "colorbar": {
              "outlinewidth": 0,
              "ticks": ""
             }
            },
            "type": "scatterternary"
           }
          ],
          "surface": [
           {
            "colorbar": {
             "outlinewidth": 0,
             "ticks": ""
            },
            "colorscale": [
             [
              0,
              "#0d0887"
             ],
             [
              0.1111111111111111,
              "#46039f"
             ],
             [
              0.2222222222222222,
              "#7201a8"
             ],
             [
              0.3333333333333333,
              "#9c179e"
             ],
             [
              0.4444444444444444,
              "#bd3786"
             ],
             [
              0.5555555555555556,
              "#d8576b"
             ],
             [
              0.6666666666666666,
              "#ed7953"
             ],
             [
              0.7777777777777778,
              "#fb9f3a"
             ],
             [
              0.8888888888888888,
              "#fdca26"
             ],
             [
              1,
              "#f0f921"
             ]
            ],
            "type": "surface"
           }
          ],
          "table": [
           {
            "cells": {
             "fill": {
              "color": "#EBF0F8"
             },
             "line": {
              "color": "white"
             }
            },
            "header": {
             "fill": {
              "color": "#C8D4E3"
             },
             "line": {
              "color": "white"
             }
            },
            "type": "table"
           }
          ]
         },
         "layout": {
          "annotationdefaults": {
           "arrowcolor": "#2a3f5f",
           "arrowhead": 0,
           "arrowwidth": 1
          },
          "coloraxis": {
           "colorbar": {
            "outlinewidth": 0,
            "ticks": ""
           }
          },
          "colorscale": {
           "diverging": [
            [
             0,
             "#8e0152"
            ],
            [
             0.1,
             "#c51b7d"
            ],
            [
             0.2,
             "#de77ae"
            ],
            [
             0.3,
             "#f1b6da"
            ],
            [
             0.4,
             "#fde0ef"
            ],
            [
             0.5,
             "#f7f7f7"
            ],
            [
             0.6,
             "#e6f5d0"
            ],
            [
             0.7,
             "#b8e186"
            ],
            [
             0.8,
             "#7fbc41"
            ],
            [
             0.9,
             "#4d9221"
            ],
            [
             1,
             "#276419"
            ]
           ],
           "sequential": [
            [
             0,
             "#0d0887"
            ],
            [
             0.1111111111111111,
             "#46039f"
            ],
            [
             0.2222222222222222,
             "#7201a8"
            ],
            [
             0.3333333333333333,
             "#9c179e"
            ],
            [
             0.4444444444444444,
             "#bd3786"
            ],
            [
             0.5555555555555556,
             "#d8576b"
            ],
            [
             0.6666666666666666,
             "#ed7953"
            ],
            [
             0.7777777777777778,
             "#fb9f3a"
            ],
            [
             0.8888888888888888,
             "#fdca26"
            ],
            [
             1,
             "#f0f921"
            ]
           ],
           "sequentialminus": [
            [
             0,
             "#0d0887"
            ],
            [
             0.1111111111111111,
             "#46039f"
            ],
            [
             0.2222222222222222,
             "#7201a8"
            ],
            [
             0.3333333333333333,
             "#9c179e"
            ],
            [
             0.4444444444444444,
             "#bd3786"
            ],
            [
             0.5555555555555556,
             "#d8576b"
            ],
            [
             0.6666666666666666,
             "#ed7953"
            ],
            [
             0.7777777777777778,
             "#fb9f3a"
            ],
            [
             0.8888888888888888,
             "#fdca26"
            ],
            [
             1,
             "#f0f921"
            ]
           ]
          },
          "colorway": [
           "#636efa",
           "#EF553B",
           "#00cc96",
           "#ab63fa",
           "#FFA15A",
           "#19d3f3",
           "#FF6692",
           "#B6E880",
           "#FF97FF",
           "#FECB52"
          ],
          "font": {
           "color": "#2a3f5f"
          },
          "geo": {
           "bgcolor": "white",
           "lakecolor": "white",
           "landcolor": "#E5ECF6",
           "showlakes": true,
           "showland": true,
           "subunitcolor": "white"
          },
          "hoverlabel": {
           "align": "left"
          },
          "hovermode": "closest",
          "mapbox": {
           "style": "light"
          },
          "paper_bgcolor": "white",
          "plot_bgcolor": "#E5ECF6",
          "polar": {
           "angularaxis": {
            "gridcolor": "white",
            "linecolor": "white",
            "ticks": ""
           },
           "bgcolor": "#E5ECF6",
           "radialaxis": {
            "gridcolor": "white",
            "linecolor": "white",
            "ticks": ""
           }
          },
          "scene": {
           "xaxis": {
            "backgroundcolor": "#E5ECF6",
            "gridcolor": "white",
            "gridwidth": 2,
            "linecolor": "white",
            "showbackground": true,
            "ticks": "",
            "zerolinecolor": "white"
           },
           "yaxis": {
            "backgroundcolor": "#E5ECF6",
            "gridcolor": "white",
            "gridwidth": 2,
            "linecolor": "white",
            "showbackground": true,
            "ticks": "",
            "zerolinecolor": "white"
           },
           "zaxis": {
            "backgroundcolor": "#E5ECF6",
            "gridcolor": "white",
            "gridwidth": 2,
            "linecolor": "white",
            "showbackground": true,
            "ticks": "",
            "zerolinecolor": "white"
           }
          },
          "shapedefaults": {
           "line": {
            "color": "#2a3f5f"
           }
          },
          "ternary": {
           "aaxis": {
            "gridcolor": "white",
            "linecolor": "white",
            "ticks": ""
           },
           "baxis": {
            "gridcolor": "white",
            "linecolor": "white",
            "ticks": ""
           },
           "bgcolor": "#E5ECF6",
           "caxis": {
            "gridcolor": "white",
            "linecolor": "white",
            "ticks": ""
           }
          },
          "title": {
           "x": 0.05
          },
          "xaxis": {
           "automargin": true,
           "gridcolor": "white",
           "linecolor": "white",
           "ticks": "",
           "title": {
            "standoff": 15
           },
           "zerolinecolor": "white",
           "zerolinewidth": 2
          },
          "yaxis": {
           "automargin": true,
           "gridcolor": "white",
           "linecolor": "white",
           "ticks": "",
           "title": {
            "standoff": 15
           },
           "zerolinecolor": "white",
           "zerolinewidth": 2
          }
         }
        },
        "updatemenus": [
         {
          "buttons": [
           {
            "args": [
             {
              "title": "All",
              "visible": [
               true,
               true,
               true,
               true,
               true,
               true,
               true
              ]
             }
            ],
            "label": "All",
            "method": "update"
           },
           {
            "args": [
             {
              "visible": [
               true,
               false,
               false,
               false
              ]
             }
            ],
            "label": "precision",
            "method": "update"
           },
           {
            "args": [
             {
              "visible": [
               false,
               true,
               false,
               false
              ]
             }
            ],
            "label": "recall",
            "method": "update"
           },
           {
            "args": [
             {
              "visible": [
               false,
               false,
               true,
               false
              ]
             }
            ],
            "label": "f1-score",
            "method": "update"
           },
           {
            "args": [
             {
              "visible": [
               false,
               false,
               false,
               true
              ]
             }
            ],
            "label": "accuracy",
            "method": "update"
           }
          ],
          "direction": "down",
          "showactive": true,
          "x": 0.5,
          "y": 1.15
         }
        ],
        "width": 900
       }
      },
      "text/html": [
       "<div>\n",
       "        \n",
       "        \n",
       "            <div id=\"39b96e7d-0522-403c-8878-860dde47f3a3\" class=\"plotly-graph-div\" style=\"height:500px; width:900px;\"></div>\n",
       "            <script type=\"text/javascript\">\n",
       "                require([\"plotly\"], function(Plotly) {\n",
       "                    window.PLOTLYENV=window.PLOTLYENV || {};\n",
       "                    \n",
       "                if (document.getElementById(\"39b96e7d-0522-403c-8878-860dde47f3a3\")) {\n",
       "                    Plotly.newPlot(\n",
       "                        '39b96e7d-0522-403c-8878-860dde47f3a3',\n",
       "                        [{\"name\": \"precision\", \"textposition\": \"inside\", \"type\": \"bar\", \"x\": [\"AdaBoost\", \"Decision Tree\", \"GBM\", \"Light GBM\", \"XGBoost\", \"Random Forest\", \"Random Forest tuned\"], \"y\": [0.8874691989310997, 0.8931832474199994, 0.8994080378978528, 0.9023936206219623, 0.9043477582710624, 0.9104666941445043, 0.9158540986717113]}, {\"name\": \"recall\", \"textposition\": \"inside\", \"type\": \"bar\", \"x\": [\"AdaBoost\", \"Decision Tree\", \"GBM\", \"Light GBM\", \"XGBoost\", \"Random Forest\", \"Random Forest tuned\"], \"y\": [0.8804030547554484, 0.8897786860848553, 0.8903426111901452, 0.8942695093969939, 0.8973490610037054, 0.9072848675467975, 0.9071233058106913]}, {\"name\": \"f1-score\", \"textposition\": \"inside\", \"type\": \"bar\", \"x\": [\"AdaBoost\", \"Decision Tree\", \"GBM\", \"Light GBM\", \"XGBoost\", \"Random Forest\", \"Random Forest tuned\"], \"y\": [0.883494036659508, 0.8913707541905291, 0.8942070648429263, 0.8977893046303347, 0.9004384670752685, 0.9087847259291721, 0.9108969527907949]}, {\"name\": \"accuracy\", \"textposition\": \"inside\", \"type\": \"bar\", \"x\": [\"AdaBoost\", \"Decision Tree\", \"GBM\", \"Light GBM\", \"XGBoost\", \"Random Forest\", \"Random Forest tuned\"], \"y\": [0.8885798060296218, 0.8956469438388092, 0.8990301481091647, 0.9023381700624014, 0.9047440042102097, 0.9123374182392301, 0.9148936170212766]}],\n",
       "                        {\"height\": 500, \"showlegend\": true, \"template\": {\"data\": {\"bar\": [{\"error_x\": {\"color\": \"#2a3f5f\"}, \"error_y\": {\"color\": \"#2a3f5f\"}, \"marker\": {\"line\": {\"color\": \"#E5ECF6\", \"width\": 0.5}}, \"type\": \"bar\"}], \"barpolar\": [{\"marker\": {\"line\": {\"color\": \"#E5ECF6\", \"width\": 0.5}}, \"type\": \"barpolar\"}], \"carpet\": [{\"aaxis\": {\"endlinecolor\": \"#2a3f5f\", \"gridcolor\": \"white\", \"linecolor\": \"white\", \"minorgridcolor\": \"white\", \"startlinecolor\": \"#2a3f5f\"}, \"baxis\": {\"endlinecolor\": \"#2a3f5f\", \"gridcolor\": \"white\", \"linecolor\": \"white\", \"minorgridcolor\": \"white\", \"startlinecolor\": \"#2a3f5f\"}, \"type\": \"carpet\"}], \"choropleth\": [{\"colorbar\": {\"outlinewidth\": 0, \"ticks\": \"\"}, \"type\": \"choropleth\"}], \"contour\": [{\"colorbar\": {\"outlinewidth\": 0, \"ticks\": \"\"}, \"colorscale\": [[0.0, \"#0d0887\"], [0.1111111111111111, \"#46039f\"], [0.2222222222222222, \"#7201a8\"], [0.3333333333333333, \"#9c179e\"], [0.4444444444444444, \"#bd3786\"], [0.5555555555555556, \"#d8576b\"], [0.6666666666666666, \"#ed7953\"], [0.7777777777777778, \"#fb9f3a\"], [0.8888888888888888, \"#fdca26\"], [1.0, \"#f0f921\"]], \"type\": \"contour\"}], \"contourcarpet\": [{\"colorbar\": {\"outlinewidth\": 0, \"ticks\": \"\"}, \"type\": \"contourcarpet\"}], \"heatmap\": [{\"colorbar\": {\"outlinewidth\": 0, \"ticks\": \"\"}, \"colorscale\": [[0.0, \"#0d0887\"], [0.1111111111111111, \"#46039f\"], [0.2222222222222222, \"#7201a8\"], [0.3333333333333333, \"#9c179e\"], [0.4444444444444444, \"#bd3786\"], [0.5555555555555556, \"#d8576b\"], [0.6666666666666666, \"#ed7953\"], [0.7777777777777778, \"#fb9f3a\"], [0.8888888888888888, \"#fdca26\"], [1.0, \"#f0f921\"]], \"type\": \"heatmap\"}], \"heatmapgl\": [{\"colorbar\": {\"outlinewidth\": 0, \"ticks\": \"\"}, \"colorscale\": [[0.0, \"#0d0887\"], [0.1111111111111111, \"#46039f\"], [0.2222222222222222, \"#7201a8\"], [0.3333333333333333, \"#9c179e\"], [0.4444444444444444, \"#bd3786\"], [0.5555555555555556, \"#d8576b\"], [0.6666666666666666, \"#ed7953\"], [0.7777777777777778, \"#fb9f3a\"], [0.8888888888888888, \"#fdca26\"], [1.0, \"#f0f921\"]], \"type\": \"heatmapgl\"}], \"histogram\": [{\"marker\": {\"colorbar\": {\"outlinewidth\": 0, \"ticks\": \"\"}}, \"type\": \"histogram\"}], \"histogram2d\": [{\"colorbar\": {\"outlinewidth\": 0, \"ticks\": \"\"}, \"colorscale\": [[0.0, \"#0d0887\"], [0.1111111111111111, \"#46039f\"], [0.2222222222222222, \"#7201a8\"], [0.3333333333333333, \"#9c179e\"], [0.4444444444444444, \"#bd3786\"], [0.5555555555555556, \"#d8576b\"], [0.6666666666666666, \"#ed7953\"], [0.7777777777777778, \"#fb9f3a\"], [0.8888888888888888, \"#fdca26\"], [1.0, \"#f0f921\"]], \"type\": \"histogram2d\"}], \"histogram2dcontour\": [{\"colorbar\": {\"outlinewidth\": 0, \"ticks\": \"\"}, \"colorscale\": [[0.0, \"#0d0887\"], [0.1111111111111111, \"#46039f\"], [0.2222222222222222, \"#7201a8\"], [0.3333333333333333, \"#9c179e\"], [0.4444444444444444, \"#bd3786\"], [0.5555555555555556, \"#d8576b\"], [0.6666666666666666, \"#ed7953\"], [0.7777777777777778, \"#fb9f3a\"], [0.8888888888888888, \"#fdca26\"], [1.0, \"#f0f921\"]], \"type\": \"histogram2dcontour\"}], \"mesh3d\": [{\"colorbar\": {\"outlinewidth\": 0, \"ticks\": \"\"}, \"type\": \"mesh3d\"}], \"parcoords\": [{\"line\": {\"colorbar\": {\"outlinewidth\": 0, \"ticks\": \"\"}}, \"type\": \"parcoords\"}], \"pie\": [{\"automargin\": true, \"type\": \"pie\"}], \"scatter\": [{\"marker\": {\"colorbar\": {\"outlinewidth\": 0, \"ticks\": \"\"}}, \"type\": \"scatter\"}], \"scatter3d\": [{\"line\": {\"colorbar\": {\"outlinewidth\": 0, \"ticks\": \"\"}}, \"marker\": {\"colorbar\": {\"outlinewidth\": 0, \"ticks\": \"\"}}, \"type\": \"scatter3d\"}], \"scattercarpet\": [{\"marker\": {\"colorbar\": {\"outlinewidth\": 0, \"ticks\": \"\"}}, \"type\": \"scattercarpet\"}], \"scattergeo\": [{\"marker\": {\"colorbar\": {\"outlinewidth\": 0, \"ticks\": \"\"}}, \"type\": \"scattergeo\"}], \"scattergl\": [{\"marker\": {\"colorbar\": {\"outlinewidth\": 0, \"ticks\": \"\"}}, \"type\": \"scattergl\"}], \"scattermapbox\": [{\"marker\": {\"colorbar\": {\"outlinewidth\": 0, \"ticks\": \"\"}}, \"type\": \"scattermapbox\"}], \"scatterpolar\": [{\"marker\": {\"colorbar\": {\"outlinewidth\": 0, \"ticks\": \"\"}}, \"type\": \"scatterpolar\"}], \"scatterpolargl\": [{\"marker\": {\"colorbar\": {\"outlinewidth\": 0, \"ticks\": \"\"}}, \"type\": \"scatterpolargl\"}], \"scatterternary\": [{\"marker\": {\"colorbar\": {\"outlinewidth\": 0, \"ticks\": \"\"}}, \"type\": \"scatterternary\"}], \"surface\": [{\"colorbar\": {\"outlinewidth\": 0, \"ticks\": \"\"}, \"colorscale\": [[0.0, \"#0d0887\"], [0.1111111111111111, \"#46039f\"], [0.2222222222222222, \"#7201a8\"], [0.3333333333333333, \"#9c179e\"], [0.4444444444444444, \"#bd3786\"], [0.5555555555555556, \"#d8576b\"], [0.6666666666666666, \"#ed7953\"], [0.7777777777777778, \"#fb9f3a\"], [0.8888888888888888, \"#fdca26\"], [1.0, \"#f0f921\"]], \"type\": \"surface\"}], \"table\": [{\"cells\": {\"fill\": {\"color\": \"#EBF0F8\"}, \"line\": {\"color\": \"white\"}}, \"header\": {\"fill\": {\"color\": \"#C8D4E3\"}, \"line\": {\"color\": \"white\"}}, \"type\": \"table\"}]}, \"layout\": {\"annotationdefaults\": {\"arrowcolor\": \"#2a3f5f\", \"arrowhead\": 0, \"arrowwidth\": 1}, \"coloraxis\": {\"colorbar\": {\"outlinewidth\": 0, \"ticks\": \"\"}}, \"colorscale\": {\"diverging\": [[0, \"#8e0152\"], [0.1, \"#c51b7d\"], [0.2, \"#de77ae\"], [0.3, \"#f1b6da\"], [0.4, \"#fde0ef\"], [0.5, \"#f7f7f7\"], [0.6, \"#e6f5d0\"], [0.7, \"#b8e186\"], [0.8, \"#7fbc41\"], [0.9, \"#4d9221\"], [1, \"#276419\"]], \"sequential\": [[0.0, \"#0d0887\"], [0.1111111111111111, \"#46039f\"], [0.2222222222222222, \"#7201a8\"], [0.3333333333333333, \"#9c179e\"], [0.4444444444444444, \"#bd3786\"], [0.5555555555555556, \"#d8576b\"], [0.6666666666666666, \"#ed7953\"], [0.7777777777777778, \"#fb9f3a\"], [0.8888888888888888, \"#fdca26\"], [1.0, \"#f0f921\"]], \"sequentialminus\": [[0.0, \"#0d0887\"], [0.1111111111111111, \"#46039f\"], [0.2222222222222222, \"#7201a8\"], [0.3333333333333333, \"#9c179e\"], [0.4444444444444444, \"#bd3786\"], [0.5555555555555556, \"#d8576b\"], [0.6666666666666666, \"#ed7953\"], [0.7777777777777778, \"#fb9f3a\"], [0.8888888888888888, \"#fdca26\"], [1.0, \"#f0f921\"]]}, \"colorway\": [\"#636efa\", \"#EF553B\", \"#00cc96\", \"#ab63fa\", \"#FFA15A\", \"#19d3f3\", \"#FF6692\", \"#B6E880\", \"#FF97FF\", \"#FECB52\"], \"font\": {\"color\": \"#2a3f5f\"}, \"geo\": {\"bgcolor\": \"white\", \"lakecolor\": \"white\", \"landcolor\": \"#E5ECF6\", \"showlakes\": true, \"showland\": true, \"subunitcolor\": \"white\"}, \"hoverlabel\": {\"align\": \"left\"}, \"hovermode\": \"closest\", \"mapbox\": {\"style\": \"light\"}, \"paper_bgcolor\": \"white\", \"plot_bgcolor\": \"#E5ECF6\", \"polar\": {\"angularaxis\": {\"gridcolor\": \"white\", \"linecolor\": \"white\", \"ticks\": \"\"}, \"bgcolor\": \"#E5ECF6\", \"radialaxis\": {\"gridcolor\": \"white\", \"linecolor\": \"white\", \"ticks\": \"\"}}, \"scene\": {\"xaxis\": {\"backgroundcolor\": \"#E5ECF6\", \"gridcolor\": \"white\", \"gridwidth\": 2, \"linecolor\": \"white\", \"showbackground\": true, \"ticks\": \"\", \"zerolinecolor\": \"white\"}, \"yaxis\": {\"backgroundcolor\": \"#E5ECF6\", \"gridcolor\": \"white\", \"gridwidth\": 2, \"linecolor\": \"white\", \"showbackground\": true, \"ticks\": \"\", \"zerolinecolor\": \"white\"}, \"zaxis\": {\"backgroundcolor\": \"#E5ECF6\", \"gridcolor\": \"white\", \"gridwidth\": 2, \"linecolor\": \"white\", \"showbackground\": true, \"ticks\": \"\", \"zerolinecolor\": \"white\"}}, \"shapedefaults\": {\"line\": {\"color\": \"#2a3f5f\"}}, \"ternary\": {\"aaxis\": {\"gridcolor\": \"white\", \"linecolor\": \"white\", \"ticks\": \"\"}, \"baxis\": {\"gridcolor\": \"white\", \"linecolor\": \"white\", \"ticks\": \"\"}, \"bgcolor\": \"#E5ECF6\", \"caxis\": {\"gridcolor\": \"white\", \"linecolor\": \"white\", \"ticks\": \"\"}}, \"title\": {\"x\": 0.05}, \"xaxis\": {\"automargin\": true, \"gridcolor\": \"white\", \"linecolor\": \"white\", \"ticks\": \"\", \"title\": {\"standoff\": 15}, \"zerolinecolor\": \"white\", \"zerolinewidth\": 2}, \"yaxis\": {\"automargin\": true, \"gridcolor\": \"white\", \"linecolor\": \"white\", \"ticks\": \"\", \"title\": {\"standoff\": 15}, \"zerolinecolor\": \"white\", \"zerolinewidth\": 2}}}, \"updatemenus\": [{\"buttons\": [{\"args\": [{\"title\": \"All\", \"visible\": [true, true, true, true, true, true, true]}], \"label\": \"All\", \"method\": \"update\"}, {\"args\": [{\"visible\": [true, false, false, false]}], \"label\": \"precision\", \"method\": \"update\"}, {\"args\": [{\"visible\": [false, true, false, false]}], \"label\": \"recall\", \"method\": \"update\"}, {\"args\": [{\"visible\": [false, false, true, false]}], \"label\": \"f1-score\", \"method\": \"update\"}, {\"args\": [{\"visible\": [false, false, false, true]}], \"label\": \"accuracy\", \"method\": \"update\"}], \"direction\": \"down\", \"showactive\": true, \"x\": 0.5, \"y\": 1.15}], \"width\": 900},\n",
       "                        {\"responsive\": true}\n",
       "                    ).then(function(){\n",
       "                            \n",
       "var gd = document.getElementById('39b96e7d-0522-403c-8878-860dde47f3a3');\n",
       "var x = new MutationObserver(function (mutations, observer) {{\n",
       "        var display = window.getComputedStyle(gd).display;\n",
       "        if (!display || display === 'none') {{\n",
       "            console.log([gd, 'removed!']);\n",
       "            Plotly.purge(gd);\n",
       "            observer.disconnect();\n",
       "        }}\n",
       "}});\n",
       "\n",
       "// Listen for the removal of the full notebook cells\n",
       "var notebookContainer = gd.closest('#notebook-container');\n",
       "if (notebookContainer) {{\n",
       "    x.observe(notebookContainer, {childList: true});\n",
       "}}\n",
       "\n",
       "// Listen for the clearing of the current output cell\n",
       "var outputEl = gd.closest('.output');\n",
       "if (outputEl) {{\n",
       "    x.observe(outputEl, {childList: true});\n",
       "}}\n",
       "\n",
       "                        })\n",
       "                };\n",
       "                });\n",
       "            </script>\n",
       "        </div>"
      ]
     },
     "metadata": {},
     "output_type": "display_data"
    }
   ],
   "source": [
    "buttons = []\n",
    "ind_list = []\n",
    "\n",
    "fig = go.Figure()\n",
    "\n",
    "for i, column in enumerate(df_ind.index):\n",
    "    #fig.add_trace(go.Pie(labels=df_ind.keys(), values = df_ind.values[i]))\n",
    "    fig.add_trace(go.Bar(x=df_ind.keys(), y = df_ind.values[i], name = column))\n",
    "    fig.update_traces(textposition='inside')\n",
    "    ind_list.append(column)\n",
    "    \n",
    "for i in df_ind.index:\n",
    "    buttons.append(dict(method='update',\n",
    "                        label=i, \n",
    "                        args = [{'visible': [i==r for r in ind_list]}]\n",
    "                       )\n",
    "                  ) \n",
    "button_all = dict(label = 'All',\n",
    "                      method = 'update',\n",
    "                      args = [{'visible': df_ind.columns.isin(df_ind.columns),\n",
    "                               'title': 'All'\n",
    "                               }]\n",
    "                )    \n",
    "    \n",
    "# Add dropdown menus to the figure\n",
    "fig.update_layout(showlegend=True, updatemenus=[{\"buttons\": [button_all] + buttons, \n",
    "                                                  \"direction\": \"down\", \n",
    "                                                 #\"active\": 0, \n",
    "                                                  \"showactive\": True, \n",
    "                                                  \"x\": 0.5, \"y\": 1.15\n",
    "                                                 # \"x\": 1, \"y\": 1.25\n",
    "                                                 }]\n",
    "                 ,width=900, height = 500)    \n",
    "  \n",
    "fig.show()  "
   ]
  },
  {
   "cell_type": "code",
   "execution_count": 139,
   "metadata": {},
   "outputs": [
    {
     "data": {
      "text/html": [
       "\n",
       "        <iframe\n",
       "            width=\"900px\"\n",
       "            height=\"500px\"\n",
       "            src=\"https://plotly.com/~dgbudale/167.embed\"\n",
       "            frameborder=\"0\"\n",
       "            allowfullscreen\n",
       "        ></iframe>\n",
       "        "
      ],
      "text/plain": [
       "<IPython.lib.display.IFrame at 0x1b1ecc3e358>"
      ]
     },
     "execution_count": 139,
     "metadata": {},
     "output_type": "execute_result"
    }
   ],
   "source": [
    "import chart_studio\n",
    "import chart_studio.plotly as py\n",
    "\n",
    "username = 'dgbudale'\n",
    "api_key = 'cT8i6sXKiIORlMZybVxX'\n",
    "chart_studio.tools.set_credentials_file(username=username, api_key=api_key)\n",
    "\n",
    "py.iplot(fig, filename='chart1', auto_open=True)"
   ]
  },
  {
   "cell_type": "code",
   "execution_count": 136,
   "metadata": {},
   "outputs": [
    {
     "name": "stdout",
     "output_type": "stream",
     "text": [
      "True Negatives :  4676\n",
      "False Positives (offer was fail but predicted success):  725\n",
      "False Negatives (offer was success but predicted fail):  407\n",
      "True Positives:  7493\n"
     ]
    }
   ],
   "source": [
    "#extracting true_positives, false_positives, true_negatives, false_negatives\n",
    "tn, fp, fn, tp = confusion_matrix(y_test, prediction_rf_cv.round()).ravel()\n",
    "print(\"True Negatives : \",tn)\n",
    "print(\"False Positives (offer was fail but predicted success): \",fp)\n",
    "print(\"False Negatives (offer was success but predicted fail): \",fn)\n",
    "print(\"True Positives: \",tp)"
   ]
  },
  {
   "cell_type": "code",
   "execution_count": 137,
   "metadata": {},
   "outputs": [
    {
     "name": "stdout",
     "output_type": "stream",
     "text": [
      "True Negatives Rate:  0.8658\n",
      "False Positives Rate (offer was fail but predicted success):  0.1342\n",
      "False Negatives Rate(offer was success but predicted fail):  0.0515\n",
      "True Positives Rate:  0.9485\n"
     ]
    }
   ],
   "source": [
    "#extracting true_positives, false_positives, true_negatives, false_negatives\n",
    "tn, fp, fn, tp = confusion_matrix(y_test, prediction_rf_cv.round()).ravel()\n",
    "print(\"True Negatives Rate: \",round(tn/(tn+fp),4))\n",
    "print(\"False Positives Rate (offer was fail but predicted success): \",round(fp/(fp+tn),4))\n",
    "print(\"False Negatives Rate(offer was success but predicted fail): \",round(fn/(fn+tp),4))\n",
    "print(\"True Positives Rate: \",round(tp/(tp+fn),4))"
   ]
  },
  {
   "cell_type": "code",
   "execution_count": null,
   "metadata": {},
   "outputs": [],
   "source": []
  },
  {
   "cell_type": "code",
   "execution_count": null,
   "metadata": {},
   "outputs": [],
   "source": []
  },
  {
   "cell_type": "code",
   "execution_count": null,
   "metadata": {},
   "outputs": [],
   "source": []
  },
  {
   "cell_type": "code",
   "execution_count": null,
   "metadata": {},
   "outputs": [],
   "source": []
  },
  {
   "cell_type": "code",
   "execution_count": null,
   "metadata": {},
   "outputs": [],
   "source": []
  }
 ],
 "metadata": {
  "kernelspec": {
   "display_name": "Python 3",
   "language": "python",
   "name": "python3"
  },
  "language_info": {
   "codemirror_mode": {
    "name": "ipython",
    "version": 3
   },
   "file_extension": ".py",
   "mimetype": "text/x-python",
   "name": "python",
   "nbconvert_exporter": "python",
   "pygments_lexer": "ipython3",
   "version": "3.6.12"
  }
 },
 "nbformat": 4,
 "nbformat_minor": 2
}
